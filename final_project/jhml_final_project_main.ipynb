{
  "metadata": {
    "kernelspec": {
      "language": "python",
      "display_name": "Python 3",
      "name": "python3"
    },
    "language_info": {
      "pygments_lexer": "ipython3",
      "nbconvert_exporter": "python",
      "version": "3.6.4",
      "file_extension": ".py",
      "codemirror_mode": {
        "name": "ipython",
        "version": 3
      },
      "name": "python",
      "mimetype": "text/x-python"
    },
    "colab": {
      "name": "jhml-final-project-main.ipynb",
      "provenance": []
    },
    "accelerator": "TPU"
  },
  "nbformat_minor": 0,
  "nbformat": 4,
  "cells": [
    {
      "cell_type": "code",
      "source": [
        "# Imports \n",
        "import numpy as np\n",
        "import pandas as pd\n",
        "import seaborn as sns\n",
        "from joblib import dump\n",
        "import matplotlib.pyplot as plt\n",
        "from sklearn.pipeline import Pipeline\n",
        "from sklearn.impute import SimpleImputer\n",
        "from imblearn.over_sampling import SMOTE\n",
        "from pandas.plotting import scatter_matrix \n",
        "from sklearn.compose import ColumnTransformer\n",
        "from sklearn.neural_network import MLPClassifier\n",
        "from sklearn.neighbors import KNeighborsClassifier\n",
        "from sklearn.ensemble import RandomForestClassifier\n",
        "from sklearn.linear_model import LogisticRegression\n",
        "from sklearn.base import TransformerMixin, BaseEstimator \n",
        "from sklearn.preprocessing import StandardScaler, OneHotEncoder\n",
        "from sklearn.model_selection import cross_val_score, cross_val_predict\n",
        "from sklearn.model_selection import StratifiedShuffleSplit, train_test_split, GridSearchCV\n",
        "from sklearn.metrics import confusion_matrix, precision_score, recall_score, f1_score, precision_recall_curve, roc_curve, roc_auc_score, accuracy_score"
      ],
      "metadata": {
        "execution": {
          "iopub.status.busy": "2022-04-16T07:34:00.743178Z",
          "iopub.execute_input": "2022-04-16T07:34:00.743816Z",
          "iopub.status.idle": "2022-04-16T07:34:01.92097Z",
          "shell.execute_reply.started": "2022-04-16T07:34:00.743713Z",
          "shell.execute_reply": "2022-04-16T07:34:01.920221Z"
        },
        "trusted": true,
        "id": "uFEO9X0jll14"
      },
      "execution_count": 2,
      "outputs": []
    },
    {
      "cell_type": "code",
      "source": [
        "# Load dataset\n",
        "stroke_dataset = pd.read_csv('/content/healthcare-dataset-stroke-data.csv')\n",
        "stroke_dataset.head()"
      ],
      "metadata": {
        "_uuid": "8f2839f25d086af736a60e9eeb907d3b93b6e0e5",
        "_cell_guid": "b1076dfc-b9ad-4769-8c92-a6c4dae69d19",
        "execution": {
          "iopub.status.busy": "2022-04-16T07:34:11.299864Z",
          "iopub.execute_input": "2022-04-16T07:34:11.300117Z",
          "iopub.status.idle": "2022-04-16T07:34:11.344829Z",
          "shell.execute_reply.started": "2022-04-16T07:34:11.300088Z",
          "shell.execute_reply": "2022-04-16T07:34:11.344016Z"
        },
        "trusted": true,
        "colab": {
          "base_uri": "https://localhost:8080/",
          "height": 206
        },
        "id": "bSSjwGMmll1-",
        "outputId": "7d45ef34-c8a0-4900-f065-2459f0a3cb05"
      },
      "execution_count": 4,
      "outputs": [
        {
          "output_type": "execute_result",
          "data": {
            "text/plain": [
              "      id  gender   age  hypertension  heart_disease ever_married  \\\n",
              "0   9046    Male  67.0             0              1          Yes   \n",
              "1  51676  Female  61.0             0              0          Yes   \n",
              "2  31112    Male  80.0             0              1          Yes   \n",
              "3  60182  Female  49.0             0              0          Yes   \n",
              "4   1665  Female  79.0             1              0          Yes   \n",
              "\n",
              "       work_type Residence_type  avg_glucose_level   bmi   smoking_status  \\\n",
              "0        Private          Urban             228.69  36.6  formerly smoked   \n",
              "1  Self-employed          Rural             202.21   NaN     never smoked   \n",
              "2        Private          Rural             105.92  32.5     never smoked   \n",
              "3        Private          Urban             171.23  34.4           smokes   \n",
              "4  Self-employed          Rural             174.12  24.0     never smoked   \n",
              "\n",
              "   stroke  \n",
              "0       1  \n",
              "1       1  \n",
              "2       1  \n",
              "3       1  \n",
              "4       1  "
            ],
            "text/html": [
              "\n",
              "  <div id=\"df-230a603a-f667-4faf-ad4e-c8f88b169e2e\">\n",
              "    <div class=\"colab-df-container\">\n",
              "      <div>\n",
              "<style scoped>\n",
              "    .dataframe tbody tr th:only-of-type {\n",
              "        vertical-align: middle;\n",
              "    }\n",
              "\n",
              "    .dataframe tbody tr th {\n",
              "        vertical-align: top;\n",
              "    }\n",
              "\n",
              "    .dataframe thead th {\n",
              "        text-align: right;\n",
              "    }\n",
              "</style>\n",
              "<table border=\"1\" class=\"dataframe\">\n",
              "  <thead>\n",
              "    <tr style=\"text-align: right;\">\n",
              "      <th></th>\n",
              "      <th>id</th>\n",
              "      <th>gender</th>\n",
              "      <th>age</th>\n",
              "      <th>hypertension</th>\n",
              "      <th>heart_disease</th>\n",
              "      <th>ever_married</th>\n",
              "      <th>work_type</th>\n",
              "      <th>Residence_type</th>\n",
              "      <th>avg_glucose_level</th>\n",
              "      <th>bmi</th>\n",
              "      <th>smoking_status</th>\n",
              "      <th>stroke</th>\n",
              "    </tr>\n",
              "  </thead>\n",
              "  <tbody>\n",
              "    <tr>\n",
              "      <th>0</th>\n",
              "      <td>9046</td>\n",
              "      <td>Male</td>\n",
              "      <td>67.0</td>\n",
              "      <td>0</td>\n",
              "      <td>1</td>\n",
              "      <td>Yes</td>\n",
              "      <td>Private</td>\n",
              "      <td>Urban</td>\n",
              "      <td>228.69</td>\n",
              "      <td>36.6</td>\n",
              "      <td>formerly smoked</td>\n",
              "      <td>1</td>\n",
              "    </tr>\n",
              "    <tr>\n",
              "      <th>1</th>\n",
              "      <td>51676</td>\n",
              "      <td>Female</td>\n",
              "      <td>61.0</td>\n",
              "      <td>0</td>\n",
              "      <td>0</td>\n",
              "      <td>Yes</td>\n",
              "      <td>Self-employed</td>\n",
              "      <td>Rural</td>\n",
              "      <td>202.21</td>\n",
              "      <td>NaN</td>\n",
              "      <td>never smoked</td>\n",
              "      <td>1</td>\n",
              "    </tr>\n",
              "    <tr>\n",
              "      <th>2</th>\n",
              "      <td>31112</td>\n",
              "      <td>Male</td>\n",
              "      <td>80.0</td>\n",
              "      <td>0</td>\n",
              "      <td>1</td>\n",
              "      <td>Yes</td>\n",
              "      <td>Private</td>\n",
              "      <td>Rural</td>\n",
              "      <td>105.92</td>\n",
              "      <td>32.5</td>\n",
              "      <td>never smoked</td>\n",
              "      <td>1</td>\n",
              "    </tr>\n",
              "    <tr>\n",
              "      <th>3</th>\n",
              "      <td>60182</td>\n",
              "      <td>Female</td>\n",
              "      <td>49.0</td>\n",
              "      <td>0</td>\n",
              "      <td>0</td>\n",
              "      <td>Yes</td>\n",
              "      <td>Private</td>\n",
              "      <td>Urban</td>\n",
              "      <td>171.23</td>\n",
              "      <td>34.4</td>\n",
              "      <td>smokes</td>\n",
              "      <td>1</td>\n",
              "    </tr>\n",
              "    <tr>\n",
              "      <th>4</th>\n",
              "      <td>1665</td>\n",
              "      <td>Female</td>\n",
              "      <td>79.0</td>\n",
              "      <td>1</td>\n",
              "      <td>0</td>\n",
              "      <td>Yes</td>\n",
              "      <td>Self-employed</td>\n",
              "      <td>Rural</td>\n",
              "      <td>174.12</td>\n",
              "      <td>24.0</td>\n",
              "      <td>never smoked</td>\n",
              "      <td>1</td>\n",
              "    </tr>\n",
              "  </tbody>\n",
              "</table>\n",
              "</div>\n",
              "      <button class=\"colab-df-convert\" onclick=\"convertToInteractive('df-230a603a-f667-4faf-ad4e-c8f88b169e2e')\"\n",
              "              title=\"Convert this dataframe to an interactive table.\"\n",
              "              style=\"display:none;\">\n",
              "        \n",
              "  <svg xmlns=\"http://www.w3.org/2000/svg\" height=\"24px\"viewBox=\"0 0 24 24\"\n",
              "       width=\"24px\">\n",
              "    <path d=\"M0 0h24v24H0V0z\" fill=\"none\"/>\n",
              "    <path d=\"M18.56 5.44l.94 2.06.94-2.06 2.06-.94-2.06-.94-.94-2.06-.94 2.06-2.06.94zm-11 1L8.5 8.5l.94-2.06 2.06-.94-2.06-.94L8.5 2.5l-.94 2.06-2.06.94zm10 10l.94 2.06.94-2.06 2.06-.94-2.06-.94-.94-2.06-.94 2.06-2.06.94z\"/><path d=\"M17.41 7.96l-1.37-1.37c-.4-.4-.92-.59-1.43-.59-.52 0-1.04.2-1.43.59L10.3 9.45l-7.72 7.72c-.78.78-.78 2.05 0 2.83L4 21.41c.39.39.9.59 1.41.59.51 0 1.02-.2 1.41-.59l7.78-7.78 2.81-2.81c.8-.78.8-2.07 0-2.86zM5.41 20L4 18.59l7.72-7.72 1.47 1.35L5.41 20z\"/>\n",
              "  </svg>\n",
              "      </button>\n",
              "      \n",
              "  <style>\n",
              "    .colab-df-container {\n",
              "      display:flex;\n",
              "      flex-wrap:wrap;\n",
              "      gap: 12px;\n",
              "    }\n",
              "\n",
              "    .colab-df-convert {\n",
              "      background-color: #E8F0FE;\n",
              "      border: none;\n",
              "      border-radius: 50%;\n",
              "      cursor: pointer;\n",
              "      display: none;\n",
              "      fill: #1967D2;\n",
              "      height: 32px;\n",
              "      padding: 0 0 0 0;\n",
              "      width: 32px;\n",
              "    }\n",
              "\n",
              "    .colab-df-convert:hover {\n",
              "      background-color: #E2EBFA;\n",
              "      box-shadow: 0px 1px 2px rgba(60, 64, 67, 0.3), 0px 1px 3px 1px rgba(60, 64, 67, 0.15);\n",
              "      fill: #174EA6;\n",
              "    }\n",
              "\n",
              "    [theme=dark] .colab-df-convert {\n",
              "      background-color: #3B4455;\n",
              "      fill: #D2E3FC;\n",
              "    }\n",
              "\n",
              "    [theme=dark] .colab-df-convert:hover {\n",
              "      background-color: #434B5C;\n",
              "      box-shadow: 0px 1px 3px 1px rgba(0, 0, 0, 0.15);\n",
              "      filter: drop-shadow(0px 1px 2px rgba(0, 0, 0, 0.3));\n",
              "      fill: #FFFFFF;\n",
              "    }\n",
              "  </style>\n",
              "\n",
              "      <script>\n",
              "        const buttonEl =\n",
              "          document.querySelector('#df-230a603a-f667-4faf-ad4e-c8f88b169e2e button.colab-df-convert');\n",
              "        buttonEl.style.display =\n",
              "          google.colab.kernel.accessAllowed ? 'block' : 'none';\n",
              "\n",
              "        async function convertToInteractive(key) {\n",
              "          const element = document.querySelector('#df-230a603a-f667-4faf-ad4e-c8f88b169e2e');\n",
              "          const dataTable =\n",
              "            await google.colab.kernel.invokeFunction('convertToInteractive',\n",
              "                                                     [key], {});\n",
              "          if (!dataTable) return;\n",
              "\n",
              "          const docLinkHtml = 'Like what you see? Visit the ' +\n",
              "            '<a target=\"_blank\" href=https://colab.research.google.com/notebooks/data_table.ipynb>data table notebook</a>'\n",
              "            + ' to learn more about interactive tables.';\n",
              "          element.innerHTML = '';\n",
              "          dataTable['output_type'] = 'display_data';\n",
              "          await google.colab.output.renderOutput(dataTable, element);\n",
              "          const docLink = document.createElement('div');\n",
              "          docLink.innerHTML = docLinkHtml;\n",
              "          element.appendChild(docLink);\n",
              "        }\n",
              "      </script>\n",
              "    </div>\n",
              "  </div>\n",
              "  "
            ]
          },
          "metadata": {},
          "execution_count": 4
        }
      ]
    },
    {
      "cell_type": "code",
      "source": [
        "# Clean 'other' value from gender column\n",
        "stroke_dataset = stroke_dataset[stroke_dataset.gender != 'Other']"
      ],
      "metadata": {
        "execution": {
          "iopub.status.busy": "2022-04-16T05:49:21.429337Z",
          "iopub.execute_input": "2022-04-16T05:49:21.430003Z",
          "iopub.status.idle": "2022-04-16T05:49:21.440611Z",
          "shell.execute_reply.started": "2022-04-16T05:49:21.429967Z",
          "shell.execute_reply": "2022-04-16T05:49:21.439537Z"
        },
        "trusted": true,
        "id": "FT3AFjRpll1_"
      },
      "execution_count": 3,
      "outputs": []
    },
    {
      "cell_type": "code",
      "source": [
        "# Explore dataset \n",
        "stroke_dataset.info()\n",
        "\n",
        "\"\"\"\n",
        "    Total entries => 5110 \n",
        "    Data Columns => 12 \n",
        "    Missing Values => bmi column 201 values \n",
        "    None numeric Values => gender, ever_married, work_type, residence_type, smoking_status\n",
        "    Numeric Values => age, hypertension, heart_disease, avg_glucose_level, bmi\n",
        "\"\"\""
      ],
      "metadata": {
        "execution": {
          "iopub.status.busy": "2022-04-16T05:46:14.459044Z",
          "iopub.execute_input": "2022-04-16T05:46:14.459626Z",
          "iopub.status.idle": "2022-04-16T05:46:14.48087Z",
          "shell.execute_reply.started": "2022-04-16T05:46:14.459587Z",
          "shell.execute_reply": "2022-04-16T05:46:14.480224Z"
        },
        "trusted": true,
        "colab": {
          "base_uri": "https://localhost:8080/",
          "height": 434
        },
        "id": "r_Ux3SzIll1_",
        "outputId": "92c6a5db-ad83-49d3-ba2b-9fadf43cc0df"
      },
      "execution_count": 4,
      "outputs": [
        {
          "output_type": "stream",
          "name": "stdout",
          "text": [
            "<class 'pandas.core.frame.DataFrame'>\n",
            "Int64Index: 5109 entries, 0 to 5108\n",
            "Data columns (total 12 columns):\n",
            " #   Column             Non-Null Count  Dtype  \n",
            "---  ------             --------------  -----  \n",
            " 0   id                 5109 non-null   int64  \n",
            " 1   gender             5109 non-null   object \n",
            " 2   age                5109 non-null   float64\n",
            " 3   hypertension       5109 non-null   int64  \n",
            " 4   heart_disease      5109 non-null   int64  \n",
            " 5   ever_married       5109 non-null   object \n",
            " 6   work_type          5109 non-null   object \n",
            " 7   Residence_type     5109 non-null   object \n",
            " 8   avg_glucose_level  5109 non-null   float64\n",
            " 9   bmi                4908 non-null   float64\n",
            " 10  smoking_status     5109 non-null   object \n",
            " 11  stroke             5109 non-null   int64  \n",
            "dtypes: float64(3), int64(4), object(5)\n",
            "memory usage: 518.9+ KB\n"
          ]
        },
        {
          "output_type": "execute_result",
          "data": {
            "text/plain": [
              "'\\n    Total entries => 5110 \\n    Data Columns => 12 \\n    Missing Values => bmi column 201 values \\n    None numeric Values => gender, ever_married, work_type, residence_type, smoking_status\\n    Numeric Values => age, hypertension, heart_disease, avg_glucose_level, bmi\\n'"
            ],
            "application/vnd.google.colaboratory.intrinsic+json": {
              "type": "string"
            }
          },
          "metadata": {},
          "execution_count": 4
        }
      ]
    },
    {
      "cell_type": "code",
      "source": [
        "stroke_dataset.describe()"
      ],
      "metadata": {
        "execution": {
          "iopub.status.busy": "2022-04-16T05:35:06.909239Z",
          "iopub.execute_input": "2022-04-16T05:35:06.909509Z",
          "iopub.status.idle": "2022-04-16T05:35:06.942756Z",
          "shell.execute_reply.started": "2022-04-16T05:35:06.909481Z",
          "shell.execute_reply": "2022-04-16T05:35:06.942041Z"
        },
        "trusted": true,
        "colab": {
          "base_uri": "https://localhost:8080/",
          "height": 300
        },
        "id": "jju6m19wll2A",
        "outputId": "e080a1e0-97ec-4d8d-84e7-295ff43fe8bd"
      },
      "execution_count": 5,
      "outputs": [
        {
          "output_type": "execute_result",
          "data": {
            "text/plain": [
              "                 id          age  hypertension  heart_disease  \\\n",
              "count   5109.000000  5109.000000   5109.000000    5109.000000   \n",
              "mean   36513.985516    43.229986      0.097475       0.054022   \n",
              "std    21162.008804    22.613575      0.296633       0.226084   \n",
              "min       67.000000     0.080000      0.000000       0.000000   \n",
              "25%    17740.000000    25.000000      0.000000       0.000000   \n",
              "50%    36922.000000    45.000000      0.000000       0.000000   \n",
              "75%    54643.000000    61.000000      0.000000       0.000000   \n",
              "max    72940.000000    82.000000      1.000000       1.000000   \n",
              "\n",
              "       avg_glucose_level         bmi       stroke  \n",
              "count        5109.000000  4908.00000  5109.000000  \n",
              "mean          106.140399    28.89456     0.048738  \n",
              "std            45.285004     7.85432     0.215340  \n",
              "min            55.120000    10.30000     0.000000  \n",
              "25%            77.240000    23.50000     0.000000  \n",
              "50%            91.880000    28.10000     0.000000  \n",
              "75%           114.090000    33.10000     0.000000  \n",
              "max           271.740000    97.60000     1.000000  "
            ],
            "text/html": [
              "\n",
              "  <div id=\"df-a57a768d-5190-4b49-91b8-f6e9a678c53b\">\n",
              "    <div class=\"colab-df-container\">\n",
              "      <div>\n",
              "<style scoped>\n",
              "    .dataframe tbody tr th:only-of-type {\n",
              "        vertical-align: middle;\n",
              "    }\n",
              "\n",
              "    .dataframe tbody tr th {\n",
              "        vertical-align: top;\n",
              "    }\n",
              "\n",
              "    .dataframe thead th {\n",
              "        text-align: right;\n",
              "    }\n",
              "</style>\n",
              "<table border=\"1\" class=\"dataframe\">\n",
              "  <thead>\n",
              "    <tr style=\"text-align: right;\">\n",
              "      <th></th>\n",
              "      <th>id</th>\n",
              "      <th>age</th>\n",
              "      <th>hypertension</th>\n",
              "      <th>heart_disease</th>\n",
              "      <th>avg_glucose_level</th>\n",
              "      <th>bmi</th>\n",
              "      <th>stroke</th>\n",
              "    </tr>\n",
              "  </thead>\n",
              "  <tbody>\n",
              "    <tr>\n",
              "      <th>count</th>\n",
              "      <td>5109.000000</td>\n",
              "      <td>5109.000000</td>\n",
              "      <td>5109.000000</td>\n",
              "      <td>5109.000000</td>\n",
              "      <td>5109.000000</td>\n",
              "      <td>4908.00000</td>\n",
              "      <td>5109.000000</td>\n",
              "    </tr>\n",
              "    <tr>\n",
              "      <th>mean</th>\n",
              "      <td>36513.985516</td>\n",
              "      <td>43.229986</td>\n",
              "      <td>0.097475</td>\n",
              "      <td>0.054022</td>\n",
              "      <td>106.140399</td>\n",
              "      <td>28.89456</td>\n",
              "      <td>0.048738</td>\n",
              "    </tr>\n",
              "    <tr>\n",
              "      <th>std</th>\n",
              "      <td>21162.008804</td>\n",
              "      <td>22.613575</td>\n",
              "      <td>0.296633</td>\n",
              "      <td>0.226084</td>\n",
              "      <td>45.285004</td>\n",
              "      <td>7.85432</td>\n",
              "      <td>0.215340</td>\n",
              "    </tr>\n",
              "    <tr>\n",
              "      <th>min</th>\n",
              "      <td>67.000000</td>\n",
              "      <td>0.080000</td>\n",
              "      <td>0.000000</td>\n",
              "      <td>0.000000</td>\n",
              "      <td>55.120000</td>\n",
              "      <td>10.30000</td>\n",
              "      <td>0.000000</td>\n",
              "    </tr>\n",
              "    <tr>\n",
              "      <th>25%</th>\n",
              "      <td>17740.000000</td>\n",
              "      <td>25.000000</td>\n",
              "      <td>0.000000</td>\n",
              "      <td>0.000000</td>\n",
              "      <td>77.240000</td>\n",
              "      <td>23.50000</td>\n",
              "      <td>0.000000</td>\n",
              "    </tr>\n",
              "    <tr>\n",
              "      <th>50%</th>\n",
              "      <td>36922.000000</td>\n",
              "      <td>45.000000</td>\n",
              "      <td>0.000000</td>\n",
              "      <td>0.000000</td>\n",
              "      <td>91.880000</td>\n",
              "      <td>28.10000</td>\n",
              "      <td>0.000000</td>\n",
              "    </tr>\n",
              "    <tr>\n",
              "      <th>75%</th>\n",
              "      <td>54643.000000</td>\n",
              "      <td>61.000000</td>\n",
              "      <td>0.000000</td>\n",
              "      <td>0.000000</td>\n",
              "      <td>114.090000</td>\n",
              "      <td>33.10000</td>\n",
              "      <td>0.000000</td>\n",
              "    </tr>\n",
              "    <tr>\n",
              "      <th>max</th>\n",
              "      <td>72940.000000</td>\n",
              "      <td>82.000000</td>\n",
              "      <td>1.000000</td>\n",
              "      <td>1.000000</td>\n",
              "      <td>271.740000</td>\n",
              "      <td>97.60000</td>\n",
              "      <td>1.000000</td>\n",
              "    </tr>\n",
              "  </tbody>\n",
              "</table>\n",
              "</div>\n",
              "      <button class=\"colab-df-convert\" onclick=\"convertToInteractive('df-a57a768d-5190-4b49-91b8-f6e9a678c53b')\"\n",
              "              title=\"Convert this dataframe to an interactive table.\"\n",
              "              style=\"display:none;\">\n",
              "        \n",
              "  <svg xmlns=\"http://www.w3.org/2000/svg\" height=\"24px\"viewBox=\"0 0 24 24\"\n",
              "       width=\"24px\">\n",
              "    <path d=\"M0 0h24v24H0V0z\" fill=\"none\"/>\n",
              "    <path d=\"M18.56 5.44l.94 2.06.94-2.06 2.06-.94-2.06-.94-.94-2.06-.94 2.06-2.06.94zm-11 1L8.5 8.5l.94-2.06 2.06-.94-2.06-.94L8.5 2.5l-.94 2.06-2.06.94zm10 10l.94 2.06.94-2.06 2.06-.94-2.06-.94-.94-2.06-.94 2.06-2.06.94z\"/><path d=\"M17.41 7.96l-1.37-1.37c-.4-.4-.92-.59-1.43-.59-.52 0-1.04.2-1.43.59L10.3 9.45l-7.72 7.72c-.78.78-.78 2.05 0 2.83L4 21.41c.39.39.9.59 1.41.59.51 0 1.02-.2 1.41-.59l7.78-7.78 2.81-2.81c.8-.78.8-2.07 0-2.86zM5.41 20L4 18.59l7.72-7.72 1.47 1.35L5.41 20z\"/>\n",
              "  </svg>\n",
              "      </button>\n",
              "      \n",
              "  <style>\n",
              "    .colab-df-container {\n",
              "      display:flex;\n",
              "      flex-wrap:wrap;\n",
              "      gap: 12px;\n",
              "    }\n",
              "\n",
              "    .colab-df-convert {\n",
              "      background-color: #E8F0FE;\n",
              "      border: none;\n",
              "      border-radius: 50%;\n",
              "      cursor: pointer;\n",
              "      display: none;\n",
              "      fill: #1967D2;\n",
              "      height: 32px;\n",
              "      padding: 0 0 0 0;\n",
              "      width: 32px;\n",
              "    }\n",
              "\n",
              "    .colab-df-convert:hover {\n",
              "      background-color: #E2EBFA;\n",
              "      box-shadow: 0px 1px 2px rgba(60, 64, 67, 0.3), 0px 1px 3px 1px rgba(60, 64, 67, 0.15);\n",
              "      fill: #174EA6;\n",
              "    }\n",
              "\n",
              "    [theme=dark] .colab-df-convert {\n",
              "      background-color: #3B4455;\n",
              "      fill: #D2E3FC;\n",
              "    }\n",
              "\n",
              "    [theme=dark] .colab-df-convert:hover {\n",
              "      background-color: #434B5C;\n",
              "      box-shadow: 0px 1px 3px 1px rgba(0, 0, 0, 0.15);\n",
              "      filter: drop-shadow(0px 1px 2px rgba(0, 0, 0, 0.3));\n",
              "      fill: #FFFFFF;\n",
              "    }\n",
              "  </style>\n",
              "\n",
              "      <script>\n",
              "        const buttonEl =\n",
              "          document.querySelector('#df-a57a768d-5190-4b49-91b8-f6e9a678c53b button.colab-df-convert');\n",
              "        buttonEl.style.display =\n",
              "          google.colab.kernel.accessAllowed ? 'block' : 'none';\n",
              "\n",
              "        async function convertToInteractive(key) {\n",
              "          const element = document.querySelector('#df-a57a768d-5190-4b49-91b8-f6e9a678c53b');\n",
              "          const dataTable =\n",
              "            await google.colab.kernel.invokeFunction('convertToInteractive',\n",
              "                                                     [key], {});\n",
              "          if (!dataTable) return;\n",
              "\n",
              "          const docLinkHtml = 'Like what you see? Visit the ' +\n",
              "            '<a target=\"_blank\" href=https://colab.research.google.com/notebooks/data_table.ipynb>data table notebook</a>'\n",
              "            + ' to learn more about interactive tables.';\n",
              "          element.innerHTML = '';\n",
              "          dataTable['output_type'] = 'display_data';\n",
              "          await google.colab.output.renderOutput(dataTable, element);\n",
              "          const docLink = document.createElement('div');\n",
              "          docLink.innerHTML = docLinkHtml;\n",
              "          element.appendChild(docLink);\n",
              "        }\n",
              "      </script>\n",
              "    </div>\n",
              "  </div>\n",
              "  "
            ]
          },
          "metadata": {},
          "execution_count": 5
        }
      ]
    },
    {
      "cell_type": "code",
      "source": [
        "# Check the labels for non numeric entries \n",
        "stroke_dataset.value_counts('gender')"
      ],
      "metadata": {
        "execution": {
          "iopub.status.busy": "2022-04-16T05:35:09.881914Z",
          "iopub.execute_input": "2022-04-16T05:35:09.882192Z",
          "iopub.status.idle": "2022-04-16T05:35:09.89095Z",
          "shell.execute_reply.started": "2022-04-16T05:35:09.882161Z",
          "shell.execute_reply": "2022-04-16T05:35:09.890064Z"
        },
        "trusted": true,
        "colab": {
          "base_uri": "https://localhost:8080/"
        },
        "id": "BVONMNItll2C",
        "outputId": "bfff4f6a-99d6-4e23-8a50-d94a6941e354"
      },
      "execution_count": 6,
      "outputs": [
        {
          "output_type": "execute_result",
          "data": {
            "text/plain": [
              "gender\n",
              "Female    2994\n",
              "Male      2115\n",
              "dtype: int64"
            ]
          },
          "metadata": {},
          "execution_count": 6
        }
      ]
    },
    {
      "cell_type": "code",
      "source": [
        "stroke_dataset.value_counts('ever_married')"
      ],
      "metadata": {
        "execution": {
          "iopub.status.busy": "2022-04-16T06:16:41.316461Z",
          "iopub.execute_input": "2022-04-16T06:16:41.316942Z",
          "iopub.status.idle": "2022-04-16T06:16:41.326543Z",
          "shell.execute_reply.started": "2022-04-16T06:16:41.316904Z",
          "shell.execute_reply": "2022-04-16T06:16:41.32576Z"
        },
        "trusted": true,
        "colab": {
          "base_uri": "https://localhost:8080/"
        },
        "id": "LCbBRUNJll2D",
        "outputId": "93037c10-0c8e-40d4-f4e7-8d20adcbaa71"
      },
      "execution_count": 7,
      "outputs": [
        {
          "output_type": "execute_result",
          "data": {
            "text/plain": [
              "ever_married\n",
              "Yes    3353\n",
              "No     1756\n",
              "dtype: int64"
            ]
          },
          "metadata": {},
          "execution_count": 7
        }
      ]
    },
    {
      "cell_type": "code",
      "source": [
        "stroke_dataset.value_counts('work_type')"
      ],
      "metadata": {
        "execution": {
          "iopub.status.busy": "2022-04-16T06:16:44.654306Z",
          "iopub.execute_input": "2022-04-16T06:16:44.654993Z",
          "iopub.status.idle": "2022-04-16T06:16:44.662909Z",
          "shell.execute_reply.started": "2022-04-16T06:16:44.654954Z",
          "shell.execute_reply": "2022-04-16T06:16:44.6621Z"
        },
        "trusted": true,
        "colab": {
          "base_uri": "https://localhost:8080/"
        },
        "id": "94pvrwToll2D",
        "outputId": "979c639e-3946-413e-d7f4-e6d8575c38b2"
      },
      "execution_count": 8,
      "outputs": [
        {
          "output_type": "execute_result",
          "data": {
            "text/plain": [
              "work_type\n",
              "Private          2924\n",
              "Self-employed     819\n",
              "children          687\n",
              "Govt_job          657\n",
              "Never_worked       22\n",
              "dtype: int64"
            ]
          },
          "metadata": {},
          "execution_count": 8
        }
      ]
    },
    {
      "cell_type": "code",
      "source": [
        "stroke_dataset.value_counts('Residence_type')"
      ],
      "metadata": {
        "execution": {
          "iopub.status.busy": "2022-04-16T06:17:26.271496Z",
          "iopub.execute_input": "2022-04-16T06:17:26.271979Z",
          "iopub.status.idle": "2022-04-16T06:17:26.282729Z",
          "shell.execute_reply.started": "2022-04-16T06:17:26.271942Z",
          "shell.execute_reply": "2022-04-16T06:17:26.281925Z"
        },
        "trusted": true,
        "colab": {
          "base_uri": "https://localhost:8080/"
        },
        "id": "e3SM0LMxll2E",
        "outputId": "698cabd7-e9da-434d-d60d-cbfe2a9ae2e6"
      },
      "execution_count": 9,
      "outputs": [
        {
          "output_type": "execute_result",
          "data": {
            "text/plain": [
              "Residence_type\n",
              "Urban    2596\n",
              "Rural    2513\n",
              "dtype: int64"
            ]
          },
          "metadata": {},
          "execution_count": 9
        }
      ]
    },
    {
      "cell_type": "code",
      "source": [
        "stroke_dataset.value_counts('smoking_status')"
      ],
      "metadata": {
        "execution": {
          "iopub.status.busy": "2022-04-16T06:17:41.18265Z",
          "iopub.execute_input": "2022-04-16T06:17:41.182931Z",
          "iopub.status.idle": "2022-04-16T06:17:41.193016Z",
          "shell.execute_reply.started": "2022-04-16T06:17:41.1829Z",
          "shell.execute_reply": "2022-04-16T06:17:41.192187Z"
        },
        "trusted": true,
        "colab": {
          "base_uri": "https://localhost:8080/"
        },
        "id": "qzVP1XKWll2F",
        "outputId": "925e80bc-108d-4f33-ef75-f89812457f04"
      },
      "execution_count": 10,
      "outputs": [
        {
          "output_type": "execute_result",
          "data": {
            "text/plain": [
              "smoking_status\n",
              "never smoked       1892\n",
              "Unknown            1544\n",
              "formerly smoked     884\n",
              "smokes              789\n",
              "dtype: int64"
            ]
          },
          "metadata": {},
          "execution_count": 10
        }
      ]
    },
    {
      "cell_type": "code",
      "source": [
        "# Plot histogram\n",
        "stroke_dataset.hist(bins=30, figsize=(10, 15))\n",
        "plt.show()"
      ],
      "metadata": {
        "execution": {
          "iopub.status.busy": "2022-04-16T05:35:29.336854Z",
          "iopub.execute_input": "2022-04-16T05:35:29.337473Z",
          "iopub.status.idle": "2022-04-16T05:35:30.548362Z",
          "shell.execute_reply.started": "2022-04-16T05:35:29.337433Z",
          "shell.execute_reply": "2022-04-16T05:35:30.546998Z"
        },
        "trusted": true,
        "colab": {
          "base_uri": "https://localhost:8080/",
          "height": 879
        },
        "id": "ihwwVKBcll2F",
        "outputId": "a35aab35-a912-4c01-ea06-e25f8a7fd199"
      },
      "execution_count": 11,
      "outputs": [
        {
          "output_type": "display_data",
          "data": {
            "text/plain": [
              "<Figure size 720x1080 with 9 Axes>"
            ],
            "image/png": "[encoded data removed]"
          },
          "metadata": {
            "needs_background": "light"
          }
        }
      ]
    },
    {
      "cell_type": "code",
      "source": [
        "# Box plot for age and BMI\n",
        "plt.rcParams['font.size'] = '16'\n",
        "sns.set_style('whitegrid')\n",
        "fig, ax = plt.subplots(nrows=1, ncols=2, figsize=[16, 8])\n",
        "fig.patch.set_facecolor('#baa15b')\n",
        "\n",
        "ax[0].set_facecolor('#fcbf12')\n",
        "ax[0].set_title(\"\\nAge Distribution\\n\\n\", fontweight='bold', fontsize=18, color='black')\n",
        "\n",
        "ax[1].set_facecolor('#fcbf12')\n",
        "ax[1].set_title(\"\\nBMI Distribution\\n\\n\", fontweight='bold', fontsize=18, color='black')\n",
        "\n",
        "sns.boxplot(x=stroke_dataset['age'],ax=ax[0], color='#2ae6f7', zorder=3,linewidth=3)\n",
        "sns.boxplot(x=stroke_dataset['bmi'],ax=ax[1],color='#2af750', zorder=3,linewidth=3)\n",
        "\n",
        "for direction in ['top','right','left']:\n",
        "    ax[0].spines[direction].set_visible(False)\n",
        "    ax[1].spines[direction].set_visible(False)\n",
        "\n",
        "ax[0].xaxis.label.set_color('black')\n",
        "ax[0].yaxis.label.set_color('black')\n",
        "ax[0].tick_params(axis='x', colors='black', labelsize=15)    \n",
        "ax[0].tick_params(axis='y', colors='black', labelsize=15)\n",
        "\n",
        "ax[1].xaxis.label.set_color('black')\n",
        "ax[1].yaxis.label.set_color('black')\n",
        "ax[1].tick_params(axis='x', colors='black', labelsize=15)    \n",
        "ax[1].tick_params(axis='y', colors='black', labelsize=15)\n",
        "\n",
        "plt.tight_layout()"
      ],
      "metadata": {
        "execution": {
          "iopub.status.busy": "2022-04-16T05:35:36.301683Z",
          "iopub.execute_input": "2022-04-16T05:35:36.301945Z",
          "iopub.status.idle": "2022-04-16T05:35:36.748642Z",
          "shell.execute_reply.started": "2022-04-16T05:35:36.301916Z",
          "shell.execute_reply": "2022-04-16T05:35:36.747971Z"
        },
        "trusted": true,
        "colab": {
          "base_uri": "https://localhost:8080/",
          "height": 572
        },
        "id": "16EEP-ySll2G",
        "outputId": "32f4d509-1121-4090-a40e-d47d237b6882"
      },
      "execution_count": 12,
      "outputs": [
        {
          "output_type": "display_data",
          "data": {
            "text/plain": [
              "<Figure size 1152x576 with 2 Axes>"
            ],
            "image/png": "[encoded data removed]"
          },
          "metadata": {}
        }
      ]
    },
    {
      "cell_type": "code",
      "source": [
        "# Histogram plot for age distribution\n",
        "fig, ax = plt.subplots(nrows=1, ncols=1, figsize=[12, 4])\n",
        "fig.patch.set_facecolor('#baa15b')\n",
        "ax.set_facecolor('#ffffb3')\n",
        "ax.set_title(\"\\nAge Distribution\\n\\n\", fontweight='bold', fontsize=18, color='black')\n",
        "\n",
        "sns.histplot(data=stroke_dataset, x='age', kde=True, ax=ax, alpha=0.7, color='blue')\n",
        "for direction in ['top','right','left']:\n",
        "    ax.spines[direction].set_visible(False)\n",
        "    ax.spines[direction].set_visible(False)\n",
        "\n",
        "\n",
        "ax.xaxis.label.set_color('black')\n",
        "ax.yaxis.label.set_color('black')\n",
        "ax.tick_params(axis='x', colors='black', labelsize=15)    \n",
        "ax.tick_params(axis='y', colors='black', labelsize=15)"
      ],
      "metadata": {
        "execution": {
          "iopub.status.busy": "2022-04-16T05:35:42.448294Z",
          "iopub.execute_input": "2022-04-16T05:35:42.448554Z",
          "iopub.status.idle": "2022-04-16T05:35:42.76373Z",
          "shell.execute_reply.started": "2022-04-16T05:35:42.448526Z",
          "shell.execute_reply": "2022-04-16T05:35:42.763048Z"
        },
        "trusted": true,
        "colab": {
          "base_uri": "https://localhost:8080/",
          "height": 372
        },
        "id": "k2GIznpYll2H",
        "outputId": "cf573841-68cd-47d2-91ba-44969202303a"
      },
      "execution_count": 13,
      "outputs": [
        {
          "output_type": "display_data",
          "data": {
            "text/plain": [
              "<Figure size 864x288 with 1 Axes>"
            ],
            "image/png": "[encoded data removed]"
          },
          "metadata": {}
        }
      ]
    },
    {
      "cell_type": "code",
      "source": [
        "# Check the gender distribution\n",
        "fig, ax = plt.subplots(nrows=1, ncols=2, figsize=[12, 4])\n",
        "fig.patch.set_facecolor('#ffffb3')\n",
        "ax[0].set_facecolor('#ffffb3')\n",
        "ax[0].set_title(\"\\nGender Distribution\\n\\n\", fontweight='bold', fontsize=18, color='black')\n",
        "\n",
        "ax[1].set_facecolor('#ffffb3')\n",
        "ax[1].set_title(\"\\nGender Distribution\\n\\n\", fontweight='bold', fontsize=18, color='black')\n",
        "\n",
        "sns.countplot(data=stroke_dataset, x='gender', ax=ax[0])\n",
        "sns.countplot(data=stroke_dataset, x='gender', hue='stroke', ax=ax[1])\n",
        "\n",
        "for direction in ['top','right','left']:\n",
        "    ax[0].spines[direction].set_visible(False)\n",
        "    ax[0].spines[direction].set_visible(False)\n",
        "    ax[1].spines[direction].set_visible(False)\n",
        "    ax[1].spines[direction].set_visible(False)\n",
        "\n",
        "\n",
        "ax[0].xaxis.label.set_color('black')\n",
        "ax[0].yaxis.label.set_color('black')\n",
        "ax[0].tick_params(axis='x', colors='black', labelsize=15)    \n",
        "ax[0].tick_params(axis='y', colors='black', labelsize=15)\n",
        "ax[1].xaxis.label.set_color('black')\n",
        "ax[1].yaxis.label.set_color('black')\n",
        "ax[1].tick_params(axis='x', colors='black', labelsize=15)    \n",
        "ax[1].tick_params(axis='y', colors='black', labelsize=15)"
      ],
      "metadata": {
        "execution": {
          "iopub.status.busy": "2022-04-16T05:35:48.174648Z",
          "iopub.execute_input": "2022-04-16T05:35:48.175164Z",
          "iopub.status.idle": "2022-04-16T05:35:48.661443Z",
          "shell.execute_reply.started": "2022-04-16T05:35:48.175117Z",
          "shell.execute_reply": "2022-04-16T05:35:48.660735Z"
        },
        "trusted": true,
        "colab": {
          "base_uri": "https://localhost:8080/",
          "height": 372
        },
        "id": "q9vxc1hgll2H",
        "outputId": "c8d238ef-5e85-4028-fd26-eeeb8a8b907a"
      },
      "execution_count": 14,
      "outputs": [
        {
          "output_type": "display_data",
          "data": {
            "text/plain": [
              "<Figure size 864x288 with 2 Axes>"
            ],
            "image/png": "[encoded data removed]"
          },
          "metadata": {}
        }
      ]
    },
    {
      "cell_type": "code",
      "source": [
        "# Hypertension distribution\n",
        "fig, ax = plt.subplots(nrows=1, ncols=2, figsize=[12, 4])\n",
        "fig.patch.set_facecolor('#ffffb3')\n",
        "ax[0].set_facecolor('#ffffb3')\n",
        "ax[0].set_title(\"\\nHyperTension Distribution\\n\\n\", fontweight='bold', fontsize=18, color='black')\n",
        "\n",
        "ax[1].set_facecolor('#ffffb3')\n",
        "ax[1].set_title(\"\\nHyperTension Distribution\\n\\n\", fontweight='bold', fontsize=18, color='black')\n",
        "\n",
        "sns.countplot(data=stroke_dataset, x='hypertension', ax=ax[0])\n",
        "sns.countplot(data=stroke_dataset, x='hypertension', hue='stroke', ax=ax[1])\n",
        "\n",
        "for direction in ['top','right','left']:\n",
        "    ax[0].spines[direction].set_visible(False)\n",
        "    ax[0].spines[direction].set_visible(False)\n",
        "    ax[1].spines[direction].set_visible(False)\n",
        "    ax[1].spines[direction].set_visible(False)\n",
        "\n",
        "ax[0].xaxis.label.set_color('black')\n",
        "ax[0].yaxis.label.set_color('black')\n",
        "ax[0].tick_params(axis='x', colors='black', labelsize=15)    \n",
        "ax[0].tick_params(axis='y', colors='black', labelsize=15)\n",
        "ax[1].xaxis.label.set_color('black')\n",
        "ax[1].yaxis.label.set_color('black')\n",
        "ax[1].tick_params(axis='x', colors='black', labelsize=15)    \n",
        "ax[1].tick_params(axis='y', colors='black', labelsize=15)\n",
        "\n",
        "plt.tight_layout()"
      ],
      "metadata": {
        "execution": {
          "iopub.status.busy": "2022-04-16T05:35:55.856436Z",
          "iopub.execute_input": "2022-04-16T05:35:55.856754Z",
          "iopub.status.idle": "2022-04-16T05:35:56.175598Z",
          "shell.execute_reply.started": "2022-04-16T05:35:55.856717Z",
          "shell.execute_reply": "2022-04-16T05:35:56.174923Z"
        },
        "trusted": true,
        "colab": {
          "base_uri": "https://localhost:8080/",
          "height": 284
        },
        "id": "G4CQueE7ll2I",
        "outputId": "326dbf19-2d9f-495d-9774-f71f118cbc50"
      },
      "execution_count": 15,
      "outputs": [
        {
          "output_type": "display_data",
          "data": {
            "text/plain": [
              "<Figure size 864x288 with 2 Axes>"
            ],
            "image/png": "[encoded data removed]"
          },
          "metadata": {}
        }
      ]
    },
    {
      "cell_type": "code",
      "source": [
        "# Heart Disease Distribution\n",
        "fig, ax = plt.subplots(nrows=1, ncols=2, figsize=[12, 4])\n",
        "fig.patch.set_facecolor('#ffffb3')\n",
        "ax[0].set_facecolor('#ffffb3')\n",
        "ax[0].set_title(\"\\nHas HeartDisease?\\n\\n\", fontweight='bold', fontsize=18, color='black')\n",
        "\n",
        "ax[1].set_facecolor('#ffffb3')\n",
        "ax[1].set_title(\"\\nHas HeartDisease?\\n\\n\", fontweight='bold', fontsize=18, color='black')\n",
        "\n",
        "sns.countplot(data=stroke_dataset, x='heart_disease', ax=ax[0])\n",
        "sns.countplot(data=stroke_dataset, x='heart_disease', hue='stroke', ax=ax[1])\n",
        "\n",
        "for direction in ['top','right','left']:\n",
        "    ax[0].spines[direction].set_visible(False)\n",
        "    ax[0].spines[direction].set_visible(False)\n",
        "    ax[1].spines[direction].set_visible(False)\n",
        "    ax[1].spines[direction].set_visible(False)\n",
        "\n",
        "\n",
        "ax[0].xaxis.label.set_color('black')\n",
        "ax[0].yaxis.label.set_color('black')\n",
        "ax[0].tick_params(axis='x', colors='black', labelsize=15)    \n",
        "ax[0].tick_params(axis='y', colors='black', labelsize=15)\n",
        "ax[1].xaxis.label.set_color('black')\n",
        "ax[1].yaxis.label.set_color('black')\n",
        "ax[1].tick_params(axis='x', colors='black', labelsize=15)    \n",
        "ax[1].tick_params(axis='y', colors='black', labelsize=15)\n",
        "\n",
        "plt.tight_layout()"
      ],
      "metadata": {
        "execution": {
          "iopub.status.busy": "2022-04-16T05:36:01.402946Z",
          "iopub.execute_input": "2022-04-16T05:36:01.403565Z",
          "iopub.status.idle": "2022-04-16T05:36:01.777608Z",
          "shell.execute_reply.started": "2022-04-16T05:36:01.403522Z",
          "shell.execute_reply": "2022-04-16T05:36:01.776954Z"
        },
        "trusted": true,
        "colab": {
          "base_uri": "https://localhost:8080/",
          "height": 284
        },
        "id": "uI_TZhNsll2J",
        "outputId": "c2138b6e-528f-444f-da4e-8b0b3efab696"
      },
      "execution_count": 16,
      "outputs": [
        {
          "output_type": "display_data",
          "data": {
            "text/plain": [
              "<Figure size 864x288 with 2 Axes>"
            ],
            "image/png": "[encoded data removed]"
          },
          "metadata": {}
        }
      ]
    },
    {
      "cell_type": "code",
      "source": [
        "# Residance histogram plot rural and urban population\n",
        "fig, ax = plt.subplots(nrows=1, ncols=2, figsize=[12, 4])\n",
        "fig.patch.set_facecolor('#ffffb3')\n",
        "ax[0].set_facecolor('#ffffb3')\n",
        "ax[0].set_title(\"\\nResidence Type\\n\\n\", fontweight='bold', fontsize=18, color='black')\n",
        "\n",
        "ax[1].set_facecolor('#ffffb3')\n",
        "ax[1].set_title(\"\\nResidence Type\\n\\n\", fontweight='bold', fontsize=18, color='black')\n",
        "\n",
        "sns.countplot(data=stroke_dataset, x='Residence_type', ax=ax[0])\n",
        "sns.countplot(data=stroke_dataset, x='Residence_type', hue='stroke', ax=ax[1])\n",
        "\n",
        "for direction in ['top','right','left']:\n",
        "    ax[0].spines[direction].set_visible(False)\n",
        "    ax[1].spines[direction].set_visible(False)\n",
        "\n",
        "ax[0].xaxis.label.set_color('black')\n",
        "ax[0].yaxis.label.set_color('black')\n",
        "ax[0].tick_params(axis='x', colors='black', labelsize=15)    \n",
        "ax[0].tick_params(axis='y', colors='black', labelsize=15)\n",
        "ax[1].xaxis.label.set_color('black')\n",
        "ax[1].yaxis.label.set_color('black')\n",
        "ax[1].tick_params(axis='x', colors='black', labelsize=15)    \n",
        "ax[1].tick_params(axis='y', colors='black', labelsize=15)\n",
        "\n",
        "plt.tight_layout()"
      ],
      "metadata": {
        "execution": {
          "iopub.status.busy": "2022-04-16T05:36:07.654964Z",
          "iopub.execute_input": "2022-04-16T05:36:07.655532Z",
          "iopub.status.idle": "2022-04-16T05:36:08.003662Z",
          "shell.execute_reply.started": "2022-04-16T05:36:07.655493Z",
          "shell.execute_reply": "2022-04-16T05:36:08.002968Z"
        },
        "trusted": true,
        "colab": {
          "base_uri": "https://localhost:8080/",
          "height": 284
        },
        "id": "V7J35Lfqll2J",
        "outputId": "e2b8f94e-0bf6-44b9-97c1-9066f39bfddb"
      },
      "execution_count": 17,
      "outputs": [
        {
          "output_type": "display_data",
          "data": {
            "text/plain": [
              "<Figure size 864x288 with 2 Axes>"
            ],
            "image/png": "[encoded data removed]"
          },
          "metadata": {}
        }
      ]
    },
    {
      "cell_type": "code",
      "source": [
        "# Check out features correlation \n",
        "corr = stroke_dataset.corr()\n",
        "corr['stroke'].sort_values(ascending=False)"
      ],
      "metadata": {
        "execution": {
          "iopub.status.busy": "2022-04-16T05:36:14.292836Z",
          "iopub.execute_input": "2022-04-16T05:36:14.293096Z",
          "iopub.status.idle": "2022-04-16T05:36:14.303242Z",
          "shell.execute_reply.started": "2022-04-16T05:36:14.293068Z",
          "shell.execute_reply": "2022-04-16T05:36:14.302198Z"
        },
        "trusted": true,
        "colab": {
          "base_uri": "https://localhost:8080/"
        },
        "id": "luwZXt8Ull2K",
        "outputId": "80edba70-755f-4845-d750-018d808e3330"
      },
      "execution_count": 18,
      "outputs": [
        {
          "output_type": "execute_result",
          "data": {
            "text/plain": [
              "stroke               1.000000\n",
              "age                  0.245239\n",
              "heart_disease        0.134905\n",
              "avg_glucose_level    0.131991\n",
              "hypertension         0.127891\n",
              "bmi                  0.042341\n",
              "id                   0.006430\n",
              "Name: stroke, dtype: float64"
            ]
          },
          "metadata": {},
          "execution_count": 18
        }
      ]
    },
    {
      "cell_type": "code",
      "source": [
        "# Correlation plot for stroke \n",
        "mask = np.zeros_like(stroke_dataset.corr())\n",
        "tri_ind = np.tril_indices_from(mask)\n",
        "mask[tri_ind] = True\n",
        "\n",
        "fig, ax = plt.subplots(nrows=1, ncols=1, figsize=[12, 4])\n",
        "fig.patch.set_facecolor('#ffffb3')\n",
        "ax.set_facecolor('#ffffb3')\n",
        "ax.set_title(\"\\nCorrelation Plot\\n\\n\", fontweight='bold', fontsize=18, color='black')\n",
        "\n",
        "sns.heatmap(data=stroke_dataset.corr(), annot=True, mask=mask, ax=ax)\n",
        "\n",
        "for direction in ['top','right','left']:\n",
        "    ax.spines[direction].set_visible(False)\n",
        "    ax.spines[direction].set_visible(False)\n",
        "\n",
        "\n",
        "ax.xaxis.label.set_color('black')\n",
        "ax.yaxis.label.set_color('black')\n",
        "ax.tick_params(axis='x', colors='black', labelsize=15)    \n",
        "ax.tick_params(axis='y', colors='black', labelsize=15)"
      ],
      "metadata": {
        "execution": {
          "iopub.status.busy": "2022-04-16T05:36:16.47825Z",
          "iopub.execute_input": "2022-04-16T05:36:16.478797Z",
          "iopub.status.idle": "2022-04-16T05:36:16.852538Z",
          "shell.execute_reply.started": "2022-04-16T05:36:16.478758Z",
          "shell.execute_reply": "2022-04-16T05:36:16.851839Z"
        },
        "trusted": true,
        "colab": {
          "base_uri": "https://localhost:8080/",
          "height": 474
        },
        "id": "SD1DkPdNll2K",
        "outputId": "ae2bb8d0-746f-411f-fdca-3f433de9f41c"
      },
      "execution_count": 19,
      "outputs": [
        {
          "output_type": "display_data",
          "data": {
            "text/plain": [
              "<Figure size 864x288 with 2 Axes>"
            ],
            "image/png": "[encoded data removed]"
          },
          "metadata": {}
        }
      ]
    },
    {
      "cell_type": "code",
      "source": [
        "stroke_dataset.head()"
      ],
      "metadata": {
        "execution": {
          "iopub.status.busy": "2022-04-16T05:49:37.93306Z",
          "iopub.execute_input": "2022-04-16T05:49:37.933413Z",
          "iopub.status.idle": "2022-04-16T05:49:37.950637Z",
          "shell.execute_reply.started": "2022-04-16T05:49:37.933372Z",
          "shell.execute_reply": "2022-04-16T05:49:37.948705Z"
        },
        "trusted": true,
        "colab": {
          "base_uri": "https://localhost:8080/",
          "height": 206
        },
        "id": "9q3M2OM6ll2K",
        "outputId": "5f1ab869-ae2e-4ea2-c5a9-9b050c5bf64b"
      },
      "execution_count": 20,
      "outputs": [
        {
          "output_type": "execute_result",
          "data": {
            "text/plain": [
              "      id  gender   age  hypertension  heart_disease ever_married  \\\n",
              "0   9046    Male  67.0             0              1          Yes   \n",
              "1  51676  Female  61.0             0              0          Yes   \n",
              "2  31112    Male  80.0             0              1          Yes   \n",
              "3  60182  Female  49.0             0              0          Yes   \n",
              "4   1665  Female  79.0             1              0          Yes   \n",
              "\n",
              "       work_type Residence_type  avg_glucose_level   bmi   smoking_status  \\\n",
              "0        Private          Urban             228.69  36.6  formerly smoked   \n",
              "1  Self-employed          Rural             202.21   NaN     never smoked   \n",
              "2        Private          Rural             105.92  32.5     never smoked   \n",
              "3        Private          Urban             171.23  34.4           smokes   \n",
              "4  Self-employed          Rural             174.12  24.0     never smoked   \n",
              "\n",
              "   stroke  \n",
              "0       1  \n",
              "1       1  \n",
              "2       1  \n",
              "3       1  \n",
              "4       1  "
            ],
            "text/html": [
              "\n",
              "  <div id=\"df-bf921920-50a1-4e60-a533-460360338f3a\">\n",
              "    <div class=\"colab-df-container\">\n",
              "      <div>\n",
              "<style scoped>\n",
              "    .dataframe tbody tr th:only-of-type {\n",
              "        vertical-align: middle;\n",
              "    }\n",
              "\n",
              "    .dataframe tbody tr th {\n",
              "        vertical-align: top;\n",
              "    }\n",
              "\n",
              "    .dataframe thead th {\n",
              "        text-align: right;\n",
              "    }\n",
              "</style>\n",
              "<table border=\"1\" class=\"dataframe\">\n",
              "  <thead>\n",
              "    <tr style=\"text-align: right;\">\n",
              "      <th></th>\n",
              "      <th>id</th>\n",
              "      <th>gender</th>\n",
              "      <th>age</th>\n",
              "      <th>hypertension</th>\n",
              "      <th>heart_disease</th>\n",
              "      <th>ever_married</th>\n",
              "      <th>work_type</th>\n",
              "      <th>Residence_type</th>\n",
              "      <th>avg_glucose_level</th>\n",
              "      <th>bmi</th>\n",
              "      <th>smoking_status</th>\n",
              "      <th>stroke</th>\n",
              "    </tr>\n",
              "  </thead>\n",
              "  <tbody>\n",
              "    <tr>\n",
              "      <th>0</th>\n",
              "      <td>9046</td>\n",
              "      <td>Male</td>\n",
              "      <td>67.0</td>\n",
              "      <td>0</td>\n",
              "      <td>1</td>\n",
              "      <td>Yes</td>\n",
              "      <td>Private</td>\n",
              "      <td>Urban</td>\n",
              "      <td>228.69</td>\n",
              "      <td>36.6</td>\n",
              "      <td>formerly smoked</td>\n",
              "      <td>1</td>\n",
              "    </tr>\n",
              "    <tr>\n",
              "      <th>1</th>\n",
              "      <td>51676</td>\n",
              "      <td>Female</td>\n",
              "      <td>61.0</td>\n",
              "      <td>0</td>\n",
              "      <td>0</td>\n",
              "      <td>Yes</td>\n",
              "      <td>Self-employed</td>\n",
              "      <td>Rural</td>\n",
              "      <td>202.21</td>\n",
              "      <td>NaN</td>\n",
              "      <td>never smoked</td>\n",
              "      <td>1</td>\n",
              "    </tr>\n",
              "    <tr>\n",
              "      <th>2</th>\n",
              "      <td>31112</td>\n",
              "      <td>Male</td>\n",
              "      <td>80.0</td>\n",
              "      <td>0</td>\n",
              "      <td>1</td>\n",
              "      <td>Yes</td>\n",
              "      <td>Private</td>\n",
              "      <td>Rural</td>\n",
              "      <td>105.92</td>\n",
              "      <td>32.5</td>\n",
              "      <td>never smoked</td>\n",
              "      <td>1</td>\n",
              "    </tr>\n",
              "    <tr>\n",
              "      <th>3</th>\n",
              "      <td>60182</td>\n",
              "      <td>Female</td>\n",
              "      <td>49.0</td>\n",
              "      <td>0</td>\n",
              "      <td>0</td>\n",
              "      <td>Yes</td>\n",
              "      <td>Private</td>\n",
              "      <td>Urban</td>\n",
              "      <td>171.23</td>\n",
              "      <td>34.4</td>\n",
              "      <td>smokes</td>\n",
              "      <td>1</td>\n",
              "    </tr>\n",
              "    <tr>\n",
              "      <th>4</th>\n",
              "      <td>1665</td>\n",
              "      <td>Female</td>\n",
              "      <td>79.0</td>\n",
              "      <td>1</td>\n",
              "      <td>0</td>\n",
              "      <td>Yes</td>\n",
              "      <td>Self-employed</td>\n",
              "      <td>Rural</td>\n",
              "      <td>174.12</td>\n",
              "      <td>24.0</td>\n",
              "      <td>never smoked</td>\n",
              "      <td>1</td>\n",
              "    </tr>\n",
              "  </tbody>\n",
              "</table>\n",
              "</div>\n",
              "      <button class=\"colab-df-convert\" onclick=\"convertToInteractive('df-bf921920-50a1-4e60-a533-460360338f3a')\"\n",
              "              title=\"Convert this dataframe to an interactive table.\"\n",
              "              style=\"display:none;\">\n",
              "        \n",
              "  <svg xmlns=\"http://www.w3.org/2000/svg\" height=\"24px\"viewBox=\"0 0 24 24\"\n",
              "       width=\"24px\">\n",
              "    <path d=\"M0 0h24v24H0V0z\" fill=\"none\"/>\n",
              "    <path d=\"M18.56 5.44l.94 2.06.94-2.06 2.06-.94-2.06-.94-.94-2.06-.94 2.06-2.06.94zm-11 1L8.5 8.5l.94-2.06 2.06-.94-2.06-.94L8.5 2.5l-.94 2.06-2.06.94zm10 10l.94 2.06.94-2.06 2.06-.94-2.06-.94-.94-2.06-.94 2.06-2.06.94z\"/><path d=\"M17.41 7.96l-1.37-1.37c-.4-.4-.92-.59-1.43-.59-.52 0-1.04.2-1.43.59L10.3 9.45l-7.72 7.72c-.78.78-.78 2.05 0 2.83L4 21.41c.39.39.9.59 1.41.59.51 0 1.02-.2 1.41-.59l7.78-7.78 2.81-2.81c.8-.78.8-2.07 0-2.86zM5.41 20L4 18.59l7.72-7.72 1.47 1.35L5.41 20z\"/>\n",
              "  </svg>\n",
              "      </button>\n",
              "      \n",
              "  <style>\n",
              "    .colab-df-container {\n",
              "      display:flex;\n",
              "      flex-wrap:wrap;\n",
              "      gap: 12px;\n",
              "    }\n",
              "\n",
              "    .colab-df-convert {\n",
              "      background-color: #E8F0FE;\n",
              "      border: none;\n",
              "      border-radius: 50%;\n",
              "      cursor: pointer;\n",
              "      display: none;\n",
              "      fill: #1967D2;\n",
              "      height: 32px;\n",
              "      padding: 0 0 0 0;\n",
              "      width: 32px;\n",
              "    }\n",
              "\n",
              "    .colab-df-convert:hover {\n",
              "      background-color: #E2EBFA;\n",
              "      box-shadow: 0px 1px 2px rgba(60, 64, 67, 0.3), 0px 1px 3px 1px rgba(60, 64, 67, 0.15);\n",
              "      fill: #174EA6;\n",
              "    }\n",
              "\n",
              "    [theme=dark] .colab-df-convert {\n",
              "      background-color: #3B4455;\n",
              "      fill: #D2E3FC;\n",
              "    }\n",
              "\n",
              "    [theme=dark] .colab-df-convert:hover {\n",
              "      background-color: #434B5C;\n",
              "      box-shadow: 0px 1px 3px 1px rgba(0, 0, 0, 0.15);\n",
              "      filter: drop-shadow(0px 1px 2px rgba(0, 0, 0, 0.3));\n",
              "      fill: #FFFFFF;\n",
              "    }\n",
              "  </style>\n",
              "\n",
              "      <script>\n",
              "        const buttonEl =\n",
              "          document.querySelector('#df-bf921920-50a1-4e60-a533-460360338f3a button.colab-df-convert');\n",
              "        buttonEl.style.display =\n",
              "          google.colab.kernel.accessAllowed ? 'block' : 'none';\n",
              "\n",
              "        async function convertToInteractive(key) {\n",
              "          const element = document.querySelector('#df-bf921920-50a1-4e60-a533-460360338f3a');\n",
              "          const dataTable =\n",
              "            await google.colab.kernel.invokeFunction('convertToInteractive',\n",
              "                                                     [key], {});\n",
              "          if (!dataTable) return;\n",
              "\n",
              "          const docLinkHtml = 'Like what you see? Visit the ' +\n",
              "            '<a target=\"_blank\" href=https://colab.research.google.com/notebooks/data_table.ipynb>data table notebook</a>'\n",
              "            + ' to learn more about interactive tables.';\n",
              "          element.innerHTML = '';\n",
              "          dataTable['output_type'] = 'display_data';\n",
              "          await google.colab.output.renderOutput(dataTable, element);\n",
              "          const docLink = document.createElement('div');\n",
              "          docLink.innerHTML = docLinkHtml;\n",
              "          element.appendChild(docLink);\n",
              "        }\n",
              "      </script>\n",
              "    </div>\n",
              "  </div>\n",
              "  "
            ]
          },
          "metadata": {},
          "execution_count": 20
        }
      ]
    },
    {
      "cell_type": "code",
      "source": [
        "# Get X and Y values \n",
        "X = stroke_dataset.iloc[:, :-1]\n",
        "y = stroke_dataset.iloc[:, -1]"
      ],
      "metadata": {
        "execution": {
          "iopub.status.busy": "2022-04-16T07:34:28.903092Z",
          "iopub.execute_input": "2022-04-16T07:34:28.903376Z",
          "iopub.status.idle": "2022-04-16T07:34:28.911849Z",
          "shell.execute_reply.started": "2022-04-16T07:34:28.903341Z",
          "shell.execute_reply": "2022-04-16T07:34:28.911068Z"
        },
        "trusted": true,
        "id": "qyhZHbpcll2L"
      },
      "execution_count": 5,
      "outputs": []
    },
    {
      "cell_type": "code",
      "source": [
        "# Split the data\n",
        "X_train, X_test, y_train, y_test = train_test_split(X, y, test_size=0.2, random_state=42)"
      ],
      "metadata": {
        "execution": {
          "iopub.status.busy": "2022-04-16T07:34:30.847591Z",
          "iopub.execute_input": "2022-04-16T07:34:30.848116Z",
          "iopub.status.idle": "2022-04-16T07:34:30.855905Z",
          "shell.execute_reply.started": "2022-04-16T07:34:30.848078Z",
          "shell.execute_reply": "2022-04-16T07:34:30.855215Z"
        },
        "trusted": true,
        "id": "Otgc7m1-ll2L"
      },
      "execution_count": 6,
      "outputs": []
    },
    {
      "cell_type": "code",
      "source": [
        "pd.DataFrame(y_train).value_counts()"
      ],
      "metadata": {
        "execution": {
          "iopub.status.busy": "2022-04-16T07:34:35.692136Z",
          "iopub.execute_input": "2022-04-16T07:34:35.692418Z",
          "iopub.status.idle": "2022-04-16T07:34:35.709922Z",
          "shell.execute_reply.started": "2022-04-16T07:34:35.692387Z",
          "shell.execute_reply": "2022-04-16T07:34:35.709214Z"
        },
        "trusted": true,
        "colab": {
          "base_uri": "https://localhost:8080/"
        },
        "id": "59K_H643ll2L",
        "outputId": "fe9290eb-0bda-4c30-a3dc-d1dc29ac258b"
      },
      "execution_count": 23,
      "outputs": [
        {
          "output_type": "execute_result",
          "data": {
            "text/plain": [
              "stroke\n",
              "0         3900\n",
              "1          187\n",
              "dtype: int64"
            ]
          },
          "metadata": {},
          "execution_count": 23
        }
      ]
    },
    {
      "cell_type": "code",
      "source": [
        "# Remove the ID column\n",
        "for set_ in (X_train, X_test):\n",
        "    set_.drop(\"id\", axis=1, inplace=True)"
      ],
      "metadata": {
        "execution": {
          "iopub.status.busy": "2022-04-16T07:34:37.746106Z",
          "iopub.execute_input": "2022-04-16T07:34:37.746391Z",
          "iopub.status.idle": "2022-04-16T07:34:37.753064Z",
          "shell.execute_reply.started": "2022-04-16T07:34:37.746361Z",
          "shell.execute_reply": "2022-04-16T07:34:37.75206Z"
        },
        "trusted": true,
        "id": "vYG7LiAOll2M"
      },
      "execution_count": 7,
      "outputs": []
    },
    {
      "cell_type": "code",
      "source": [
        "X_test.head()"
      ],
      "metadata": {
        "execution": {
          "iopub.status.busy": "2022-04-16T07:34:39.759248Z",
          "iopub.execute_input": "2022-04-16T07:34:39.759523Z",
          "iopub.status.idle": "2022-04-16T07:34:39.772715Z",
          "shell.execute_reply.started": "2022-04-16T07:34:39.759495Z",
          "shell.execute_reply": "2022-04-16T07:34:39.772025Z"
        },
        "trusted": true,
        "colab": {
          "base_uri": "https://localhost:8080/",
          "height": 206
        },
        "id": "89Od1G7yll2M",
        "outputId": "69e45129-8413-42d6-b7d5-d09cd475db98"
      },
      "execution_count": 25,
      "outputs": [
        {
          "output_type": "execute_result",
          "data": {
            "text/plain": [
              "      gender   age  hypertension  heart_disease ever_married      work_type  \\\n",
              "4687    Male  31.0             0              0           No  Self-employed   \n",
              "4477    Male  40.0             0              0          Yes  Self-employed   \n",
              "3520    Male  52.0             0              0          Yes        Private   \n",
              "4354  Female  79.0             1              0          Yes  Self-employed   \n",
              "3825  Female  75.0             0              0          Yes       Govt_job   \n",
              "\n",
              "     Residence_type  avg_glucose_level   bmi smoking_status  \n",
              "4687          Rural              64.85  23.0        Unknown  \n",
              "4477          Rural              65.29  28.3   never smoked  \n",
              "3520          Rural             111.04  30.0   never smoked  \n",
              "4354          Rural              76.64  19.5   never smoked  \n",
              "3825          Rural              94.77  27.2   never smoked  "
            ],
            "text/html": [
              "\n",
              "  <div id=\"df-fc827864-2522-495f-a63b-141e26f2d727\">\n",
              "    <div class=\"colab-df-container\">\n",
              "      <div>\n",
              "<style scoped>\n",
              "    .dataframe tbody tr th:only-of-type {\n",
              "        vertical-align: middle;\n",
              "    }\n",
              "\n",
              "    .dataframe tbody tr th {\n",
              "        vertical-align: top;\n",
              "    }\n",
              "\n",
              "    .dataframe thead th {\n",
              "        text-align: right;\n",
              "    }\n",
              "</style>\n",
              "<table border=\"1\" class=\"dataframe\">\n",
              "  <thead>\n",
              "    <tr style=\"text-align: right;\">\n",
              "      <th></th>\n",
              "      <th>gender</th>\n",
              "      <th>age</th>\n",
              "      <th>hypertension</th>\n",
              "      <th>heart_disease</th>\n",
              "      <th>ever_married</th>\n",
              "      <th>work_type</th>\n",
              "      <th>Residence_type</th>\n",
              "      <th>avg_glucose_level</th>\n",
              "      <th>bmi</th>\n",
              "      <th>smoking_status</th>\n",
              "    </tr>\n",
              "  </thead>\n",
              "  <tbody>\n",
              "    <tr>\n",
              "      <th>4687</th>\n",
              "      <td>Male</td>\n",
              "      <td>31.0</td>\n",
              "      <td>0</td>\n",
              "      <td>0</td>\n",
              "      <td>No</td>\n",
              "      <td>Self-employed</td>\n",
              "      <td>Rural</td>\n",
              "      <td>64.85</td>\n",
              "      <td>23.0</td>\n",
              "      <td>Unknown</td>\n",
              "    </tr>\n",
              "    <tr>\n",
              "      <th>4477</th>\n",
              "      <td>Male</td>\n",
              "      <td>40.0</td>\n",
              "      <td>0</td>\n",
              "      <td>0</td>\n",
              "      <td>Yes</td>\n",
              "      <td>Self-employed</td>\n",
              "      <td>Rural</td>\n",
              "      <td>65.29</td>\n",
              "      <td>28.3</td>\n",
              "      <td>never smoked</td>\n",
              "    </tr>\n",
              "    <tr>\n",
              "      <th>3520</th>\n",
              "      <td>Male</td>\n",
              "      <td>52.0</td>\n",
              "      <td>0</td>\n",
              "      <td>0</td>\n",
              "      <td>Yes</td>\n",
              "      <td>Private</td>\n",
              "      <td>Rural</td>\n",
              "      <td>111.04</td>\n",
              "      <td>30.0</td>\n",
              "      <td>never smoked</td>\n",
              "    </tr>\n",
              "    <tr>\n",
              "      <th>4354</th>\n",
              "      <td>Female</td>\n",
              "      <td>79.0</td>\n",
              "      <td>1</td>\n",
              "      <td>0</td>\n",
              "      <td>Yes</td>\n",
              "      <td>Self-employed</td>\n",
              "      <td>Rural</td>\n",
              "      <td>76.64</td>\n",
              "      <td>19.5</td>\n",
              "      <td>never smoked</td>\n",
              "    </tr>\n",
              "    <tr>\n",
              "      <th>3825</th>\n",
              "      <td>Female</td>\n",
              "      <td>75.0</td>\n",
              "      <td>0</td>\n",
              "      <td>0</td>\n",
              "      <td>Yes</td>\n",
              "      <td>Govt_job</td>\n",
              "      <td>Rural</td>\n",
              "      <td>94.77</td>\n",
              "      <td>27.2</td>\n",
              "      <td>never smoked</td>\n",
              "    </tr>\n",
              "  </tbody>\n",
              "</table>\n",
              "</div>\n",
              "      <button class=\"colab-df-convert\" onclick=\"convertToInteractive('df-fc827864-2522-495f-a63b-141e26f2d727')\"\n",
              "              title=\"Convert this dataframe to an interactive table.\"\n",
              "              style=\"display:none;\">\n",
              "        \n",
              "  <svg xmlns=\"http://www.w3.org/2000/svg\" height=\"24px\"viewBox=\"0 0 24 24\"\n",
              "       width=\"24px\">\n",
              "    <path d=\"M0 0h24v24H0V0z\" fill=\"none\"/>\n",
              "    <path d=\"M18.56 5.44l.94 2.06.94-2.06 2.06-.94-2.06-.94-.94-2.06-.94 2.06-2.06.94zm-11 1L8.5 8.5l.94-2.06 2.06-.94-2.06-.94L8.5 2.5l-.94 2.06-2.06.94zm10 10l.94 2.06.94-2.06 2.06-.94-2.06-.94-.94-2.06-.94 2.06-2.06.94z\"/><path d=\"M17.41 7.96l-1.37-1.37c-.4-.4-.92-.59-1.43-.59-.52 0-1.04.2-1.43.59L10.3 9.45l-7.72 7.72c-.78.78-.78 2.05 0 2.83L4 21.41c.39.39.9.59 1.41.59.51 0 1.02-.2 1.41-.59l7.78-7.78 2.81-2.81c.8-.78.8-2.07 0-2.86zM5.41 20L4 18.59l7.72-7.72 1.47 1.35L5.41 20z\"/>\n",
              "  </svg>\n",
              "      </button>\n",
              "      \n",
              "  <style>\n",
              "    .colab-df-container {\n",
              "      display:flex;\n",
              "      flex-wrap:wrap;\n",
              "      gap: 12px;\n",
              "    }\n",
              "\n",
              "    .colab-df-convert {\n",
              "      background-color: #E8F0FE;\n",
              "      border: none;\n",
              "      border-radius: 50%;\n",
              "      cursor: pointer;\n",
              "      display: none;\n",
              "      fill: #1967D2;\n",
              "      height: 32px;\n",
              "      padding: 0 0 0 0;\n",
              "      width: 32px;\n",
              "    }\n",
              "\n",
              "    .colab-df-convert:hover {\n",
              "      background-color: #E2EBFA;\n",
              "      box-shadow: 0px 1px 2px rgba(60, 64, 67, 0.3), 0px 1px 3px 1px rgba(60, 64, 67, 0.15);\n",
              "      fill: #174EA6;\n",
              "    }\n",
              "\n",
              "    [theme=dark] .colab-df-convert {\n",
              "      background-color: #3B4455;\n",
              "      fill: #D2E3FC;\n",
              "    }\n",
              "\n",
              "    [theme=dark] .colab-df-convert:hover {\n",
              "      background-color: #434B5C;\n",
              "      box-shadow: 0px 1px 3px 1px rgba(0, 0, 0, 0.15);\n",
              "      filter: drop-shadow(0px 1px 2px rgba(0, 0, 0, 0.3));\n",
              "      fill: #FFFFFF;\n",
              "    }\n",
              "  </style>\n",
              "\n",
              "      <script>\n",
              "        const buttonEl =\n",
              "          document.querySelector('#df-fc827864-2522-495f-a63b-141e26f2d727 button.colab-df-convert');\n",
              "        buttonEl.style.display =\n",
              "          google.colab.kernel.accessAllowed ? 'block' : 'none';\n",
              "\n",
              "        async function convertToInteractive(key) {\n",
              "          const element = document.querySelector('#df-fc827864-2522-495f-a63b-141e26f2d727');\n",
              "          const dataTable =\n",
              "            await google.colab.kernel.invokeFunction('convertToInteractive',\n",
              "                                                     [key], {});\n",
              "          if (!dataTable) return;\n",
              "\n",
              "          const docLinkHtml = 'Like what you see? Visit the ' +\n",
              "            '<a target=\"_blank\" href=https://colab.research.google.com/notebooks/data_table.ipynb>data table notebook</a>'\n",
              "            + ' to learn more about interactive tables.';\n",
              "          element.innerHTML = '';\n",
              "          dataTable['output_type'] = 'display_data';\n",
              "          await google.colab.output.renderOutput(dataTable, element);\n",
              "          const docLink = document.createElement('div');\n",
              "          docLink.innerHTML = docLinkHtml;\n",
              "          element.appendChild(docLink);\n",
              "        }\n",
              "      </script>\n",
              "    </div>\n",
              "  </div>\n",
              "  "
            ]
          },
          "metadata": {},
          "execution_count": 25
        }
      ]
    },
    {
      "cell_type": "code",
      "source": [
        "# Create custom transformer to add attributes \n",
        "age_index, avg_glucose_index, bmi_index = 0, 3, 4\n",
        "\n",
        "class CombinedAttributeAdder(TransformerMixin, BaseEstimator):\n",
        "    def fit(self, X, y=None):\n",
        "        return self \n",
        "    def transform(self, X, y=None):\n",
        "        age_per_bmi = X[:, age_index] / X[:, bmi_index]\n",
        "        age_per_avg_glucose= X[:, age_index] / X[:, avg_glucose_index]\n",
        "        return np.c_[X, age_per_bmi, age_per_avg_glucose]"
      ],
      "metadata": {
        "execution": {
          "iopub.status.busy": "2022-04-16T07:34:45.831247Z",
          "iopub.execute_input": "2022-04-16T07:34:45.831522Z",
          "iopub.status.idle": "2022-04-16T07:34:45.837401Z",
          "shell.execute_reply.started": "2022-04-16T07:34:45.831492Z",
          "shell.execute_reply": "2022-04-16T07:34:45.836566Z"
        },
        "trusted": true,
        "id": "XnQZGCWcll2M"
      },
      "execution_count": 8,
      "outputs": []
    },
    {
      "cell_type": "code",
      "source": [
        "# Preprocess data \n",
        "x_numeric_attributes = X_train.drop(['gender', 'ever_married', 'work_type', 'Residence_type', 'smoking_status'], axis=1)\n",
        "numeric_attributes = list(x_numeric_attributes)\n",
        "categorical_attributes = ['gender', 'ever_married', 'work_type', 'Residence_type', 'smoking_status']"
      ],
      "metadata": {
        "execution": {
          "iopub.status.busy": "2022-04-16T07:34:51.565184Z",
          "iopub.execute_input": "2022-04-16T07:34:51.565757Z",
          "iopub.status.idle": "2022-04-16T07:34:51.570918Z",
          "shell.execute_reply.started": "2022-04-16T07:34:51.565719Z",
          "shell.execute_reply": "2022-04-16T07:34:51.570273Z"
        },
        "trusted": true,
        "id": "tpLby4j7ll2M"
      },
      "execution_count": 9,
      "outputs": []
    },
    {
      "cell_type": "code",
      "source": [
        "# Create Pipelines and transform data \n",
        "num_pipeline = Pipeline(\n",
        "    [\n",
        "        ('imputer', SimpleImputer(strategy='median')),\n",
        "        ('attribute_adder', CombinedAttributeAdder()),\n",
        "        ('std_scaler', StandardScaler())\n",
        "    ]\n",
        ")\n",
        "\n",
        "full_pipeline = ColumnTransformer(\n",
        "    [\n",
        "        ('num', num_pipeline, numeric_attributes),\n",
        "        ('cat', OneHotEncoder(), categorical_attributes)\n",
        "    ]\n",
        ")\n",
        "\n",
        "X_train_processed = full_pipeline.fit_transform(X_train)"
      ],
      "metadata": {
        "execution": {
          "iopub.status.busy": "2022-04-16T07:34:54.195518Z",
          "iopub.execute_input": "2022-04-16T07:34:54.196169Z",
          "iopub.status.idle": "2022-04-16T07:34:54.222161Z",
          "shell.execute_reply.started": "2022-04-16T07:34:54.196129Z",
          "shell.execute_reply": "2022-04-16T07:34:54.221494Z"
        },
        "trusted": true,
        "id": "TrPGFadsll2N"
      },
      "execution_count": 10,
      "outputs": []
    },
    {
      "cell_type": "code",
      "source": [
        "pd.DataFrame(X_train_processed)"
      ],
      "metadata": {
        "execution": {
          "iopub.status.busy": "2022-04-16T05:50:18.788774Z",
          "iopub.execute_input": "2022-04-16T05:50:18.789176Z",
          "iopub.status.idle": "2022-04-16T05:50:18.831107Z",
          "shell.execute_reply.started": "2022-04-16T05:50:18.789137Z",
          "shell.execute_reply": "2022-04-16T05:50:18.830461Z"
        },
        "trusted": true,
        "colab": {
          "base_uri": "https://localhost:8080/",
          "height": 423
        },
        "id": "oIrtnhMFll2N",
        "outputId": "9f3aa2cc-254a-4af7-9529-095e5baa2ab5"
      },
      "execution_count": 29,
      "outputs": [
        {
          "output_type": "execute_result",
          "data": {
            "text/plain": [
              "            0         1         2         3         4         5         6   \\\n",
              "0     1.588594 -0.320170 -0.230389  0.142703 -0.048416  1.527002  0.897607   \n",
              "1     0.836881 -0.320170 -0.230389 -0.392719  0.957663  0.251022  0.899901   \n",
              "2    -0.976075 -0.320170 -0.230389 -1.026771  0.622304 -1.050026 -0.345038   \n",
              "3    -0.533891 -0.320170 -0.230389 -0.890714  0.196655 -0.574396  0.079315   \n",
              "4    -0.533891 -0.320170 -0.230389 -1.024350 -1.157682  0.070888  0.250566   \n",
              "...        ...       ...       ...       ...       ...       ...       ...   \n",
              "4082  0.792662 -0.320170 -0.230389  0.836198  0.119264  0.657573 -0.094114   \n",
              "4083  0.792662  3.123342 -0.230389  1.406625  4.040392 -0.582129 -0.324018   \n",
              "4084 -1.853369 -0.320170 -0.230389 -0.195458 -1.428550 -1.719206 -1.560483   \n",
              "4085 -0.224362 -0.320170 -0.230389 -0.269211 -0.951307  0.322324 -0.160584   \n",
              "4086  0.129386 -0.320170 -0.230389 -0.132273  2.763446 -0.700590  0.034638   \n",
              "\n",
              "       7    8    9   ...   12   13   14   15   16   17   18   19   20   21  \n",
              "0     0.0  1.0  0.0  ...  0.0  0.0  1.0  0.0  1.0  0.0  0.0  1.0  0.0  0.0  \n",
              "1     1.0  0.0  0.0  ...  0.0  1.0  0.0  0.0  0.0  1.0  1.0  0.0  0.0  0.0  \n",
              "2     1.0  0.0  1.0  ...  0.0  1.0  0.0  0.0  1.0  0.0  0.0  0.0  1.0  0.0  \n",
              "3     0.0  1.0  0.0  ...  0.0  0.0  0.0  0.0  0.0  1.0  0.0  1.0  0.0  0.0  \n",
              "4     1.0  0.0  1.0  ...  0.0  1.0  0.0  0.0  1.0  0.0  0.0  0.0  1.0  0.0  \n",
              "...   ...  ...  ...  ...  ...  ...  ...  ...  ...  ...  ...  ...  ...  ...  \n",
              "4082  1.0  0.0  0.0  ...  0.0  1.0  0.0  0.0  1.0  0.0  0.0  0.0  1.0  0.0  \n",
              "4083  1.0  0.0  0.0  ...  0.0  1.0  0.0  0.0  1.0  0.0  0.0  0.0  0.0  1.0  \n",
              "4084  1.0  0.0  1.0  ...  0.0  0.0  0.0  1.0  0.0  1.0  1.0  0.0  0.0  0.0  \n",
              "4085  1.0  0.0  0.0  ...  0.0  0.0  0.0  0.0  1.0  0.0  0.0  0.0  1.0  0.0  \n",
              "4086  1.0  0.0  0.0  ...  0.0  1.0  0.0  0.0  1.0  0.0  0.0  0.0  0.0  1.0  \n",
              "\n",
              "[4087 rows x 22 columns]"
            ],
            "text/html": [
              "\n",
              "  <div id=\"df-d73da836-a1e2-4ad5-bd40-e9cb78650df4\">\n",
              "    <div class=\"colab-df-container\">\n",
              "      <div>\n",
              "<style scoped>\n",
              "    .dataframe tbody tr th:only-of-type {\n",
              "        vertical-align: middle;\n",
              "    }\n",
              "\n",
              "    .dataframe tbody tr th {\n",
              "        vertical-align: top;\n",
              "    }\n",
              "\n",
              "    .dataframe thead th {\n",
              "        text-align: right;\n",
              "    }\n",
              "</style>\n",
              "<table border=\"1\" class=\"dataframe\">\n",
              "  <thead>\n",
              "    <tr style=\"text-align: right;\">\n",
              "      <th></th>\n",
              "      <th>0</th>\n",
              "      <th>1</th>\n",
              "      <th>2</th>\n",
              "      <th>3</th>\n",
              "      <th>4</th>\n",
              "      <th>5</th>\n",
              "      <th>6</th>\n",
              "      <th>7</th>\n",
              "      <th>8</th>\n",
              "      <th>9</th>\n",
              "      <th>...</th>\n",
              "      <th>12</th>\n",
              "      <th>13</th>\n",
              "      <th>14</th>\n",
              "      <th>15</th>\n",
              "      <th>16</th>\n",
              "      <th>17</th>\n",
              "      <th>18</th>\n",
              "      <th>19</th>\n",
              "      <th>20</th>\n",
              "      <th>21</th>\n",
              "    </tr>\n",
              "  </thead>\n",
              "  <tbody>\n",
              "    <tr>\n",
              "      <th>0</th>\n",
              "      <td>1.588594</td>\n",
              "      <td>-0.320170</td>\n",
              "      <td>-0.230389</td>\n",
              "      <td>0.142703</td>\n",
              "      <td>-0.048416</td>\n",
              "      <td>1.527002</td>\n",
              "      <td>0.897607</td>\n",
              "      <td>0.0</td>\n",
              "      <td>1.0</td>\n",
              "      <td>0.0</td>\n",
              "      <td>...</td>\n",
              "      <td>0.0</td>\n",
              "      <td>0.0</td>\n",
              "      <td>1.0</td>\n",
              "      <td>0.0</td>\n",
              "      <td>1.0</td>\n",
              "      <td>0.0</td>\n",
              "      <td>0.0</td>\n",
              "      <td>1.0</td>\n",
              "      <td>0.0</td>\n",
              "      <td>0.0</td>\n",
              "    </tr>\n",
              "    <tr>\n",
              "      <th>1</th>\n",
              "      <td>0.836881</td>\n",
              "      <td>-0.320170</td>\n",
              "      <td>-0.230389</td>\n",
              "      <td>-0.392719</td>\n",
              "      <td>0.957663</td>\n",
              "      <td>0.251022</td>\n",
              "      <td>0.899901</td>\n",
              "      <td>1.0</td>\n",
              "      <td>0.0</td>\n",
              "      <td>0.0</td>\n",
              "      <td>...</td>\n",
              "      <td>0.0</td>\n",
              "      <td>1.0</td>\n",
              "      <td>0.0</td>\n",
              "      <td>0.0</td>\n",
              "      <td>0.0</td>\n",
              "      <td>1.0</td>\n",
              "      <td>1.0</td>\n",
              "      <td>0.0</td>\n",
              "      <td>0.0</td>\n",
              "      <td>0.0</td>\n",
              "    </tr>\n",
              "    <tr>\n",
              "      <th>2</th>\n",
              "      <td>-0.976075</td>\n",
              "      <td>-0.320170</td>\n",
              "      <td>-0.230389</td>\n",
              "      <td>-1.026771</td>\n",
              "      <td>0.622304</td>\n",
              "      <td>-1.050026</td>\n",
              "      <td>-0.345038</td>\n",
              "      <td>1.0</td>\n",
              "      <td>0.0</td>\n",
              "      <td>1.0</td>\n",
              "      <td>...</td>\n",
              "      <td>0.0</td>\n",
              "      <td>1.0</td>\n",
              "      <td>0.0</td>\n",
              "      <td>0.0</td>\n",
              "      <td>1.0</td>\n",
              "      <td>0.0</td>\n",
              "      <td>0.0</td>\n",
              "      <td>0.0</td>\n",
              "      <td>1.0</td>\n",
              "      <td>0.0</td>\n",
              "    </tr>\n",
              "    <tr>\n",
              "      <th>3</th>\n",
              "      <td>-0.533891</td>\n",
              "      <td>-0.320170</td>\n",
              "      <td>-0.230389</td>\n",
              "      <td>-0.890714</td>\n",
              "      <td>0.196655</td>\n",
              "      <td>-0.574396</td>\n",
              "      <td>0.079315</td>\n",
              "      <td>0.0</td>\n",
              "      <td>1.0</td>\n",
              "      <td>0.0</td>\n",
              "      <td>...</td>\n",
              "      <td>0.0</td>\n",
              "      <td>0.0</td>\n",
              "      <td>0.0</td>\n",
              "      <td>0.0</td>\n",
              "      <td>0.0</td>\n",
              "      <td>1.0</td>\n",
              "      <td>0.0</td>\n",
              "      <td>1.0</td>\n",
              "      <td>0.0</td>\n",
              "      <td>0.0</td>\n",
              "    </tr>\n",
              "    <tr>\n",
              "      <th>4</th>\n",
              "      <td>-0.533891</td>\n",
              "      <td>-0.320170</td>\n",
              "      <td>-0.230389</td>\n",
              "      <td>-1.024350</td>\n",
              "      <td>-1.157682</td>\n",
              "      <td>0.070888</td>\n",
              "      <td>0.250566</td>\n",
              "      <td>1.0</td>\n",
              "      <td>0.0</td>\n",
              "      <td>1.0</td>\n",
              "      <td>...</td>\n",
              "      <td>0.0</td>\n",
              "      <td>1.0</td>\n",
              "      <td>0.0</td>\n",
              "      <td>0.0</td>\n",
              "      <td>1.0</td>\n",
              "      <td>0.0</td>\n",
              "      <td>0.0</td>\n",
              "      <td>0.0</td>\n",
              "      <td>1.0</td>\n",
              "      <td>0.0</td>\n",
              "    </tr>\n",
              "    <tr>\n",
              "      <th>...</th>\n",
              "      <td>...</td>\n",
              "      <td>...</td>\n",
              "      <td>...</td>\n",
              "      <td>...</td>\n",
              "      <td>...</td>\n",
              "      <td>...</td>\n",
              "      <td>...</td>\n",
              "      <td>...</td>\n",
              "      <td>...</td>\n",
              "      <td>...</td>\n",
              "      <td>...</td>\n",
              "      <td>...</td>\n",
              "      <td>...</td>\n",
              "      <td>...</td>\n",
              "      <td>...</td>\n",
              "      <td>...</td>\n",
              "      <td>...</td>\n",
              "      <td>...</td>\n",
              "      <td>...</td>\n",
              "      <td>...</td>\n",
              "      <td>...</td>\n",
              "    </tr>\n",
              "    <tr>\n",
              "      <th>4082</th>\n",
              "      <td>0.792662</td>\n",
              "      <td>-0.320170</td>\n",
              "      <td>-0.230389</td>\n",
              "      <td>0.836198</td>\n",
              "      <td>0.119264</td>\n",
              "      <td>0.657573</td>\n",
              "      <td>-0.094114</td>\n",
              "      <td>1.0</td>\n",
              "      <td>0.0</td>\n",
              "      <td>0.0</td>\n",
              "      <td>...</td>\n",
              "      <td>0.0</td>\n",
              "      <td>1.0</td>\n",
              "      <td>0.0</td>\n",
              "      <td>0.0</td>\n",
              "      <td>1.0</td>\n",
              "      <td>0.0</td>\n",
              "      <td>0.0</td>\n",
              "      <td>0.0</td>\n",
              "      <td>1.0</td>\n",
              "      <td>0.0</td>\n",
              "    </tr>\n",
              "    <tr>\n",
              "      <th>4083</th>\n",
              "      <td>0.792662</td>\n",
              "      <td>3.123342</td>\n",
              "      <td>-0.230389</td>\n",
              "      <td>1.406625</td>\n",
              "      <td>4.040392</td>\n",
              "      <td>-0.582129</td>\n",
              "      <td>-0.324018</td>\n",
              "      <td>1.0</td>\n",
              "      <td>0.0</td>\n",
              "      <td>0.0</td>\n",
              "      <td>...</td>\n",
              "      <td>0.0</td>\n",
              "      <td>1.0</td>\n",
              "      <td>0.0</td>\n",
              "      <td>0.0</td>\n",
              "      <td>1.0</td>\n",
              "      <td>0.0</td>\n",
              "      <td>0.0</td>\n",
              "      <td>0.0</td>\n",
              "      <td>0.0</td>\n",
              "      <td>1.0</td>\n",
              "    </tr>\n",
              "    <tr>\n",
              "      <th>4084</th>\n",
              "      <td>-1.853369</td>\n",
              "      <td>-0.320170</td>\n",
              "      <td>-0.230389</td>\n",
              "      <td>-0.195458</td>\n",
              "      <td>-1.428550</td>\n",
              "      <td>-1.719206</td>\n",
              "      <td>-1.560483</td>\n",
              "      <td>1.0</td>\n",
              "      <td>0.0</td>\n",
              "      <td>1.0</td>\n",
              "      <td>...</td>\n",
              "      <td>0.0</td>\n",
              "      <td>0.0</td>\n",
              "      <td>0.0</td>\n",
              "      <td>1.0</td>\n",
              "      <td>0.0</td>\n",
              "      <td>1.0</td>\n",
              "      <td>1.0</td>\n",
              "      <td>0.0</td>\n",
              "      <td>0.0</td>\n",
              "      <td>0.0</td>\n",
              "    </tr>\n",
              "    <tr>\n",
              "      <th>4085</th>\n",
              "      <td>-0.224362</td>\n",
              "      <td>-0.320170</td>\n",
              "      <td>-0.230389</td>\n",
              "      <td>-0.269211</td>\n",
              "      <td>-0.951307</td>\n",
              "      <td>0.322324</td>\n",
              "      <td>-0.160584</td>\n",
              "      <td>1.0</td>\n",
              "      <td>0.0</td>\n",
              "      <td>0.0</td>\n",
              "      <td>...</td>\n",
              "      <td>0.0</td>\n",
              "      <td>0.0</td>\n",
              "      <td>0.0</td>\n",
              "      <td>0.0</td>\n",
              "      <td>1.0</td>\n",
              "      <td>0.0</td>\n",
              "      <td>0.0</td>\n",
              "      <td>0.0</td>\n",
              "      <td>1.0</td>\n",
              "      <td>0.0</td>\n",
              "    </tr>\n",
              "    <tr>\n",
              "      <th>4086</th>\n",
              "      <td>0.129386</td>\n",
              "      <td>-0.320170</td>\n",
              "      <td>-0.230389</td>\n",
              "      <td>-0.132273</td>\n",
              "      <td>2.763446</td>\n",
              "      <td>-0.700590</td>\n",
              "      <td>0.034638</td>\n",
              "      <td>1.0</td>\n",
              "      <td>0.0</td>\n",
              "      <td>0.0</td>\n",
              "      <td>...</td>\n",
              "      <td>0.0</td>\n",
              "      <td>1.0</td>\n",
              "      <td>0.0</td>\n",
              "      <td>0.0</td>\n",
              "      <td>1.0</td>\n",
              "      <td>0.0</td>\n",
              "      <td>0.0</td>\n",
              "      <td>0.0</td>\n",
              "      <td>0.0</td>\n",
              "      <td>1.0</td>\n",
              "    </tr>\n",
              "  </tbody>\n",
              "</table>\n",
              "<p>4087 rows × 22 columns</p>\n",
              "</div>\n",
              "      <button class=\"colab-df-convert\" onclick=\"convertToInteractive('df-d73da836-a1e2-4ad5-bd40-e9cb78650df4')\"\n",
              "              title=\"Convert this dataframe to an interactive table.\"\n",
              "              style=\"display:none;\">\n",
              "        \n",
              "  <svg xmlns=\"http://www.w3.org/2000/svg\" height=\"24px\"viewBox=\"0 0 24 24\"\n",
              "       width=\"24px\">\n",
              "    <path d=\"M0 0h24v24H0V0z\" fill=\"none\"/>\n",
              "    <path d=\"M18.56 5.44l.94 2.06.94-2.06 2.06-.94-2.06-.94-.94-2.06-.94 2.06-2.06.94zm-11 1L8.5 8.5l.94-2.06 2.06-.94-2.06-.94L8.5 2.5l-.94 2.06-2.06.94zm10 10l.94 2.06.94-2.06 2.06-.94-2.06-.94-.94-2.06-.94 2.06-2.06.94z\"/><path d=\"M17.41 7.96l-1.37-1.37c-.4-.4-.92-.59-1.43-.59-.52 0-1.04.2-1.43.59L10.3 9.45l-7.72 7.72c-.78.78-.78 2.05 0 2.83L4 21.41c.39.39.9.59 1.41.59.51 0 1.02-.2 1.41-.59l7.78-7.78 2.81-2.81c.8-.78.8-2.07 0-2.86zM5.41 20L4 18.59l7.72-7.72 1.47 1.35L5.41 20z\"/>\n",
              "  </svg>\n",
              "      </button>\n",
              "      \n",
              "  <style>\n",
              "    .colab-df-container {\n",
              "      display:flex;\n",
              "      flex-wrap:wrap;\n",
              "      gap: 12px;\n",
              "    }\n",
              "\n",
              "    .colab-df-convert {\n",
              "      background-color: #E8F0FE;\n",
              "      border: none;\n",
              "      border-radius: 50%;\n",
              "      cursor: pointer;\n",
              "      display: none;\n",
              "      fill: #1967D2;\n",
              "      height: 32px;\n",
              "      padding: 0 0 0 0;\n",
              "      width: 32px;\n",
              "    }\n",
              "\n",
              "    .colab-df-convert:hover {\n",
              "      background-color: #E2EBFA;\n",
              "      box-shadow: 0px 1px 2px rgba(60, 64, 67, 0.3), 0px 1px 3px 1px rgba(60, 64, 67, 0.15);\n",
              "      fill: #174EA6;\n",
              "    }\n",
              "\n",
              "    [theme=dark] .colab-df-convert {\n",
              "      background-color: #3B4455;\n",
              "      fill: #D2E3FC;\n",
              "    }\n",
              "\n",
              "    [theme=dark] .colab-df-convert:hover {\n",
              "      background-color: #434B5C;\n",
              "      box-shadow: 0px 1px 3px 1px rgba(0, 0, 0, 0.15);\n",
              "      filter: drop-shadow(0px 1px 2px rgba(0, 0, 0, 0.3));\n",
              "      fill: #FFFFFF;\n",
              "    }\n",
              "  </style>\n",
              "\n",
              "      <script>\n",
              "        const buttonEl =\n",
              "          document.querySelector('#df-d73da836-a1e2-4ad5-bd40-e9cb78650df4 button.colab-df-convert');\n",
              "        buttonEl.style.display =\n",
              "          google.colab.kernel.accessAllowed ? 'block' : 'none';\n",
              "\n",
              "        async function convertToInteractive(key) {\n",
              "          const element = document.querySelector('#df-d73da836-a1e2-4ad5-bd40-e9cb78650df4');\n",
              "          const dataTable =\n",
              "            await google.colab.kernel.invokeFunction('convertToInteractive',\n",
              "                                                     [key], {});\n",
              "          if (!dataTable) return;\n",
              "\n",
              "          const docLinkHtml = 'Like what you see? Visit the ' +\n",
              "            '<a target=\"_blank\" href=https://colab.research.google.com/notebooks/data_table.ipynb>data table notebook</a>'\n",
              "            + ' to learn more about interactive tables.';\n",
              "          element.innerHTML = '';\n",
              "          dataTable['output_type'] = 'display_data';\n",
              "          await google.colab.output.renderOutput(dataTable, element);\n",
              "          const docLink = document.createElement('div');\n",
              "          docLink.innerHTML = docLinkHtml;\n",
              "          element.appendChild(docLink);\n",
              "        }\n",
              "      </script>\n",
              "    </div>\n",
              "  </div>\n",
              "  "
            ]
          },
          "metadata": {},
          "execution_count": 29
        }
      ]
    },
    {
      "cell_type": "code",
      "source": [
        "# Transform testing data\n",
        "X_test = full_pipeline.transform(X_test)"
      ],
      "metadata": {
        "trusted": true,
        "id": "49jbrVQxll2N"
      },
      "execution_count": 11,
      "outputs": []
    },
    {
      "cell_type": "code",
      "source": [
        "# Save transformer pipeline \n",
        "dump(full_pipeline, './transformer_pipeline.joblib')"
      ],
      "metadata": {
        "execution": {
          "iopub.status.busy": "2022-04-16T07:37:37.428186Z",
          "iopub.execute_input": "2022-04-16T07:37:37.428652Z",
          "iopub.status.idle": "2022-04-16T07:37:37.441358Z",
          "shell.execute_reply.started": "2022-04-16T07:37:37.428616Z",
          "shell.execute_reply": "2022-04-16T07:37:37.440574Z"
        },
        "trusted": true,
        "colab": {
          "base_uri": "https://localhost:8080/"
        },
        "id": "QkMmUzlvll2O",
        "outputId": "b428782f-b0ec-42d1-882b-e07c91d6593d"
      },
      "execution_count": 31,
      "outputs": [
        {
          "output_type": "execute_result",
          "data": {
            "text/plain": [
              "['./transformer_pipeline.joblib']"
            ]
          },
          "metadata": {},
          "execution_count": 31
        }
      ]
    },
    {
      "cell_type": "code",
      "source": [
        "# Use SMOTE to solve the class imbalance problem \n",
        "smote = SMOTE()\n",
        "x_resample, y_resample = smote.fit_resample(X_train_processed, y_train.ravel())"
      ],
      "metadata": {
        "execution": {
          "iopub.status.busy": "2022-04-16T05:50:27.170468Z",
          "iopub.execute_input": "2022-04-16T05:50:27.170939Z",
          "iopub.status.idle": "2022-04-16T05:50:27.188072Z",
          "shell.execute_reply.started": "2022-04-16T05:50:27.170902Z",
          "shell.execute_reply": "2022-04-16T05:50:27.187348Z"
        },
        "trusted": true,
        "id": "s4es5xwFll2O"
      },
      "execution_count": 13,
      "outputs": []
    },
    {
      "cell_type": "code",
      "source": [
        "# Check the number of training labels \n",
        "pd.DataFrame(y_resample).value_counts()"
      ],
      "metadata": {
        "execution": {
          "iopub.status.busy": "2022-04-16T05:50:29.564405Z",
          "iopub.execute_input": "2022-04-16T05:50:29.564861Z",
          "iopub.status.idle": "2022-04-16T05:50:29.574123Z",
          "shell.execute_reply.started": "2022-04-16T05:50:29.564829Z",
          "shell.execute_reply": "2022-04-16T05:50:29.573258Z"
        },
        "trusted": true,
        "colab": {
          "base_uri": "https://localhost:8080/"
        },
        "id": "v5zvEvR4ll2O",
        "outputId": "8586c318-8cdd-4d53-a551-63832b2da89a"
      },
      "execution_count": 33,
      "outputs": [
        {
          "output_type": "execute_result",
          "data": {
            "text/plain": [
              "0    3900\n",
              "1    3900\n",
              "dtype: int64"
            ]
          },
          "metadata": {},
          "execution_count": 33
        }
      ]
    },
    {
      "cell_type": "code",
      "source": [
        "# Train K-nearest Neighbors classifier \n",
        "kn_classifier = KNeighborsClassifier()\n",
        "kn_classifier.fit(x_resample, y_resample)\n",
        "random_data = X_train_processed[:3]\n",
        "random_data_label = y_train[:3]\n",
        "predictions = kn_classifier.predict(random_data)\n",
        "print(predictions)\n",
        "print(random_data_label)"
      ],
      "metadata": {
        "execution": {
          "iopub.status.busy": "2022-04-15T17:30:15.324741Z",
          "iopub.execute_input": "2022-04-15T17:30:15.325036Z",
          "iopub.status.idle": "2022-04-15T17:30:15.340903Z",
          "shell.execute_reply.started": "2022-04-15T17:30:15.325003Z",
          "shell.execute_reply": "2022-04-15T17:30:15.340176Z"
        },
        "trusted": true,
        "colab": {
          "base_uri": "https://localhost:8080/"
        },
        "id": "4FSKzKF5ll2P",
        "outputId": "ec6379a0-5d7a-4649-fec4-be4d6acfd96e"
      },
      "execution_count": 34,
      "outputs": [
        {
          "output_type": "stream",
          "name": "stdout",
          "text": [
            "[1 0 0]\n",
            "802     0\n",
            "3926    0\n",
            "2337    0\n",
            "Name: stroke, dtype: int64\n"
          ]
        }
      ]
    },
    {
      "cell_type": "code",
      "source": [
        "# Use Cross_val_score to determine the accuracy of logistic Regression\n",
        "cross_val_score(kn_classifier, X_train_processed, y_train, scoring='accuracy', cv=5)"
      ],
      "metadata": {
        "execution": {
          "iopub.status.busy": "2022-04-14T03:20:35.987438Z",
          "iopub.execute_input": "2022-04-14T03:20:35.988103Z",
          "iopub.status.idle": "2022-04-14T03:20:36.679272Z",
          "shell.execute_reply.started": "2022-04-14T03:20:35.98806Z",
          "shell.execute_reply": "2022-04-14T03:20:36.678452Z"
        },
        "trusted": true,
        "colab": {
          "base_uri": "https://localhost:8080/"
        },
        "id": "V8cI9VmKll2P",
        "outputId": "2752d6e6-483c-4513-b423-7655a2f7301a"
      },
      "execution_count": 35,
      "outputs": [
        {
          "output_type": "execute_result",
          "data": {
            "text/plain": [
              "array([0.95232274, 0.95354523, 0.95226438, 0.95104039, 0.95226438])"
            ]
          },
          "metadata": {},
          "execution_count": 35
        }
      ]
    },
    {
      "cell_type": "code",
      "source": [
        "# Check out the confusion matrix \n",
        "y_train_predictions = cross_val_predict(kn_classifier, x_resample, y_resample, cv=5)\n",
        "confusion_matrix(y_resample, y_train_predictions)"
      ],
      "metadata": {
        "execution": {
          "iopub.status.busy": "2022-04-14T03:21:34.553271Z",
          "iopub.execute_input": "2022-04-14T03:21:34.5535Z",
          "iopub.status.idle": "2022-04-14T03:21:36.068609Z",
          "shell.execute_reply.started": "2022-04-14T03:21:34.553471Z",
          "shell.execute_reply": "2022-04-14T03:21:36.067779Z"
        },
        "trusted": true,
        "colab": {
          "base_uri": "https://localhost:8080/"
        },
        "id": "oGv9dmsAll2P",
        "outputId": "3b55bc46-c714-43f4-dd55-2800bd1b4494"
      },
      "execution_count": 36,
      "outputs": [
        {
          "output_type": "execute_result",
          "data": {
            "text/plain": [
              "array([[3189,  711],\n",
              "       [  17, 3883]])"
            ]
          },
          "metadata": {},
          "execution_count": 36
        }
      ]
    },
    {
      "cell_type": "code",
      "source": [
        "# Calculate the precision and recall score, f1_score \n",
        "precision = precision_score(y_resample, y_train_predictions)\n",
        "recall = recall_score(y_resample, y_train_predictions)\n",
        "f1 = f1_score(y_resample, y_train_predictions)\n",
        "print('Precision ', precision)\n",
        "print('Recall ', recall)\n",
        "print('F1 ', f1)"
      ],
      "metadata": {
        "execution": {
          "iopub.status.busy": "2022-04-14T03:22:04.116695Z",
          "iopub.execute_input": "2022-04-14T03:22:04.11699Z",
          "iopub.status.idle": "2022-04-14T03:22:04.13313Z",
          "shell.execute_reply.started": "2022-04-14T03:22:04.116935Z",
          "shell.execute_reply": "2022-04-14T03:22:04.132004Z"
        },
        "trusted": true,
        "colab": {
          "base_uri": "https://localhost:8080/"
        },
        "id": "0aOu47Ioll2P",
        "outputId": "881f23a8-fd0e-4835-fb18-fa467db8f3f2"
      },
      "execution_count": 37,
      "outputs": [
        {
          "output_type": "stream",
          "name": "stdout",
          "text": [
            "Precision  0.8452329124945581\n",
            "Recall  0.9956410256410256\n",
            "F1  0.9142924417235696\n"
          ]
        }
      ]
    },
    {
      "cell_type": "code",
      "source": [
        "# Roc_auc_score \n",
        "roc_auc_score(y_resample, y_train_predictions)"
      ],
      "metadata": {
        "execution": {
          "iopub.status.busy": "2022-04-14T03:22:26.534582Z",
          "iopub.execute_input": "2022-04-14T03:22:26.534887Z",
          "iopub.status.idle": "2022-04-14T03:22:26.544064Z",
          "shell.execute_reply.started": "2022-04-14T03:22:26.534853Z",
          "shell.execute_reply": "2022-04-14T03:22:26.543065Z"
        },
        "trusted": true,
        "colab": {
          "base_uri": "https://localhost:8080/"
        },
        "id": "6JtUTbyUll2Q",
        "outputId": "e07aef32-f52c-4dc5-a369-dc7ed7dc2679"
      },
      "execution_count": 38,
      "outputs": [
        {
          "output_type": "execute_result",
          "data": {
            "text/plain": [
              "0.9066666666666667"
            ]
          },
          "metadata": {},
          "execution_count": 38
        }
      ]
    },
    {
      "cell_type": "code",
      "source": [
        "# Use Grid Search to get best parameter combinations\n",
        "knb_clf = KNeighborsClassifier()\n",
        "\n",
        "param_grids = [\n",
        "    {'weights': ['uniform', 'distance'], 'n_neighbors': [3, 4, 5]}\n",
        "]\n",
        "\n",
        "grid_search = GridSearchCV(\n",
        "    knb_clf, param_grid=param_grids, scoring='accuracy', cv=5, verbose=3\n",
        ")\n",
        "\n",
        "grid_search.fit(x_resample, y_resample)"
      ],
      "metadata": {
        "execution": {
          "iopub.status.busy": "2022-04-14T03:51:05.294518Z",
          "iopub.execute_input": "2022-04-14T03:51:05.294837Z",
          "iopub.status.idle": "2022-04-14T03:51:13.063493Z",
          "shell.execute_reply.started": "2022-04-14T03:51:05.294804Z",
          "shell.execute_reply": "2022-04-14T03:51:13.062508Z"
        },
        "trusted": true,
        "colab": {
          "base_uri": "https://localhost:8080/"
        },
        "id": "Pc1ZMnVrll2Q",
        "outputId": "fd7c1fcc-af2d-4710-8079-c3512ba8faa7"
      },
      "execution_count": 39,
      "outputs": [
        {
          "output_type": "stream",
          "name": "stdout",
          "text": [
            "Fitting 5 folds for each of 6 candidates, totalling 30 fits\n",
            "[CV 1/5] END ....n_neighbors=3, weights=uniform;, score=0.934 total time=   0.2s\n",
            "[CV 2/5] END ....n_neighbors=3, weights=uniform;, score=0.921 total time=   0.2s\n",
            "[CV 3/5] END ....n_neighbors=3, weights=uniform;, score=0.928 total time=   0.2s\n",
            "[CV 4/5] END ....n_neighbors=3, weights=uniform;, score=0.926 total time=   0.2s\n",
            "[CV 5/5] END ....n_neighbors=3, weights=uniform;, score=0.926 total time=   0.2s\n",
            "[CV 1/5] END ...n_neighbors=3, weights=distance;, score=0.937 total time=   0.2s\n",
            "[CV 2/5] END ...n_neighbors=3, weights=distance;, score=0.925 total time=   0.2s\n",
            "[CV 3/5] END ...n_neighbors=3, weights=distance;, score=0.931 total time=   0.2s\n",
            "[CV 4/5] END ...n_neighbors=3, weights=distance;, score=0.930 total time=   0.2s\n",
            "[CV 5/5] END ...n_neighbors=3, weights=distance;, score=0.929 total time=   0.2s\n",
            "[CV 1/5] END ....n_neighbors=4, weights=uniform;, score=0.938 total time=   0.3s\n",
            "[CV 2/5] END ....n_neighbors=4, weights=uniform;, score=0.924 total time=   0.3s\n",
            "[CV 3/5] END ....n_neighbors=4, weights=uniform;, score=0.931 total time=   0.3s\n",
            "[CV 4/5] END ....n_neighbors=4, weights=uniform;, score=0.928 total time=   0.3s\n",
            "[CV 5/5] END ....n_neighbors=4, weights=uniform;, score=0.929 total time=   0.3s\n",
            "[CV 1/5] END ...n_neighbors=4, weights=distance;, score=0.940 total time=   0.2s\n",
            "[CV 2/5] END ...n_neighbors=4, weights=distance;, score=0.926 total time=   0.2s\n",
            "[CV 3/5] END ...n_neighbors=4, weights=distance;, score=0.930 total time=   0.2s\n",
            "[CV 4/5] END ...n_neighbors=4, weights=distance;, score=0.927 total time=   0.2s\n",
            "[CV 5/5] END ...n_neighbors=4, weights=distance;, score=0.930 total time=   0.2s\n",
            "[CV 1/5] END ....n_neighbors=5, weights=uniform;, score=0.914 total time=   0.3s\n",
            "[CV 2/5] END ....n_neighbors=5, weights=uniform;, score=0.902 total time=   0.3s\n",
            "[CV 3/5] END ....n_neighbors=5, weights=uniform;, score=0.906 total time=   0.3s\n",
            "[CV 4/5] END ....n_neighbors=5, weights=uniform;, score=0.904 total time=   0.3s\n",
            "[CV 5/5] END ....n_neighbors=5, weights=uniform;, score=0.906 total time=   0.3s\n",
            "[CV 1/5] END ...n_neighbors=5, weights=distance;, score=0.920 total time=   0.2s\n",
            "[CV 2/5] END ...n_neighbors=5, weights=distance;, score=0.913 total time=   0.2s\n",
            "[CV 3/5] END ...n_neighbors=5, weights=distance;, score=0.915 total time=   0.2s\n",
            "[CV 4/5] END ...n_neighbors=5, weights=distance;, score=0.915 total time=   0.2s\n",
            "[CV 5/5] END ...n_neighbors=5, weights=distance;, score=0.917 total time=   0.2s\n"
          ]
        },
        {
          "output_type": "execute_result",
          "data": {
            "text/plain": [
              "GridSearchCV(cv=5, estimator=KNeighborsClassifier(),\n",
              "             param_grid=[{'n_neighbors': [3, 4, 5],\n",
              "                          'weights': ['uniform', 'distance']}],\n",
              "             scoring='accuracy', verbose=3)"
            ]
          },
          "metadata": {},
          "execution_count": 39
        }
      ]
    },
    {
      "cell_type": "code",
      "source": [
        "grid_search.best_estimator_"
      ],
      "metadata": {
        "execution": {
          "iopub.status.busy": "2022-04-14T03:51:17.278702Z",
          "iopub.execute_input": "2022-04-14T03:51:17.278977Z",
          "iopub.status.idle": "2022-04-14T03:51:17.285264Z",
          "shell.execute_reply.started": "2022-04-14T03:51:17.27895Z",
          "shell.execute_reply": "2022-04-14T03:51:17.284689Z"
        },
        "trusted": true,
        "colab": {
          "base_uri": "https://localhost:8080/"
        },
        "id": "Va3UkQxvll2Q",
        "outputId": "14f6e1c9-34b0-4218-9b20-c7bcb2b1971f"
      },
      "execution_count": 40,
      "outputs": [
        {
          "output_type": "execute_result",
          "data": {
            "text/plain": [
              "KNeighborsClassifier(n_neighbors=4, weights='distance')"
            ]
          },
          "metadata": {},
          "execution_count": 40
        }
      ]
    },
    {
      "cell_type": "code",
      "source": [
        "# Train K-nearest Neighbors classifier \n",
        "kn_classifier = grid_search.best_estimator_ \n",
        "kn_classifier.fit(x_resample, y_resample)\n",
        "# Check out the confusion matrix \n",
        "y_train_predictions = cross_val_predict(kn_classifier, x_resample, y_resample, cv=5)\n",
        "confusion_matrix(y_resample, y_train_predictions)"
      ],
      "metadata": {
        "execution": {
          "iopub.status.busy": "2022-04-14T03:54:42.428523Z",
          "iopub.execute_input": "2022-04-14T03:54:42.428815Z",
          "iopub.status.idle": "2022-04-14T03:54:43.660751Z",
          "shell.execute_reply.started": "2022-04-14T03:54:42.428778Z",
          "shell.execute_reply": "2022-04-14T03:54:43.659831Z"
        },
        "trusted": true,
        "colab": {
          "base_uri": "https://localhost:8080/"
        },
        "id": "5MnPqu8Xll2Q",
        "outputId": "be09da7a-9f43-4a14-9512-31ef7c64c485"
      },
      "execution_count": 41,
      "outputs": [
        {
          "output_type": "execute_result",
          "data": {
            "text/plain": [
              "array([[3370,  530],\n",
              "       [  11, 3889]])"
            ]
          },
          "metadata": {},
          "execution_count": 41
        }
      ]
    },
    {
      "cell_type": "code",
      "source": [
        "# Calculate the precision and recall score, f1_score \n",
        "precision = precision_score(y_resample, y_train_predictions)\n",
        "recall = recall_score(y_resample, y_train_predictions)\n",
        "f1 = f1_score(y_resample, y_train_predictions)\n",
        "print('Precision ', precision)\n",
        "print('Recall ', recall)\n",
        "print('F1 ', f1)"
      ],
      "metadata": {
        "execution": {
          "iopub.status.busy": "2022-04-14T03:54:47.966894Z",
          "iopub.execute_input": "2022-04-14T03:54:47.967155Z",
          "iopub.status.idle": "2022-04-14T03:54:47.985274Z",
          "shell.execute_reply.started": "2022-04-14T03:54:47.967127Z",
          "shell.execute_reply": "2022-04-14T03:54:47.984256Z"
        },
        "trusted": true,
        "colab": {
          "base_uri": "https://localhost:8080/"
        },
        "id": "F1ZUtDT2ll2R",
        "outputId": "5cba8a40-35fa-492b-8c29-0b0577230c56"
      },
      "execution_count": 42,
      "outputs": [
        {
          "output_type": "stream",
          "name": "stdout",
          "text": [
            "Precision  0.8800633627517538\n",
            "Recall  0.9971794871794872\n",
            "F1  0.9349681452097608\n"
          ]
        }
      ]
    },
    {
      "cell_type": "code",
      "source": [
        "# Roc_auc_score \n",
        "roc_auc_score(y_resample, y_train_predictions)"
      ],
      "metadata": {
        "execution": {
          "iopub.status.busy": "2022-04-14T03:57:18.976468Z",
          "iopub.execute_input": "2022-04-14T03:57:18.976847Z",
          "iopub.status.idle": "2022-04-14T03:57:18.985815Z",
          "shell.execute_reply.started": "2022-04-14T03:57:18.976811Z",
          "shell.execute_reply": "2022-04-14T03:57:18.985167Z"
        },
        "trusted": true,
        "colab": {
          "base_uri": "https://localhost:8080/"
        },
        "id": "dn0PcFeQll2R",
        "outputId": "ac581232-b4d0-4247-b23e-314eeeb158d7"
      },
      "execution_count": 43,
      "outputs": [
        {
          "output_type": "execute_result",
          "data": {
            "text/plain": [
              "0.9306410256410258"
            ]
          },
          "metadata": {},
          "execution_count": 43
        }
      ]
    },
    {
      "cell_type": "code",
      "source": [
        "# Train Logistic Regression Model\n",
        "log_regression = LogisticRegression()\n",
        "log_regression.fit(x_resample, y_resample)\n",
        "\n",
        "random_data = x_resample[:3]\n",
        "random_data_label = y_resample[:3]\n",
        "predictions = log_regression.predict(random_data)\n",
        "print(predictions)\n",
        "print(random_data_label)"
      ],
      "metadata": {
        "execution": {
          "iopub.status.busy": "2022-04-14T04:03:22.76724Z",
          "iopub.execute_input": "2022-04-14T04:03:22.767516Z",
          "iopub.status.idle": "2022-04-14T04:03:22.923144Z",
          "shell.execute_reply.started": "2022-04-14T04:03:22.767487Z",
          "shell.execute_reply": "2022-04-14T04:03:22.92236Z"
        },
        "trusted": true,
        "colab": {
          "base_uri": "https://localhost:8080/"
        },
        "id": "lADd2-fEll2S",
        "outputId": "eb698a69-1369-4799-9015-812b6f0b88c6"
      },
      "execution_count": 44,
      "outputs": [
        {
          "output_type": "stream",
          "name": "stdout",
          "text": [
            "[1 1 0]\n",
            "[0 0 0]\n"
          ]
        },
        {
          "output_type": "stream",
          "name": "stderr",
          "text": [
            "/usr/local/lib/python3.7/dist-packages/sklearn/linear_model/_logistic.py:818: ConvergenceWarning: lbfgs failed to converge (status=1):\n",
            "STOP: TOTAL NO. of ITERATIONS REACHED LIMIT.\n",
            "\n",
            "Increase the number of iterations (max_iter) or scale the data as shown in:\n",
            "    https://scikit-learn.org/stable/modules/preprocessing.html\n",
            "Please also refer to the documentation for alternative solver options:\n",
            "    https://scikit-learn.org/stable/modules/linear_model.html#logistic-regression\n",
            "  extra_warning_msg=_LOGISTIC_SOLVER_CONVERGENCE_MSG,\n"
          ]
        }
      ]
    },
    {
      "cell_type": "code",
      "source": [
        "# Use Cross_val_score to determine the accuracy of logistic Regression\n",
        "cross_val_score(log_regression, x_resample, y_resample, scoring='accuracy', cv=5)"
      ],
      "metadata": {
        "execution": {
          "iopub.status.busy": "2022-04-14T04:06:30.515863Z",
          "iopub.execute_input": "2022-04-14T04:06:30.516137Z",
          "iopub.status.idle": "2022-04-14T04:06:31.167158Z",
          "shell.execute_reply.started": "2022-04-14T04:06:30.51611Z",
          "shell.execute_reply": "2022-04-14T04:06:31.16627Z"
        },
        "trusted": true,
        "colab": {
          "base_uri": "https://localhost:8080/"
        },
        "id": "JlOBHvX8ll2S",
        "outputId": "5af75dee-488e-49e4-d7f1-6cdb898fbe62"
      },
      "execution_count": 45,
      "outputs": [
        {
          "output_type": "stream",
          "name": "stderr",
          "text": [
            "/usr/local/lib/python3.7/dist-packages/sklearn/linear_model/_logistic.py:818: ConvergenceWarning: lbfgs failed to converge (status=1):\n",
            "STOP: TOTAL NO. of ITERATIONS REACHED LIMIT.\n",
            "\n",
            "Increase the number of iterations (max_iter) or scale the data as shown in:\n",
            "    https://scikit-learn.org/stable/modules/preprocessing.html\n",
            "Please also refer to the documentation for alternative solver options:\n",
            "    https://scikit-learn.org/stable/modules/linear_model.html#logistic-regression\n",
            "  extra_warning_msg=_LOGISTIC_SOLVER_CONVERGENCE_MSG,\n",
            "/usr/local/lib/python3.7/dist-packages/sklearn/linear_model/_logistic.py:818: ConvergenceWarning: lbfgs failed to converge (status=1):\n",
            "STOP: TOTAL NO. of ITERATIONS REACHED LIMIT.\n",
            "\n",
            "Increase the number of iterations (max_iter) or scale the data as shown in:\n",
            "    https://scikit-learn.org/stable/modules/preprocessing.html\n",
            "Please also refer to the documentation for alternative solver options:\n",
            "    https://scikit-learn.org/stable/modules/linear_model.html#logistic-regression\n",
            "  extra_warning_msg=_LOGISTIC_SOLVER_CONVERGENCE_MSG,\n",
            "/usr/local/lib/python3.7/dist-packages/sklearn/linear_model/_logistic.py:818: ConvergenceWarning: lbfgs failed to converge (status=1):\n",
            "STOP: TOTAL NO. of ITERATIONS REACHED LIMIT.\n",
            "\n",
            "Increase the number of iterations (max_iter) or scale the data as shown in:\n",
            "    https://scikit-learn.org/stable/modules/preprocessing.html\n",
            "Please also refer to the documentation for alternative solver options:\n",
            "    https://scikit-learn.org/stable/modules/linear_model.html#logistic-regression\n",
            "  extra_warning_msg=_LOGISTIC_SOLVER_CONVERGENCE_MSG,\n",
            "/usr/local/lib/python3.7/dist-packages/sklearn/linear_model/_logistic.py:818: ConvergenceWarning: lbfgs failed to converge (status=1):\n",
            "STOP: TOTAL NO. of ITERATIONS REACHED LIMIT.\n",
            "\n",
            "Increase the number of iterations (max_iter) or scale the data as shown in:\n",
            "    https://scikit-learn.org/stable/modules/preprocessing.html\n",
            "Please also refer to the documentation for alternative solver options:\n",
            "    https://scikit-learn.org/stable/modules/linear_model.html#logistic-regression\n",
            "  extra_warning_msg=_LOGISTIC_SOLVER_CONVERGENCE_MSG,\n",
            "/usr/local/lib/python3.7/dist-packages/sklearn/linear_model/_logistic.py:818: ConvergenceWarning: lbfgs failed to converge (status=1):\n",
            "STOP: TOTAL NO. of ITERATIONS REACHED LIMIT.\n",
            "\n",
            "Increase the number of iterations (max_iter) or scale the data as shown in:\n",
            "    https://scikit-learn.org/stable/modules/preprocessing.html\n",
            "Please also refer to the documentation for alternative solver options:\n",
            "    https://scikit-learn.org/stable/modules/linear_model.html#logistic-regression\n",
            "  extra_warning_msg=_LOGISTIC_SOLVER_CONVERGENCE_MSG,\n"
          ]
        },
        {
          "output_type": "execute_result",
          "data": {
            "text/plain": [
              "array([0.77307692, 0.78461538, 0.77628205, 0.79230769, 0.80512821])"
            ]
          },
          "metadata": {},
          "execution_count": 45
        }
      ]
    },
    {
      "cell_type": "code",
      "source": [
        "# Check out the confusion matrix \n",
        "y_train_predictions = cross_val_predict(log_regression, x_resample, y_resample, cv=5)\n",
        "confusion_matrix(y_resample, y_train_predictions)"
      ],
      "metadata": {
        "execution": {
          "iopub.status.busy": "2022-04-14T04:09:21.66113Z",
          "iopub.execute_input": "2022-04-14T04:09:21.661407Z",
          "iopub.status.idle": "2022-04-14T04:09:22.300099Z",
          "shell.execute_reply.started": "2022-04-14T04:09:21.66138Z",
          "shell.execute_reply": "2022-04-14T04:09:22.297985Z"
        },
        "trusted": true,
        "colab": {
          "base_uri": "https://localhost:8080/"
        },
        "id": "FMDq6edkll2T",
        "outputId": "cee0dd81-28f1-4520-92d4-8773a8ba42d0"
      },
      "execution_count": 46,
      "outputs": [
        {
          "output_type": "stream",
          "name": "stderr",
          "text": [
            "/usr/local/lib/python3.7/dist-packages/sklearn/linear_model/_logistic.py:818: ConvergenceWarning: lbfgs failed to converge (status=1):\n",
            "STOP: TOTAL NO. of ITERATIONS REACHED LIMIT.\n",
            "\n",
            "Increase the number of iterations (max_iter) or scale the data as shown in:\n",
            "    https://scikit-learn.org/stable/modules/preprocessing.html\n",
            "Please also refer to the documentation for alternative solver options:\n",
            "    https://scikit-learn.org/stable/modules/linear_model.html#logistic-regression\n",
            "  extra_warning_msg=_LOGISTIC_SOLVER_CONVERGENCE_MSG,\n",
            "/usr/local/lib/python3.7/dist-packages/sklearn/linear_model/_logistic.py:818: ConvergenceWarning: lbfgs failed to converge (status=1):\n",
            "STOP: TOTAL NO. of ITERATIONS REACHED LIMIT.\n",
            "\n",
            "Increase the number of iterations (max_iter) or scale the data as shown in:\n",
            "    https://scikit-learn.org/stable/modules/preprocessing.html\n",
            "Please also refer to the documentation for alternative solver options:\n",
            "    https://scikit-learn.org/stable/modules/linear_model.html#logistic-regression\n",
            "  extra_warning_msg=_LOGISTIC_SOLVER_CONVERGENCE_MSG,\n",
            "/usr/local/lib/python3.7/dist-packages/sklearn/linear_model/_logistic.py:818: ConvergenceWarning: lbfgs failed to converge (status=1):\n",
            "STOP: TOTAL NO. of ITERATIONS REACHED LIMIT.\n",
            "\n",
            "Increase the number of iterations (max_iter) or scale the data as shown in:\n",
            "    https://scikit-learn.org/stable/modules/preprocessing.html\n",
            "Please also refer to the documentation for alternative solver options:\n",
            "    https://scikit-learn.org/stable/modules/linear_model.html#logistic-regression\n",
            "  extra_warning_msg=_LOGISTIC_SOLVER_CONVERGENCE_MSG,\n",
            "/usr/local/lib/python3.7/dist-packages/sklearn/linear_model/_logistic.py:818: ConvergenceWarning: lbfgs failed to converge (status=1):\n",
            "STOP: TOTAL NO. of ITERATIONS REACHED LIMIT.\n",
            "\n",
            "Increase the number of iterations (max_iter) or scale the data as shown in:\n",
            "    https://scikit-learn.org/stable/modules/preprocessing.html\n",
            "Please also refer to the documentation for alternative solver options:\n",
            "    https://scikit-learn.org/stable/modules/linear_model.html#logistic-regression\n",
            "  extra_warning_msg=_LOGISTIC_SOLVER_CONVERGENCE_MSG,\n",
            "/usr/local/lib/python3.7/dist-packages/sklearn/linear_model/_logistic.py:818: ConvergenceWarning: lbfgs failed to converge (status=1):\n",
            "STOP: TOTAL NO. of ITERATIONS REACHED LIMIT.\n",
            "\n",
            "Increase the number of iterations (max_iter) or scale the data as shown in:\n",
            "    https://scikit-learn.org/stable/modules/preprocessing.html\n",
            "Please also refer to the documentation for alternative solver options:\n",
            "    https://scikit-learn.org/stable/modules/linear_model.html#logistic-regression\n",
            "  extra_warning_msg=_LOGISTIC_SOLVER_CONVERGENCE_MSG,\n"
          ]
        },
        {
          "output_type": "execute_result",
          "data": {
            "text/plain": [
              "array([[2929,  971],\n",
              "       [ 696, 3204]])"
            ]
          },
          "metadata": {},
          "execution_count": 46
        }
      ]
    },
    {
      "cell_type": "code",
      "source": [
        "# Calculate the precision and recall score, f1_score \n",
        "precision = precision_score(y_resample, y_train_predictions)\n",
        "recall = recall_score(y_resample, y_train_predictions)\n",
        "f1 = f1_score(y_resample, y_train_predictions)\n",
        "roc_auc = roc_auc_score(y_resample, y_train_predictions)\n",
        "print('Precision ', precision)\n",
        "print('Recall ', recall)\n",
        "print('F1 ', f1)\n",
        "print('ROC_AUC ', roc_auc)"
      ],
      "metadata": {
        "execution": {
          "iopub.status.busy": "2022-04-14T04:11:23.779039Z",
          "iopub.execute_input": "2022-04-14T04:11:23.779736Z",
          "iopub.status.idle": "2022-04-14T04:11:23.799745Z",
          "shell.execute_reply.started": "2022-04-14T04:11:23.779693Z",
          "shell.execute_reply": "2022-04-14T04:11:23.798852Z"
        },
        "trusted": true,
        "colab": {
          "base_uri": "https://localhost:8080/"
        },
        "id": "O2xKd6d4ll2T",
        "outputId": "f7573c15-f6b1-4dda-8866-774be14f126a"
      },
      "execution_count": 47,
      "outputs": [
        {
          "output_type": "stream",
          "name": "stdout",
          "text": [
            "Precision  0.7674251497005988\n",
            "Recall  0.8215384615384616\n",
            "F1  0.793560371517028\n",
            "ROC_AUC  0.7862820512820513\n"
          ]
        }
      ]
    },
    {
      "cell_type": "code",
      "source": [
        "# Function to plot the precision recall curve\n",
        "def plot_precision_recall_vs_threshold(precision, recall, thresholds):\n",
        "    plt.plot(thresholds, precision[:-1], \"b--\", label=\"Precision\")\n",
        "    plt.plot(thresholds, recall[:-1], \"g-\", label='Recall')\n",
        "    plt.legend()"
      ],
      "metadata": {
        "execution": {
          "iopub.status.busy": "2022-04-14T04:11:58.551136Z",
          "iopub.execute_input": "2022-04-14T04:11:58.551413Z",
          "iopub.status.idle": "2022-04-14T04:11:58.557073Z",
          "shell.execute_reply.started": "2022-04-14T04:11:58.551385Z",
          "shell.execute_reply": "2022-04-14T04:11:58.556154Z"
        },
        "trusted": true,
        "id": "sFFzE6Hmll2T"
      },
      "execution_count": 48,
      "outputs": []
    },
    {
      "cell_type": "code",
      "source": [
        "# Get predicion scores \n",
        "y_scores = cross_val_predict(log_regression, x_resample, y_resample, cv=5, method='decision_function')\n",
        "precision, recall, thresholds = precision_recall_curve(y_resample, y_scores)\n",
        "\n",
        "plot_precision_recall_vs_threshold(precision, recall, thresholds)\n",
        "plt.show()"
      ],
      "metadata": {
        "execution": {
          "iopub.status.busy": "2022-04-14T04:14:06.266583Z",
          "iopub.execute_input": "2022-04-14T04:14:06.267268Z",
          "iopub.status.idle": "2022-04-14T04:14:07.165203Z",
          "shell.execute_reply.started": "2022-04-14T04:14:06.267227Z",
          "shell.execute_reply": "2022-04-14T04:14:07.164608Z"
        },
        "trusted": true,
        "colab": {
          "base_uri": "https://localhost:8080/",
          "height": 964
        },
        "id": "JSCalyDVll2T",
        "outputId": "86c23735-c379-442a-c0ce-21b1b70b5cb4"
      },
      "execution_count": 49,
      "outputs": [
        {
          "output_type": "stream",
          "name": "stderr",
          "text": [
            "/usr/local/lib/python3.7/dist-packages/sklearn/linear_model/_logistic.py:818: ConvergenceWarning: lbfgs failed to converge (status=1):\n",
            "STOP: TOTAL NO. of ITERATIONS REACHED LIMIT.\n",
            "\n",
            "Increase the number of iterations (max_iter) or scale the data as shown in:\n",
            "    https://scikit-learn.org/stable/modules/preprocessing.html\n",
            "Please also refer to the documentation for alternative solver options:\n",
            "    https://scikit-learn.org/stable/modules/linear_model.html#logistic-regression\n",
            "  extra_warning_msg=_LOGISTIC_SOLVER_CONVERGENCE_MSG,\n",
            "/usr/local/lib/python3.7/dist-packages/sklearn/linear_model/_logistic.py:818: ConvergenceWarning: lbfgs failed to converge (status=1):\n",
            "STOP: TOTAL NO. of ITERATIONS REACHED LIMIT.\n",
            "\n",
            "Increase the number of iterations (max_iter) or scale the data as shown in:\n",
            "    https://scikit-learn.org/stable/modules/preprocessing.html\n",
            "Please also refer to the documentation for alternative solver options:\n",
            "    https://scikit-learn.org/stable/modules/linear_model.html#logistic-regression\n",
            "  extra_warning_msg=_LOGISTIC_SOLVER_CONVERGENCE_MSG,\n",
            "/usr/local/lib/python3.7/dist-packages/sklearn/linear_model/_logistic.py:818: ConvergenceWarning: lbfgs failed to converge (status=1):\n",
            "STOP: TOTAL NO. of ITERATIONS REACHED LIMIT.\n",
            "\n",
            "Increase the number of iterations (max_iter) or scale the data as shown in:\n",
            "    https://scikit-learn.org/stable/modules/preprocessing.html\n",
            "Please also refer to the documentation for alternative solver options:\n",
            "    https://scikit-learn.org/stable/modules/linear_model.html#logistic-regression\n",
            "  extra_warning_msg=_LOGISTIC_SOLVER_CONVERGENCE_MSG,\n",
            "/usr/local/lib/python3.7/dist-packages/sklearn/linear_model/_logistic.py:818: ConvergenceWarning: lbfgs failed to converge (status=1):\n",
            "STOP: TOTAL NO. of ITERATIONS REACHED LIMIT.\n",
            "\n",
            "Increase the number of iterations (max_iter) or scale the data as shown in:\n",
            "    https://scikit-learn.org/stable/modules/preprocessing.html\n",
            "Please also refer to the documentation for alternative solver options:\n",
            "    https://scikit-learn.org/stable/modules/linear_model.html#logistic-regression\n",
            "  extra_warning_msg=_LOGISTIC_SOLVER_CONVERGENCE_MSG,\n",
            "/usr/local/lib/python3.7/dist-packages/sklearn/linear_model/_logistic.py:818: ConvergenceWarning: lbfgs failed to converge (status=1):\n",
            "STOP: TOTAL NO. of ITERATIONS REACHED LIMIT.\n",
            "\n",
            "Increase the number of iterations (max_iter) or scale the data as shown in:\n",
            "    https://scikit-learn.org/stable/modules/preprocessing.html\n",
            "Please also refer to the documentation for alternative solver options:\n",
            "    https://scikit-learn.org/stable/modules/linear_model.html#logistic-regression\n",
            "  extra_warning_msg=_LOGISTIC_SOLVER_CONVERGENCE_MSG,\n"
          ]
        },
        {
          "output_type": "display_data",
          "data": {
            "text/plain": [
              "<Figure size 432x288 with 1 Axes>"
            ],
            "image/png": "[encoded data removed]"
          },
          "metadata": {}
        }
      ]
    },
    {
      "cell_type": "code",
      "source": [
        "# Plot the ROC curve\n",
        "fpr, tpr, thresholds = roc_curve(y_resample, y_train_predictions)\n",
        "\n",
        "# Function to plot ROC curve\n",
        "def plot_roc_curve(fpr, tpr, label=None):\n",
        "    plt.plot(fpr, tpr, linewidth=2, label=label)\n",
        "    plt.plot([0, 1], [0, 1], 'k--')\n",
        "    plt.legend()\n",
        "\n",
        "plot_roc_curve(fpr, tpr)\n",
        "plt.show()"
      ],
      "metadata": {
        "execution": {
          "iopub.status.busy": "2022-04-14T04:14:52.430464Z",
          "iopub.execute_input": "2022-04-14T04:14:52.431251Z",
          "iopub.status.idle": "2022-04-14T04:14:52.617439Z",
          "shell.execute_reply.started": "2022-04-14T04:14:52.431208Z",
          "shell.execute_reply": "2022-04-14T04:14:52.616619Z"
        },
        "trusted": true,
        "colab": {
          "base_uri": "https://localhost:8080/",
          "height": 287
        },
        "id": "lDXnXXFLll2U",
        "outputId": "e2f35a3a-401f-4c0f-af9d-4eadbf428f34"
      },
      "execution_count": 50,
      "outputs": [
        {
          "output_type": "stream",
          "name": "stderr",
          "text": [
            "No handles with labels found to put in legend.\n"
          ]
        },
        {
          "output_type": "display_data",
          "data": {
            "text/plain": [
              "<Figure size 432x288 with 1 Axes>"
            ],
            "image/png": "[encoded data removed]"
          },
          "metadata": {}
        }
      ]
    },
    {
      "cell_type": "code",
      "source": [
        "# Train RandomForest Classifier \n",
        "rf_classifier = RandomForestClassifier(random_state=42)\n",
        "rf_classifier.fit(x_resample, y_resample)\n",
        "random_data = x_resample[:3]\n",
        "random_data_label = y_resample[:3]\n",
        "predictions = rf_classifier.predict(random_data)\n",
        "print(predictions)\n",
        "print(random_data_label)"
      ],
      "metadata": {
        "execution": {
          "iopub.status.busy": "2022-04-14T04:18:13.428121Z",
          "iopub.execute_input": "2022-04-14T04:18:13.428782Z",
          "iopub.status.idle": "2022-04-14T04:18:14.504156Z",
          "shell.execute_reply.started": "2022-04-14T04:18:13.428738Z",
          "shell.execute_reply": "2022-04-14T04:18:14.503024Z"
        },
        "trusted": true,
        "colab": {
          "base_uri": "https://localhost:8080/"
        },
        "id": "CyTuQLkZll2U",
        "outputId": "444b697f-77ed-4122-dbf9-4b496aafeebd"
      },
      "execution_count": 51,
      "outputs": [
        {
          "output_type": "stream",
          "name": "stdout",
          "text": [
            "[0 0 0]\n",
            "[0 0 0]\n"
          ]
        }
      ]
    },
    {
      "cell_type": "code",
      "source": [
        "# Use Cross_val_score to determine the accuracy of logistic Regression\n",
        "cross_val_score(rf_classifier, x_resample, y_resample, scoring='accuracy', cv=5)"
      ],
      "metadata": {
        "execution": {
          "iopub.status.busy": "2022-04-14T04:18:29.147123Z",
          "iopub.execute_input": "2022-04-14T04:18:29.147768Z",
          "iopub.status.idle": "2022-04-14T04:18:33.546011Z",
          "shell.execute_reply.started": "2022-04-14T04:18:29.147722Z",
          "shell.execute_reply": "2022-04-14T04:18:33.545061Z"
        },
        "trusted": true,
        "colab": {
          "base_uri": "https://localhost:8080/"
        },
        "id": "lQV7YaS8ll2U",
        "outputId": "cfb72ab9-ef47-4680-fa2b-4e1d0f6b7950"
      },
      "execution_count": 52,
      "outputs": [
        {
          "output_type": "execute_result",
          "data": {
            "text/plain": [
              "array([0.93076923, 0.97820513, 0.98397436, 0.975     , 0.97884615])"
            ]
          },
          "metadata": {},
          "execution_count": 52
        }
      ]
    },
    {
      "cell_type": "code",
      "source": [
        "# Check out the confusion matrix \n",
        "y_train_predictions = cross_val_predict(rf_classifier, x_resample, y_resample, cv=5)\n",
        "confusion_matrix(y_resample, y_train_predictions)"
      ],
      "metadata": {
        "execution": {
          "iopub.status.busy": "2022-04-14T04:19:04.052949Z",
          "iopub.execute_input": "2022-04-14T04:19:04.053524Z",
          "iopub.status.idle": "2022-04-14T04:19:08.512209Z",
          "shell.execute_reply.started": "2022-04-14T04:19:04.053488Z",
          "shell.execute_reply": "2022-04-14T04:19:08.511174Z"
        },
        "trusted": true,
        "colab": {
          "base_uri": "https://localhost:8080/"
        },
        "id": "14hLd-Yfll2U",
        "outputId": "c71ecdae-7b45-4813-c75f-cbf3c34e6c09"
      },
      "execution_count": 53,
      "outputs": [
        {
          "output_type": "execute_result",
          "data": {
            "text/plain": [
              "array([[3776,  124],\n",
              "       [ 115, 3785]])"
            ]
          },
          "metadata": {},
          "execution_count": 53
        }
      ]
    },
    {
      "cell_type": "code",
      "source": [
        "# Calculate the precision and recall score, f1_score \n",
        "precision = precision_score(y_resample, y_train_predictions)\n",
        "recall = recall_score(y_resample, y_train_predictions)\n",
        "f1 = f1_score(y_resample, y_train_predictions)\n",
        "roc_auc = roc_auc_score(y_resample, y_train_predictions)\n",
        "print('Precision ', precision)\n",
        "print('Recall ', recall)\n",
        "print('F1 ', f1)\n",
        "print('ROC_AUC ', roc_auc)"
      ],
      "metadata": {
        "execution": {
          "iopub.status.busy": "2022-04-14T04:19:58.305128Z",
          "iopub.execute_input": "2022-04-14T04:19:58.306848Z",
          "iopub.status.idle": "2022-04-14T04:19:58.32551Z",
          "shell.execute_reply.started": "2022-04-14T04:19:58.306772Z",
          "shell.execute_reply": "2022-04-14T04:19:58.324674Z"
        },
        "trusted": true,
        "colab": {
          "base_uri": "https://localhost:8080/"
        },
        "id": "yGRO97aLll2U",
        "outputId": "f5e9fd6c-ac73-4454-b881-f016b2a24a95"
      },
      "execution_count": 54,
      "outputs": [
        {
          "output_type": "stream",
          "name": "stdout",
          "text": [
            "Precision  0.9682783320542339\n",
            "Recall  0.9705128205128205\n",
            "F1  0.9693942886413114\n",
            "ROC_AUC  0.9693589743589743\n"
          ]
        }
      ]
    },
    {
      "cell_type": "code",
      "source": [
        "# Use Grid Search For hyperparameter tuning \n",
        "rf_classifier = RandomForestClassifier()\n",
        "\n",
        "param_grids = [\n",
        "    {'n_estimators': [100, 200, 300], 'criterion': ['gini', 'entropy'], 'max_features': ['auto', 'sqrt', 'log2']}\n",
        "] \n",
        "\n",
        "grid_search = GridSearchCV(rf_classifier, param_grid=param_grids, scoring='accuracy', cv=5, verbose=3)\n",
        "grid_search.fit(x_resample, y_resample)"
      ],
      "metadata": {
        "execution": {
          "iopub.status.busy": "2022-04-14T05:54:45.187134Z",
          "iopub.execute_input": "2022-04-14T05:54:45.187462Z",
          "iopub.status.idle": "2022-04-14T05:57:34.082815Z",
          "shell.execute_reply.started": "2022-04-14T05:54:45.187419Z",
          "shell.execute_reply": "2022-04-14T05:57:34.081789Z"
        },
        "trusted": true,
        "colab": {
          "base_uri": "https://localhost:8080/"
        },
        "id": "a5RfnnNjll2U",
        "outputId": "48d50228-fbcf-444c-e68c-6dea8714dabe"
      },
      "execution_count": 55,
      "outputs": [
        {
          "output_type": "stream",
          "name": "stdout",
          "text": [
            "Fitting 5 folds for each of 18 candidates, totalling 90 fits\n",
            "[CV 1/5] END criterion=gini, max_features=auto, n_estimators=100;, score=0.930 total time=   0.9s\n",
            "[CV 2/5] END criterion=gini, max_features=auto, n_estimators=100;, score=0.980 total time=   0.9s\n",
            "[CV 3/5] END criterion=gini, max_features=auto, n_estimators=100;, score=0.980 total time=   0.9s\n",
            "[CV 4/5] END criterion=gini, max_features=auto, n_estimators=100;, score=0.974 total time=   0.9s\n",
            "[CV 5/5] END criterion=gini, max_features=auto, n_estimators=100;, score=0.979 total time=   0.9s\n",
            "[CV 1/5] END criterion=gini, max_features=auto, n_estimators=200;, score=0.928 total time=   1.8s\n",
            "[CV 2/5] END criterion=gini, max_features=auto, n_estimators=200;, score=0.980 total time=   1.8s\n",
            "[CV 3/5] END criterion=gini, max_features=auto, n_estimators=200;, score=0.981 total time=   1.8s\n",
            "[CV 4/5] END criterion=gini, max_features=auto, n_estimators=200;, score=0.974 total time=   1.8s\n",
            "[CV 5/5] END criterion=gini, max_features=auto, n_estimators=200;, score=0.981 total time=   1.8s\n",
            "[CV 1/5] END criterion=gini, max_features=auto, n_estimators=300;, score=0.934 total time=   2.6s\n",
            "[CV 2/5] END criterion=gini, max_features=auto, n_estimators=300;, score=0.980 total time=   2.7s\n",
            "[CV 3/5] END criterion=gini, max_features=auto, n_estimators=300;, score=0.986 total time=   2.7s\n",
            "[CV 4/5] END criterion=gini, max_features=auto, n_estimators=300;, score=0.975 total time=   2.7s\n",
            "[CV 5/5] END criterion=gini, max_features=auto, n_estimators=300;, score=0.980 total time=   2.7s\n",
            "[CV 1/5] END criterion=gini, max_features=sqrt, n_estimators=100;, score=0.931 total time=   0.9s\n",
            "[CV 2/5] END criterion=gini, max_features=sqrt, n_estimators=100;, score=0.979 total time=   1.0s\n",
            "[CV 3/5] END criterion=gini, max_features=sqrt, n_estimators=100;, score=0.982 total time=   1.2s\n",
            "[CV 4/5] END criterion=gini, max_features=sqrt, n_estimators=100;, score=0.971 total time=   0.9s\n",
            "[CV 5/5] END criterion=gini, max_features=sqrt, n_estimators=100;, score=0.979 total time=   0.9s\n",
            "[CV 1/5] END criterion=gini, max_features=sqrt, n_estimators=200;, score=0.928 total time=   1.8s\n",
            "[CV 2/5] END criterion=gini, max_features=sqrt, n_estimators=200;, score=0.982 total time=   1.8s\n",
            "[CV 3/5] END criterion=gini, max_features=sqrt, n_estimators=200;, score=0.984 total time=   1.8s\n",
            "[CV 4/5] END criterion=gini, max_features=sqrt, n_estimators=200;, score=0.976 total time=   1.8s\n",
            "[CV 5/5] END criterion=gini, max_features=sqrt, n_estimators=200;, score=0.979 total time=   1.8s\n",
            "[CV 1/5] END criterion=gini, max_features=sqrt, n_estimators=300;, score=0.931 total time=   2.7s\n",
            "[CV 2/5] END criterion=gini, max_features=sqrt, n_estimators=300;, score=0.980 total time=   2.7s\n",
            "[CV 3/5] END criterion=gini, max_features=sqrt, n_estimators=300;, score=0.981 total time=   2.7s\n",
            "[CV 4/5] END criterion=gini, max_features=sqrt, n_estimators=300;, score=0.974 total time=   2.7s\n",
            "[CV 5/5] END criterion=gini, max_features=sqrt, n_estimators=300;, score=0.981 total time=   2.7s\n",
            "[CV 1/5] END criterion=gini, max_features=log2, n_estimators=100;, score=0.935 total time=   0.9s\n",
            "[CV 2/5] END criterion=gini, max_features=log2, n_estimators=100;, score=0.980 total time=   0.9s\n",
            "[CV 3/5] END criterion=gini, max_features=log2, n_estimators=100;, score=0.984 total time=   0.9s\n",
            "[CV 4/5] END criterion=gini, max_features=log2, n_estimators=100;, score=0.976 total time=   0.9s\n",
            "[CV 5/5] END criterion=gini, max_features=log2, n_estimators=100;, score=0.981 total time=   0.9s\n",
            "[CV 1/5] END criterion=gini, max_features=log2, n_estimators=200;, score=0.929 total time=   1.8s\n",
            "[CV 2/5] END criterion=gini, max_features=log2, n_estimators=200;, score=0.978 total time=   1.8s\n",
            "[CV 3/5] END criterion=gini, max_features=log2, n_estimators=200;, score=0.987 total time=   1.8s\n",
            "[CV 4/5] END criterion=gini, max_features=log2, n_estimators=200;, score=0.975 total time=   1.8s\n",
            "[CV 5/5] END criterion=gini, max_features=log2, n_estimators=200;, score=0.980 total time=   1.8s\n",
            "[CV 1/5] END criterion=gini, max_features=log2, n_estimators=300;, score=0.931 total time=   2.7s\n",
            "[CV 2/5] END criterion=gini, max_features=log2, n_estimators=300;, score=0.979 total time=   2.8s\n",
            "[CV 3/5] END criterion=gini, max_features=log2, n_estimators=300;, score=0.983 total time=   2.7s\n",
            "[CV 4/5] END criterion=gini, max_features=log2, n_estimators=300;, score=0.974 total time=   2.7s\n",
            "[CV 5/5] END criterion=gini, max_features=log2, n_estimators=300;, score=0.980 total time=   3.5s\n",
            "[CV 1/5] END criterion=entropy, max_features=auto, n_estimators=100;, score=0.929 total time=   1.3s\n",
            "[CV 2/5] END criterion=entropy, max_features=auto, n_estimators=100;, score=0.984 total time=   1.3s\n",
            "[CV 3/5] END criterion=entropy, max_features=auto, n_estimators=100;, score=0.983 total time=   1.3s\n",
            "[CV 4/5] END criterion=entropy, max_features=auto, n_estimators=100;, score=0.973 total time=   1.3s\n",
            "[CV 5/5] END criterion=entropy, max_features=auto, n_estimators=100;, score=0.981 total time=   1.3s\n",
            "[CV 1/5] END criterion=entropy, max_features=auto, n_estimators=200;, score=0.928 total time=   2.6s\n",
            "[CV 2/5] END criterion=entropy, max_features=auto, n_estimators=200;, score=0.978 total time=   2.6s\n",
            "[CV 3/5] END criterion=entropy, max_features=auto, n_estimators=200;, score=0.980 total time=   2.6s\n",
            "[CV 4/5] END criterion=entropy, max_features=auto, n_estimators=200;, score=0.976 total time=   2.6s\n",
            "[CV 5/5] END criterion=entropy, max_features=auto, n_estimators=200;, score=0.982 total time=   2.6s\n",
            "[CV 1/5] END criterion=entropy, max_features=auto, n_estimators=300;, score=0.929 total time=   4.0s\n",
            "[CV 2/5] END criterion=entropy, max_features=auto, n_estimators=300;, score=0.981 total time=   3.9s\n",
            "[CV 3/5] END criterion=entropy, max_features=auto, n_estimators=300;, score=0.985 total time=   3.9s\n",
            "[CV 4/5] END criterion=entropy, max_features=auto, n_estimators=300;, score=0.976 total time=   3.8s\n",
            "[CV 5/5] END criterion=entropy, max_features=auto, n_estimators=300;, score=0.980 total time=   3.8s\n",
            "[CV 1/5] END criterion=entropy, max_features=sqrt, n_estimators=100;, score=0.931 total time=   1.3s\n",
            "[CV 2/5] END criterion=entropy, max_features=sqrt, n_estimators=100;, score=0.980 total time=   1.3s\n",
            "[CV 3/5] END criterion=entropy, max_features=sqrt, n_estimators=100;, score=0.984 total time=   1.3s\n",
            "[CV 4/5] END criterion=entropy, max_features=sqrt, n_estimators=100;, score=0.977 total time=   1.3s\n",
            "[CV 5/5] END criterion=entropy, max_features=sqrt, n_estimators=100;, score=0.981 total time=   1.3s\n",
            "[CV 1/5] END criterion=entropy, max_features=sqrt, n_estimators=200;, score=0.930 total time=   2.6s\n",
            "[CV 2/5] END criterion=entropy, max_features=sqrt, n_estimators=200;, score=0.978 total time=   2.6s\n",
            "[CV 3/5] END criterion=entropy, max_features=sqrt, n_estimators=200;, score=0.983 total time=   2.5s\n",
            "[CV 4/5] END criterion=entropy, max_features=sqrt, n_estimators=200;, score=0.972 total time=   2.6s\n",
            "[CV 5/5] END criterion=entropy, max_features=sqrt, n_estimators=200;, score=0.983 total time=   2.6s\n",
            "[CV 1/5] END criterion=entropy, max_features=sqrt, n_estimators=300;, score=0.931 total time=   4.0s\n",
            "[CV 2/5] END criterion=entropy, max_features=sqrt, n_estimators=300;, score=0.981 total time=   3.9s\n",
            "[CV 3/5] END criterion=entropy, max_features=sqrt, n_estimators=300;, score=0.983 total time=   3.9s\n",
            "[CV 4/5] END criterion=entropy, max_features=sqrt, n_estimators=300;, score=0.974 total time=   3.9s\n",
            "[CV 5/5] END criterion=entropy, max_features=sqrt, n_estimators=300;, score=0.980 total time=   3.9s\n",
            "[CV 1/5] END criterion=entropy, max_features=log2, n_estimators=100;, score=0.923 total time=   1.3s\n",
            "[CV 2/5] END criterion=entropy, max_features=log2, n_estimators=100;, score=0.981 total time=   1.3s\n",
            "[CV 3/5] END criterion=entropy, max_features=log2, n_estimators=100;, score=0.983 total time=   1.3s\n",
            "[CV 4/5] END criterion=entropy, max_features=log2, n_estimators=100;, score=0.974 total time=   1.3s\n",
            "[CV 5/5] END criterion=entropy, max_features=log2, n_estimators=100;, score=0.980 total time=   1.3s\n",
            "[CV 1/5] END criterion=entropy, max_features=log2, n_estimators=200;, score=0.929 total time=   2.6s\n",
            "[CV 2/5] END criterion=entropy, max_features=log2, n_estimators=200;, score=0.981 total time=   2.6s\n",
            "[CV 3/5] END criterion=entropy, max_features=log2, n_estimators=200;, score=0.983 total time=   2.6s\n",
            "[CV 4/5] END criterion=entropy, max_features=log2, n_estimators=200;, score=0.974 total time=   2.6s\n",
            "[CV 5/5] END criterion=entropy, max_features=log2, n_estimators=200;, score=0.980 total time=   2.6s\n",
            "[CV 1/5] END criterion=entropy, max_features=log2, n_estimators=300;, score=0.930 total time=   3.8s\n",
            "[CV 2/5] END criterion=entropy, max_features=log2, n_estimators=300;, score=0.982 total time=   3.9s\n",
            "[CV 3/5] END criterion=entropy, max_features=log2, n_estimators=300;, score=0.985 total time=   4.7s\n",
            "[CV 4/5] END criterion=entropy, max_features=log2, n_estimators=300;, score=0.976 total time=   3.9s\n",
            "[CV 5/5] END criterion=entropy, max_features=log2, n_estimators=300;, score=0.981 total time=   3.9s\n"
          ]
        },
        {
          "output_type": "execute_result",
          "data": {
            "text/plain": [
              "GridSearchCV(cv=5, estimator=RandomForestClassifier(),\n",
              "             param_grid=[{'criterion': ['gini', 'entropy'],\n",
              "                          'max_features': ['auto', 'sqrt', 'log2'],\n",
              "                          'n_estimators': [100, 200, 300]}],\n",
              "             scoring='accuracy', verbose=3)"
            ]
          },
          "metadata": {},
          "execution_count": 55
        }
      ]
    },
    {
      "cell_type": "code",
      "source": [
        "grid_search.best_estimator_"
      ],
      "metadata": {
        "execution": {
          "iopub.status.busy": "2022-04-14T05:57:45.684634Z",
          "iopub.execute_input": "2022-04-14T05:57:45.684941Z",
          "iopub.status.idle": "2022-04-14T05:57:45.69104Z",
          "shell.execute_reply.started": "2022-04-14T05:57:45.68491Z",
          "shell.execute_reply": "2022-04-14T05:57:45.690159Z"
        },
        "trusted": true,
        "colab": {
          "base_uri": "https://localhost:8080/"
        },
        "id": "Xl35HLOqll2V",
        "outputId": "a6698150-7ec2-4da3-d85e-977c5567f65c"
      },
      "execution_count": 56,
      "outputs": [
        {
          "output_type": "execute_result",
          "data": {
            "text/plain": [
              "RandomForestClassifier(max_features='log2')"
            ]
          },
          "metadata": {},
          "execution_count": 56
        }
      ]
    },
    {
      "cell_type": "code",
      "source": [
        "# Train K-nearest Neighbors classifier \n",
        "rf_classifier = grid_search.best_estimator_ \n",
        "rf_classifier.fit(x_resample, y_resample)\n",
        "# Check out the confusion matrix \n",
        "y_train_predictions = cross_val_predict(rf_classifier, x_resample, y_resample, cv=5)\n",
        "conf_mat = confusion_matrix(y_resample, y_train_predictions)\n",
        "# Calculate the precision and recall score, f1_score \n",
        "precision = precision_score(y_resample, y_train_predictions)\n",
        "recall = recall_score(y_resample, y_train_predictions)\n",
        "f1 = f1_score(y_resample, y_train_predictions)\n",
        "roc_auc = roc_auc_score(y_resample, y_train_predictions)\n",
        "print('Precision ', precision)\n",
        "print('Recall ', recall)\n",
        "print('F1 ', f1)\n",
        "print('ROC_AUC ', roc_auc)\n",
        "print(conf_mat)"
      ],
      "metadata": {
        "execution": {
          "iopub.status.busy": "2022-04-14T05:58:02.757511Z",
          "iopub.execute_input": "2022-04-14T05:58:02.758015Z",
          "iopub.status.idle": "2022-04-14T05:58:13.209077Z",
          "shell.execute_reply.started": "2022-04-14T05:58:02.757982Z",
          "shell.execute_reply": "2022-04-14T05:58:13.208156Z"
        },
        "trusted": true,
        "colab": {
          "base_uri": "https://localhost:8080/"
        },
        "id": "BP_OgYqSll2V",
        "outputId": "8ff74e6f-99c2-4f40-f571-5fde8e4ac633"
      },
      "execution_count": 57,
      "outputs": [
        {
          "output_type": "stream",
          "name": "stdout",
          "text": [
            "Precision  0.9680306905370843\n",
            "Recall  0.9705128205128205\n",
            "F1  0.969270166453265\n",
            "ROC_AUC  0.9692307692307693\n",
            "[[3775  125]\n",
            " [ 115 3785]]\n"
          ]
        }
      ]
    },
    {
      "cell_type": "code",
      "source": [
        "# Train Multilayer perceptron classifier \n",
        "mlp_classifier = MLPClassifier()\n",
        "mlp_classifier.fit(x_resample, y_resample)\n",
        "\n",
        "random_data = x_resample[:3]\n",
        "random_label = y_resample[:3]\n",
        "predictions = mlp_classifier.predict(random_data)\n",
        "print(predictions)\n",
        "print(random_label)"
      ],
      "metadata": {
        "execution": {
          "iopub.status.busy": "2022-04-14T05:59:27.534583Z",
          "iopub.execute_input": "2022-04-14T05:59:27.534909Z",
          "iopub.status.idle": "2022-04-14T05:59:41.162705Z",
          "shell.execute_reply.started": "2022-04-14T05:59:27.534877Z",
          "shell.execute_reply": "2022-04-14T05:59:41.161803Z"
        },
        "trusted": true,
        "colab": {
          "base_uri": "https://localhost:8080/"
        },
        "id": "38mYUtC-ll2V",
        "outputId": "d5222c42-8565-4f5d-82de-1998bcd85bec"
      },
      "execution_count": 58,
      "outputs": [
        {
          "output_type": "stream",
          "name": "stdout",
          "text": [
            "[1 0 0]\n",
            "[0 0 0]\n"
          ]
        },
        {
          "output_type": "stream",
          "name": "stderr",
          "text": [
            "/usr/local/lib/python3.7/dist-packages/sklearn/neural_network/_multilayer_perceptron.py:696: ConvergenceWarning: Stochastic Optimizer: Maximum iterations (200) reached and the optimization hasn't converged yet.\n",
            "  ConvergenceWarning,\n"
          ]
        }
      ]
    },
    {
      "cell_type": "code",
      "source": [
        "# Use Cross_val_score to determine the accuracy of logistic Regression\n",
        "cross_val_score(mlp_classifier, x_resample, y_resample, scoring='accuracy', cv=5)"
      ],
      "metadata": {
        "execution": {
          "iopub.status.busy": "2022-04-14T06:01:16.674687Z",
          "iopub.execute_input": "2022-04-14T06:01:16.675105Z",
          "iopub.status.idle": "2022-04-14T06:02:07.75477Z",
          "shell.execute_reply.started": "2022-04-14T06:01:16.675073Z",
          "shell.execute_reply": "2022-04-14T06:02:07.753803Z"
        },
        "trusted": true,
        "colab": {
          "base_uri": "https://localhost:8080/"
        },
        "id": "FyRqoM52ll2V",
        "outputId": "80944271-f601-4f99-c7e0-28d59fe7f384"
      },
      "execution_count": 59,
      "outputs": [
        {
          "output_type": "stream",
          "name": "stderr",
          "text": [
            "/usr/local/lib/python3.7/dist-packages/sklearn/neural_network/_multilayer_perceptron.py:696: ConvergenceWarning: Stochastic Optimizer: Maximum iterations (200) reached and the optimization hasn't converged yet.\n",
            "  ConvergenceWarning,\n",
            "/usr/local/lib/python3.7/dist-packages/sklearn/neural_network/_multilayer_perceptron.py:696: ConvergenceWarning: Stochastic Optimizer: Maximum iterations (200) reached and the optimization hasn't converged yet.\n",
            "  ConvergenceWarning,\n",
            "/usr/local/lib/python3.7/dist-packages/sklearn/neural_network/_multilayer_perceptron.py:696: ConvergenceWarning: Stochastic Optimizer: Maximum iterations (200) reached and the optimization hasn't converged yet.\n",
            "  ConvergenceWarning,\n",
            "/usr/local/lib/python3.7/dist-packages/sklearn/neural_network/_multilayer_perceptron.py:696: ConvergenceWarning: Stochastic Optimizer: Maximum iterations (200) reached and the optimization hasn't converged yet.\n",
            "  ConvergenceWarning,\n",
            "/usr/local/lib/python3.7/dist-packages/sklearn/neural_network/_multilayer_perceptron.py:696: ConvergenceWarning: Stochastic Optimizer: Maximum iterations (200) reached and the optimization hasn't converged yet.\n",
            "  ConvergenceWarning,\n"
          ]
        },
        {
          "output_type": "execute_result",
          "data": {
            "text/plain": [
              "array([0.94487179, 0.9474359 , 0.94230769, 0.94102564, 0.95512821])"
            ]
          },
          "metadata": {},
          "execution_count": 59
        }
      ]
    },
    {
      "cell_type": "code",
      "source": [
        "# Check out the confusion matrix \n",
        "y_train_predictions = cross_val_predict(mlp_classifier, x_resample, y_resample, cv=5)\n",
        "confusion_matrix(y_resample, y_train_predictions)"
      ],
      "metadata": {
        "execution": {
          "iopub.status.busy": "2022-04-14T06:02:31.910151Z",
          "iopub.execute_input": "2022-04-14T06:02:31.910467Z",
          "iopub.status.idle": "2022-04-14T06:03:24.699339Z",
          "shell.execute_reply.started": "2022-04-14T06:02:31.910434Z",
          "shell.execute_reply": "2022-04-14T06:03:24.698426Z"
        },
        "trusted": true,
        "colab": {
          "base_uri": "https://localhost:8080/"
        },
        "id": "K3FzE3a_ll2W",
        "outputId": "c434025f-4e72-46d3-8032-ecfb43db3ec9"
      },
      "execution_count": 60,
      "outputs": [
        {
          "output_type": "stream",
          "name": "stderr",
          "text": [
            "/usr/local/lib/python3.7/dist-packages/sklearn/neural_network/_multilayer_perceptron.py:696: ConvergenceWarning: Stochastic Optimizer: Maximum iterations (200) reached and the optimization hasn't converged yet.\n",
            "  ConvergenceWarning,\n",
            "/usr/local/lib/python3.7/dist-packages/sklearn/neural_network/_multilayer_perceptron.py:696: ConvergenceWarning: Stochastic Optimizer: Maximum iterations (200) reached and the optimization hasn't converged yet.\n",
            "  ConvergenceWarning,\n",
            "/usr/local/lib/python3.7/dist-packages/sklearn/neural_network/_multilayer_perceptron.py:696: ConvergenceWarning: Stochastic Optimizer: Maximum iterations (200) reached and the optimization hasn't converged yet.\n",
            "  ConvergenceWarning,\n",
            "/usr/local/lib/python3.7/dist-packages/sklearn/neural_network/_multilayer_perceptron.py:696: ConvergenceWarning: Stochastic Optimizer: Maximum iterations (200) reached and the optimization hasn't converged yet.\n",
            "  ConvergenceWarning,\n",
            "/usr/local/lib/python3.7/dist-packages/sklearn/neural_network/_multilayer_perceptron.py:696: ConvergenceWarning: Stochastic Optimizer: Maximum iterations (200) reached and the optimization hasn't converged yet.\n",
            "  ConvergenceWarning,\n"
          ]
        },
        {
          "output_type": "execute_result",
          "data": {
            "text/plain": [
              "array([[3578,  322],\n",
              "       [  44, 3856]])"
            ]
          },
          "metadata": {},
          "execution_count": 60
        }
      ]
    },
    {
      "cell_type": "code",
      "source": [
        "# Calculate the precision and recall score, f1_score \n",
        "precision = precision_score(y_resample, y_train_predictions)\n",
        "recall = recall_score(y_resample, y_train_predictions)\n",
        "f1 = f1_score(y_resample, y_train_predictions)\n",
        "roc_score = roc_auc_score(y_resample, y_train_predictions)\n",
        "print('Precision ', precision)\n",
        "print('Recall ', recall)\n",
        "print('F1 ', f1)\n",
        "print('AUC_ROC ', roc_score)"
      ],
      "metadata": {
        "execution": {
          "iopub.status.busy": "2022-04-14T06:09:03.364289Z",
          "iopub.execute_input": "2022-04-14T06:09:03.364695Z",
          "iopub.status.idle": "2022-04-14T06:09:03.385124Z",
          "shell.execute_reply.started": "2022-04-14T06:09:03.364655Z",
          "shell.execute_reply": "2022-04-14T06:09:03.384147Z"
        },
        "trusted": true,
        "colab": {
          "base_uri": "https://localhost:8080/"
        },
        "id": "mpGqF_Pull2W",
        "outputId": "967d7195-7a7b-41bd-ea8b-312cbafc87b8"
      },
      "execution_count": 61,
      "outputs": [
        {
          "output_type": "stream",
          "name": "stdout",
          "text": [
            "Precision  0.922929631402585\n",
            "Recall  0.9887179487179487\n",
            "F1  0.9546917553849963\n",
            "AUC_ROC  0.953076923076923\n"
          ]
        }
      ]
    },
    {
      "cell_type": "code",
      "source": [
        "# Use Grid Search to get best parameter combinations\n",
        "mlp_classifier = MLPClassifier()\n",
        "\n",
        "param_grids = [\n",
        "    {\n",
        "        'hidden_layer_sizes': [100, 200, 300], 'activation': ['identity', 'tanh', 'relu'],\n",
        "        'solver': ['sgd', 'adam'], 'learning_rate': ['constant', 'invscaling', 'adaptive'],\n",
        "        'max_iter': [200, 400, 600]\n",
        "    }\n",
        "]\n",
        "\n",
        "grid_search = GridSearchCV(\n",
        "    mlp_classifier, param_grid=param_grids, scoring='accuracy', cv=5, verbose=2\n",
        ")\n",
        "\n",
        "grid_search.fit(x_resample, y_resample)"
      ],
      "metadata": {
        "trusted": true,
        "colab": {
          "base_uri": "https://localhost:8080/"
        },
        "id": "ORYZh390ll2W",
        "outputId": "f3798f3a-98f0-4bda-ee48-0f86dab687b3"
      },
      "execution_count": null,
      "outputs": [
        {
          "output_type": "stream",
          "name": "stdout",
          "text": [
            "Fitting 5 folds for each of 162 candidates, totalling 810 fits\n",
            "[CV] END activation=identity, hidden_layer_sizes=100, learning_rate=constant, max_iter=200, solver=sgd; total time=   2.4s\n",
            "[CV] END activation=identity, hidden_layer_sizes=100, learning_rate=constant, max_iter=200, solver=sgd; total time=   4.2s\n",
            "[CV] END activation=identity, hidden_layer_sizes=100, learning_rate=constant, max_iter=200, solver=sgd; total time=   3.2s\n",
            "[CV] END activation=identity, hidden_layer_sizes=100, learning_rate=constant, max_iter=200, solver=sgd; total time=   3.0s\n",
            "[CV] END activation=identity, hidden_layer_sizes=100, learning_rate=constant, max_iter=200, solver=sgd; total time=   3.5s\n",
            "[CV] END activation=identity, hidden_layer_sizes=100, learning_rate=constant, max_iter=200, solver=adam; total time=   2.3s\n",
            "[CV] END activation=identity, hidden_layer_sizes=100, learning_rate=constant, max_iter=200, solver=adam; total time=   1.7s\n",
            "[CV] END activation=identity, hidden_layer_sizes=100, learning_rate=constant, max_iter=200, solver=adam; total time=   1.8s\n",
            "[CV] END activation=identity, hidden_layer_sizes=100, learning_rate=constant, max_iter=200, solver=adam; total time=   1.7s\n",
            "[CV] END activation=identity, hidden_layer_sizes=100, learning_rate=constant, max_iter=200, solver=adam; total time=   2.7s\n",
            "[CV] END activation=identity, hidden_layer_sizes=100, learning_rate=constant, max_iter=400, solver=sgd; total time=   2.4s\n",
            "[CV] END activation=identity, hidden_layer_sizes=100, learning_rate=constant, max_iter=400, solver=sgd; total time=   5.2s\n",
            "[CV] END activation=identity, hidden_layer_sizes=100, learning_rate=constant, max_iter=400, solver=sgd; total time=   2.5s\n",
            "[CV] END activation=identity, hidden_layer_sizes=100, learning_rate=constant, max_iter=400, solver=sgd; total time=   3.9s\n",
            "[CV] END activation=identity, hidden_layer_sizes=100, learning_rate=constant, max_iter=400, solver=sgd; total time=   1.7s\n",
            "[CV] END activation=identity, hidden_layer_sizes=100, learning_rate=constant, max_iter=400, solver=adam; total time=   1.8s\n",
            "[CV] END activation=identity, hidden_layer_sizes=100, learning_rate=constant, max_iter=400, solver=adam; total time=   1.7s\n",
            "[CV] END activation=identity, hidden_layer_sizes=100, learning_rate=constant, max_iter=400, solver=adam; total time=   2.3s\n",
            "[CV] END activation=identity, hidden_layer_sizes=100, learning_rate=constant, max_iter=400, solver=adam; total time=   2.6s\n",
            "[CV] END activation=identity, hidden_layer_sizes=100, learning_rate=constant, max_iter=400, solver=adam; total time=   2.4s\n",
            "[CV] END activation=identity, hidden_layer_sizes=100, learning_rate=constant, max_iter=600, solver=sgd; total time=   3.8s\n",
            "[CV] END activation=identity, hidden_layer_sizes=100, learning_rate=constant, max_iter=600, solver=sgd; total time=   3.9s\n",
            "[CV] END activation=identity, hidden_layer_sizes=100, learning_rate=constant, max_iter=600, solver=sgd; total time=   2.8s\n",
            "[CV] END activation=identity, hidden_layer_sizes=100, learning_rate=constant, max_iter=600, solver=sgd; total time=   3.5s\n",
            "[CV] END activation=identity, hidden_layer_sizes=100, learning_rate=constant, max_iter=600, solver=sgd; total time=   3.6s\n",
            "[CV] END activation=identity, hidden_layer_sizes=100, learning_rate=constant, max_iter=600, solver=adam; total time=   1.7s\n",
            "[CV] END activation=identity, hidden_layer_sizes=100, learning_rate=constant, max_iter=600, solver=adam; total time=   1.8s\n",
            "[CV] END activation=identity, hidden_layer_sizes=100, learning_rate=constant, max_iter=600, solver=adam; total time=   2.0s\n",
            "[CV] END activation=identity, hidden_layer_sizes=100, learning_rate=constant, max_iter=600, solver=adam; total time=   1.9s\n",
            "[CV] END activation=identity, hidden_layer_sizes=100, learning_rate=constant, max_iter=600, solver=adam; total time=   1.7s\n",
            "[CV] END activation=identity, hidden_layer_sizes=100, learning_rate=invscaling, max_iter=200, solver=sgd; total time=   2.2s\n",
            "[CV] END activation=identity, hidden_layer_sizes=100, learning_rate=invscaling, max_iter=200, solver=sgd; total time=   1.7s\n",
            "[CV] END activation=identity, hidden_layer_sizes=100, learning_rate=invscaling, max_iter=200, solver=sgd; total time=   1.2s\n",
            "[CV] END activation=identity, hidden_layer_sizes=100, learning_rate=invscaling, max_iter=200, solver=sgd; total time=   1.3s\n",
            "[CV] END activation=identity, hidden_layer_sizes=100, learning_rate=invscaling, max_iter=200, solver=sgd; total time=   0.9s\n",
            "[CV] END activation=identity, hidden_layer_sizes=100, learning_rate=invscaling, max_iter=200, solver=adam; total time=   2.3s\n",
            "[CV] END activation=identity, hidden_layer_sizes=100, learning_rate=invscaling, max_iter=200, solver=adam; total time=   2.2s\n",
            "[CV] END activation=identity, hidden_layer_sizes=100, learning_rate=invscaling, max_iter=200, solver=adam; total time=   2.6s\n",
            "[CV] END activation=identity, hidden_layer_sizes=100, learning_rate=invscaling, max_iter=200, solver=adam; total time=   1.7s\n",
            "[CV] END activation=identity, hidden_layer_sizes=100, learning_rate=invscaling, max_iter=200, solver=adam; total time=   2.4s\n",
            "[CV] END activation=identity, hidden_layer_sizes=100, learning_rate=invscaling, max_iter=400, solver=sgd; total time=   2.4s\n",
            "[CV] END activation=identity, hidden_layer_sizes=100, learning_rate=invscaling, max_iter=400, solver=sgd; total time=   2.7s\n",
            "[CV] END activation=identity, hidden_layer_sizes=100, learning_rate=invscaling, max_iter=400, solver=sgd; total time=   1.0s\n",
            "[CV] END activation=identity, hidden_layer_sizes=100, learning_rate=invscaling, max_iter=400, solver=sgd; total time=   0.8s\n",
            "[CV] END activation=identity, hidden_layer_sizes=100, learning_rate=invscaling, max_iter=400, solver=sgd; total time=   1.3s\n",
            "[CV] END activation=identity, hidden_layer_sizes=100, learning_rate=invscaling, max_iter=400, solver=adam; total time=   1.7s\n",
            "[CV] END activation=identity, hidden_layer_sizes=100, learning_rate=invscaling, max_iter=400, solver=adam; total time=   2.0s\n",
            "[CV] END activation=identity, hidden_layer_sizes=100, learning_rate=invscaling, max_iter=400, solver=adam; total time=   1.9s\n",
            "[CV] END activation=identity, hidden_layer_sizes=100, learning_rate=invscaling, max_iter=400, solver=adam; total time=   2.1s\n",
            "[CV] END activation=identity, hidden_layer_sizes=100, learning_rate=invscaling, max_iter=400, solver=adam; total time=   1.8s\n",
            "[CV] END activation=identity, hidden_layer_sizes=100, learning_rate=invscaling, max_iter=600, solver=sgd; total time=   2.0s\n",
            "[CV] END activation=identity, hidden_layer_sizes=100, learning_rate=invscaling, max_iter=600, solver=sgd; total time=   1.3s\n",
            "[CV] END activation=identity, hidden_layer_sizes=100, learning_rate=invscaling, max_iter=600, solver=sgd; total time=   0.7s\n",
            "[CV] END activation=identity, hidden_layer_sizes=100, learning_rate=invscaling, max_iter=600, solver=sgd; total time=   1.3s\n",
            "[CV] END activation=identity, hidden_layer_sizes=100, learning_rate=invscaling, max_iter=600, solver=sgd; total time=   0.5s\n",
            "[CV] END activation=identity, hidden_layer_sizes=100, learning_rate=invscaling, max_iter=600, solver=adam; total time=   2.1s\n",
            "[CV] END activation=identity, hidden_layer_sizes=100, learning_rate=invscaling, max_iter=600, solver=adam; total time=   1.5s\n",
            "[CV] END activation=identity, hidden_layer_sizes=100, learning_rate=invscaling, max_iter=600, solver=adam; total time=   1.4s\n",
            "[CV] END activation=identity, hidden_layer_sizes=100, learning_rate=invscaling, max_iter=600, solver=adam; total time=   1.9s\n",
            "[CV] END activation=identity, hidden_layer_sizes=100, learning_rate=invscaling, max_iter=600, solver=adam; total time=   2.2s\n",
            "[CV] END activation=identity, hidden_layer_sizes=100, learning_rate=adaptive, max_iter=200, solver=sgd; total time=   4.2s\n",
            "[CV] END activation=identity, hidden_layer_sizes=100, learning_rate=adaptive, max_iter=200, solver=sgd; total time=   5.2s\n",
            "[CV] END activation=identity, hidden_layer_sizes=100, learning_rate=adaptive, max_iter=200, solver=sgd; total time=   5.1s\n",
            "[CV] END activation=identity, hidden_layer_sizes=100, learning_rate=adaptive, max_iter=200, solver=sgd; total time=   4.7s\n",
            "[CV] END activation=identity, hidden_layer_sizes=100, learning_rate=adaptive, max_iter=200, solver=sgd; total time=   3.6s\n",
            "[CV] END activation=identity, hidden_layer_sizes=100, learning_rate=adaptive, max_iter=200, solver=adam; total time=   1.6s\n",
            "[CV] END activation=identity, hidden_layer_sizes=100, learning_rate=adaptive, max_iter=200, solver=adam; total time=   2.3s\n",
            "[CV] END activation=identity, hidden_layer_sizes=100, learning_rate=adaptive, max_iter=200, solver=adam; total time=   2.2s\n",
            "[CV] END activation=identity, hidden_layer_sizes=100, learning_rate=adaptive, max_iter=200, solver=adam; total time=   1.9s\n",
            "[CV] END activation=identity, hidden_layer_sizes=100, learning_rate=adaptive, max_iter=200, solver=adam; total time=   2.1s\n",
            "[CV] END activation=identity, hidden_layer_sizes=100, learning_rate=adaptive, max_iter=400, solver=sgd; total time=   3.7s\n",
            "[CV] END activation=identity, hidden_layer_sizes=100, learning_rate=adaptive, max_iter=400, solver=sgd; total time=   5.5s\n",
            "[CV] END activation=identity, hidden_layer_sizes=100, learning_rate=adaptive, max_iter=400, solver=sgd; total time=   4.4s\n",
            "[CV] END activation=identity, hidden_layer_sizes=100, learning_rate=adaptive, max_iter=400, solver=sgd; total time=   5.0s\n",
            "[CV] END activation=identity, hidden_layer_sizes=100, learning_rate=adaptive, max_iter=400, solver=sgd; total time=   4.5s\n",
            "[CV] END activation=identity, hidden_layer_sizes=100, learning_rate=adaptive, max_iter=400, solver=adam; total time=   1.7s\n",
            "[CV] END activation=identity, hidden_layer_sizes=100, learning_rate=adaptive, max_iter=400, solver=adam; total time=   1.8s\n",
            "[CV] END activation=identity, hidden_layer_sizes=100, learning_rate=adaptive, max_iter=400, solver=adam; total time=   1.8s\n",
            "[CV] END activation=identity, hidden_layer_sizes=100, learning_rate=adaptive, max_iter=400, solver=adam; total time=   1.6s\n",
            "[CV] END activation=identity, hidden_layer_sizes=100, learning_rate=adaptive, max_iter=400, solver=adam; total time=   1.7s\n",
            "[CV] END activation=identity, hidden_layer_sizes=100, learning_rate=adaptive, max_iter=600, solver=sgd; total time=   4.9s\n",
            "[CV] END activation=identity, hidden_layer_sizes=100, learning_rate=adaptive, max_iter=600, solver=sgd; total time=   6.3s\n",
            "[CV] END activation=identity, hidden_layer_sizes=100, learning_rate=adaptive, max_iter=600, solver=sgd; total time=   5.1s\n",
            "[CV] END activation=identity, hidden_layer_sizes=100, learning_rate=adaptive, max_iter=600, solver=sgd; total time=   5.0s\n",
            "[CV] END activation=identity, hidden_layer_sizes=100, learning_rate=adaptive, max_iter=600, solver=sgd; total time=   5.3s\n",
            "[CV] END activation=identity, hidden_layer_sizes=100, learning_rate=adaptive, max_iter=600, solver=adam; total time=   2.1s\n",
            "[CV] END activation=identity, hidden_layer_sizes=100, learning_rate=adaptive, max_iter=600, solver=adam; total time=   1.9s\n",
            "[CV] END activation=identity, hidden_layer_sizes=100, learning_rate=adaptive, max_iter=600, solver=adam; total time=   1.7s\n",
            "[CV] END activation=identity, hidden_layer_sizes=100, learning_rate=adaptive, max_iter=600, solver=adam; total time=   2.0s\n",
            "[CV] END activation=identity, hidden_layer_sizes=100, learning_rate=adaptive, max_iter=600, solver=adam; total time=   2.1s\n",
            "[CV] END activation=identity, hidden_layer_sizes=200, learning_rate=constant, max_iter=200, solver=sgd; total time=   4.8s\n",
            "[CV] END activation=identity, hidden_layer_sizes=200, learning_rate=constant, max_iter=200, solver=sgd; total time=   4.7s\n",
            "[CV] END activation=identity, hidden_layer_sizes=200, learning_rate=constant, max_iter=200, solver=sgd; total time=   5.4s\n",
            "[CV] END activation=identity, hidden_layer_sizes=200, learning_rate=constant, max_iter=200, solver=sgd; total time=   4.9s\n",
            "[CV] END activation=identity, hidden_layer_sizes=200, learning_rate=constant, max_iter=200, solver=sgd; total time=   4.8s\n",
            "[CV] END activation=identity, hidden_layer_sizes=200, learning_rate=constant, max_iter=200, solver=adam; total time=   2.0s\n",
            "[CV] END activation=identity, hidden_layer_sizes=200, learning_rate=constant, max_iter=200, solver=adam; total time=   3.9s\n",
            "[CV] END activation=identity, hidden_layer_sizes=200, learning_rate=constant, max_iter=200, solver=adam; total time=   2.2s\n",
            "[CV] END activation=identity, hidden_layer_sizes=200, learning_rate=constant, max_iter=200, solver=adam; total time=   2.3s\n",
            "[CV] END activation=identity, hidden_layer_sizes=200, learning_rate=constant, max_iter=200, solver=adam; total time=   2.5s\n",
            "[CV] END activation=identity, hidden_layer_sizes=200, learning_rate=constant, max_iter=400, solver=sgd; total time=   6.6s\n",
            "[CV] END activation=identity, hidden_layer_sizes=200, learning_rate=constant, max_iter=400, solver=sgd; total time=   5.2s\n",
            "[CV] END activation=identity, hidden_layer_sizes=200, learning_rate=constant, max_iter=400, solver=sgd; total time=   6.6s\n",
            "[CV] END activation=identity, hidden_layer_sizes=200, learning_rate=constant, max_iter=400, solver=sgd; total time=   6.1s\n",
            "[CV] END activation=identity, hidden_layer_sizes=200, learning_rate=constant, max_iter=400, solver=sgd; total time=   8.1s\n",
            "[CV] END activation=identity, hidden_layer_sizes=200, learning_rate=constant, max_iter=400, solver=adam; total time=   2.7s\n",
            "[CV] END activation=identity, hidden_layer_sizes=200, learning_rate=constant, max_iter=400, solver=adam; total time=   2.0s\n",
            "[CV] END activation=identity, hidden_layer_sizes=200, learning_rate=constant, max_iter=400, solver=adam; total time=   2.3s\n",
            "[CV] END activation=identity, hidden_layer_sizes=200, learning_rate=constant, max_iter=400, solver=adam; total time=   2.5s\n",
            "[CV] END activation=identity, hidden_layer_sizes=200, learning_rate=constant, max_iter=400, solver=adam; total time=   2.2s\n",
            "[CV] END activation=identity, hidden_layer_sizes=200, learning_rate=constant, max_iter=600, solver=sgd; total time=   5.8s\n",
            "[CV] END activation=identity, hidden_layer_sizes=200, learning_rate=constant, max_iter=600, solver=sgd; total time=   6.5s\n",
            "[CV] END activation=identity, hidden_layer_sizes=200, learning_rate=constant, max_iter=600, solver=sgd; total time=   3.8s\n",
            "[CV] END activation=identity, hidden_layer_sizes=200, learning_rate=constant, max_iter=600, solver=sgd; total time=   5.1s\n",
            "[CV] END activation=identity, hidden_layer_sizes=200, learning_rate=constant, max_iter=600, solver=sgd; total time=   4.4s\n",
            "[CV] END activation=identity, hidden_layer_sizes=200, learning_rate=constant, max_iter=600, solver=adam; total time=   2.4s\n",
            "[CV] END activation=identity, hidden_layer_sizes=200, learning_rate=constant, max_iter=600, solver=adam; total time=   1.8s\n",
            "[CV] END activation=identity, hidden_layer_sizes=200, learning_rate=constant, max_iter=600, solver=adam; total time=   2.5s\n",
            "[CV] END activation=identity, hidden_layer_sizes=200, learning_rate=constant, max_iter=600, solver=adam; total time=   3.2s\n",
            "[CV] END activation=identity, hidden_layer_sizes=200, learning_rate=constant, max_iter=600, solver=adam; total time=   3.1s\n",
            "[CV] END activation=identity, hidden_layer_sizes=200, learning_rate=invscaling, max_iter=200, solver=sgd; total time=   1.6s\n",
            "[CV] END activation=identity, hidden_layer_sizes=200, learning_rate=invscaling, max_iter=200, solver=sgd; total time=   2.5s\n",
            "[CV] END activation=identity, hidden_layer_sizes=200, learning_rate=invscaling, max_iter=200, solver=sgd; total time=   1.0s\n",
            "[CV] END activation=identity, hidden_layer_sizes=200, learning_rate=invscaling, max_iter=200, solver=sgd; total time=   2.0s\n",
            "[CV] END activation=identity, hidden_layer_sizes=200, learning_rate=invscaling, max_iter=200, solver=sgd; total time=   1.2s\n",
            "[CV] END activation=identity, hidden_layer_sizes=200, learning_rate=invscaling, max_iter=200, solver=adam; total time=   2.4s\n",
            "[CV] END activation=identity, hidden_layer_sizes=200, learning_rate=invscaling, max_iter=200, solver=adam; total time=   1.7s\n",
            "[CV] END activation=identity, hidden_layer_sizes=200, learning_rate=invscaling, max_iter=200, solver=adam; total time=   2.0s\n",
            "[CV] END activation=identity, hidden_layer_sizes=200, learning_rate=invscaling, max_iter=200, solver=adam; total time=   3.9s\n",
            "[CV] END activation=identity, hidden_layer_sizes=200, learning_rate=invscaling, max_iter=200, solver=adam; total time=   1.7s\n",
            "[CV] END activation=identity, hidden_layer_sizes=200, learning_rate=invscaling, max_iter=400, solver=sgd; total time=   2.0s\n",
            "[CV] END activation=identity, hidden_layer_sizes=200, learning_rate=invscaling, max_iter=400, solver=sgd; total time=   2.2s\n",
            "[CV] END activation=identity, hidden_layer_sizes=200, learning_rate=invscaling, max_iter=400, solver=sgd; total time=   1.6s\n",
            "[CV] END activation=identity, hidden_layer_sizes=200, learning_rate=invscaling, max_iter=400, solver=sgd; total time=   1.6s\n",
            "[CV] END activation=identity, hidden_layer_sizes=200, learning_rate=invscaling, max_iter=400, solver=sgd; total time=   1.2s\n",
            "[CV] END activation=identity, hidden_layer_sizes=200, learning_rate=invscaling, max_iter=400, solver=adam; total time=   2.3s\n",
            "[CV] END activation=identity, hidden_layer_sizes=200, learning_rate=invscaling, max_iter=400, solver=adam; total time=   1.9s\n",
            "[CV] END activation=identity, hidden_layer_sizes=200, learning_rate=invscaling, max_iter=400, solver=adam; total time=   3.6s\n",
            "[CV] END activation=identity, hidden_layer_sizes=200, learning_rate=invscaling, max_iter=400, solver=adam; total time=   3.0s\n",
            "[CV] END activation=identity, hidden_layer_sizes=200, learning_rate=invscaling, max_iter=400, solver=adam; total time=   2.3s\n",
            "[CV] END activation=identity, hidden_layer_sizes=200, learning_rate=invscaling, max_iter=600, solver=sgd; total time=   1.9s\n",
            "[CV] END activation=identity, hidden_layer_sizes=200, learning_rate=invscaling, max_iter=600, solver=sgd; total time=   2.3s\n",
            "[CV] END activation=identity, hidden_layer_sizes=200, learning_rate=invscaling, max_iter=600, solver=sgd; total time=   2.3s\n",
            "[CV] END activation=identity, hidden_layer_sizes=200, learning_rate=invscaling, max_iter=600, solver=sgd; total time=   1.4s\n",
            "[CV] END activation=identity, hidden_layer_sizes=200, learning_rate=invscaling, max_iter=600, solver=sgd; total time=   2.2s\n",
            "[CV] END activation=identity, hidden_layer_sizes=200, learning_rate=invscaling, max_iter=600, solver=adam; total time=   3.1s\n",
            "[CV] END activation=identity, hidden_layer_sizes=200, learning_rate=invscaling, max_iter=600, solver=adam; total time=   2.4s\n",
            "[CV] END activation=identity, hidden_layer_sizes=200, learning_rate=invscaling, max_iter=600, solver=adam; total time=   2.7s\n",
            "[CV] END activation=identity, hidden_layer_sizes=200, learning_rate=invscaling, max_iter=600, solver=adam; total time=   2.5s\n",
            "[CV] END activation=identity, hidden_layer_sizes=200, learning_rate=invscaling, max_iter=600, solver=adam; total time=   2.1s\n",
            "[CV] END activation=identity, hidden_layer_sizes=200, learning_rate=adaptive, max_iter=200, solver=sgd; total time=   6.9s\n"
          ]
        },
        {
          "output_type": "stream",
          "name": "stderr",
          "text": [
            "/usr/local/lib/python3.7/dist-packages/sklearn/neural_network/_multilayer_perceptron.py:696: ConvergenceWarning: Stochastic Optimizer: Maximum iterations (200) reached and the optimization hasn't converged yet.\n",
            "  ConvergenceWarning,\n"
          ]
        },
        {
          "output_type": "stream",
          "name": "stdout",
          "text": [
            "[CV] END activation=identity, hidden_layer_sizes=200, learning_rate=adaptive, max_iter=200, solver=sgd; total time=   8.8s\n",
            "[CV] END activation=identity, hidden_layer_sizes=200, learning_rate=adaptive, max_iter=200, solver=sgd; total time=   7.1s\n",
            "[CV] END activation=identity, hidden_layer_sizes=200, learning_rate=adaptive, max_iter=200, solver=sgd; total time=   7.2s\n",
            "[CV] END activation=identity, hidden_layer_sizes=200, learning_rate=adaptive, max_iter=200, solver=sgd; total time=   6.6s\n",
            "[CV] END activation=identity, hidden_layer_sizes=200, learning_rate=adaptive, max_iter=200, solver=adam; total time=   2.3s\n",
            "[CV] END activation=identity, hidden_layer_sizes=200, learning_rate=adaptive, max_iter=200, solver=adam; total time=   1.9s\n",
            "[CV] END activation=identity, hidden_layer_sizes=200, learning_rate=adaptive, max_iter=200, solver=adam; total time=   2.2s\n",
            "[CV] END activation=identity, hidden_layer_sizes=200, learning_rate=adaptive, max_iter=200, solver=adam; total time=   2.7s\n",
            "[CV] END activation=identity, hidden_layer_sizes=200, learning_rate=adaptive, max_iter=200, solver=adam; total time=   3.3s\n",
            "[CV] END activation=identity, hidden_layer_sizes=200, learning_rate=adaptive, max_iter=400, solver=sgd; total time=   6.8s\n",
            "[CV] END activation=identity, hidden_layer_sizes=200, learning_rate=adaptive, max_iter=400, solver=sgd; total time=   8.4s\n",
            "[CV] END activation=identity, hidden_layer_sizes=200, learning_rate=adaptive, max_iter=400, solver=sgd; total time=   6.3s\n",
            "[CV] END activation=identity, hidden_layer_sizes=200, learning_rate=adaptive, max_iter=400, solver=sgd; total time=   9.1s\n",
            "[CV] END activation=identity, hidden_layer_sizes=200, learning_rate=adaptive, max_iter=400, solver=sgd; total time=   8.5s\n",
            "[CV] END activation=identity, hidden_layer_sizes=200, learning_rate=adaptive, max_iter=400, solver=adam; total time=   2.4s\n",
            "[CV] END activation=identity, hidden_layer_sizes=200, learning_rate=adaptive, max_iter=400, solver=adam; total time=   2.2s\n",
            "[CV] END activation=identity, hidden_layer_sizes=200, learning_rate=adaptive, max_iter=400, solver=adam; total time=   3.1s\n",
            "[CV] END activation=identity, hidden_layer_sizes=200, learning_rate=adaptive, max_iter=400, solver=adam; total time=   2.3s\n",
            "[CV] END activation=identity, hidden_layer_sizes=200, learning_rate=adaptive, max_iter=400, solver=adam; total time=   2.6s\n",
            "[CV] END activation=identity, hidden_layer_sizes=200, learning_rate=adaptive, max_iter=600, solver=sgd; total time=   7.9s\n",
            "[CV] END activation=identity, hidden_layer_sizes=200, learning_rate=adaptive, max_iter=600, solver=sgd; total time=  10.0s\n",
            "[CV] END activation=identity, hidden_layer_sizes=200, learning_rate=adaptive, max_iter=600, solver=sgd; total time=   7.3s\n",
            "[CV] END activation=identity, hidden_layer_sizes=200, learning_rate=adaptive, max_iter=600, solver=sgd; total time=  10.0s\n",
            "[CV] END activation=identity, hidden_layer_sizes=200, learning_rate=adaptive, max_iter=600, solver=sgd; total time=   8.1s\n",
            "[CV] END activation=identity, hidden_layer_sizes=200, learning_rate=adaptive, max_iter=600, solver=adam; total time=   2.2s\n",
            "[CV] END activation=identity, hidden_layer_sizes=200, learning_rate=adaptive, max_iter=600, solver=adam; total time=   2.7s\n",
            "[CV] END activation=identity, hidden_layer_sizes=200, learning_rate=adaptive, max_iter=600, solver=adam; total time=   2.1s\n",
            "[CV] END activation=identity, hidden_layer_sizes=200, learning_rate=adaptive, max_iter=600, solver=adam; total time=   1.8s\n",
            "[CV] END activation=identity, hidden_layer_sizes=200, learning_rate=adaptive, max_iter=600, solver=adam; total time=   1.7s\n",
            "[CV] END activation=identity, hidden_layer_sizes=300, learning_rate=constant, max_iter=200, solver=sgd; total time=   8.0s\n",
            "[CV] END activation=identity, hidden_layer_sizes=300, learning_rate=constant, max_iter=200, solver=sgd; total time=   6.2s\n",
            "[CV] END activation=identity, hidden_layer_sizes=300, learning_rate=constant, max_iter=200, solver=sgd; total time=   6.1s\n",
            "[CV] END activation=identity, hidden_layer_sizes=300, learning_rate=constant, max_iter=200, solver=sgd; total time=   7.3s\n",
            "[CV] END activation=identity, hidden_layer_sizes=300, learning_rate=constant, max_iter=200, solver=sgd; total time=   4.8s\n",
            "[CV] END activation=identity, hidden_layer_sizes=300, learning_rate=constant, max_iter=200, solver=adam; total time=   3.3s\n",
            "[CV] END activation=identity, hidden_layer_sizes=300, learning_rate=constant, max_iter=200, solver=adam; total time=   2.5s\n",
            "[CV] END activation=identity, hidden_layer_sizes=300, learning_rate=constant, max_iter=200, solver=adam; total time=   3.2s\n",
            "[CV] END activation=identity, hidden_layer_sizes=300, learning_rate=constant, max_iter=200, solver=adam; total time=   2.7s\n",
            "[CV] END activation=identity, hidden_layer_sizes=300, learning_rate=constant, max_iter=200, solver=adam; total time=   2.9s\n",
            "[CV] END activation=identity, hidden_layer_sizes=300, learning_rate=constant, max_iter=400, solver=sgd; total time=   5.9s\n",
            "[CV] END activation=identity, hidden_layer_sizes=300, learning_rate=constant, max_iter=400, solver=sgd; total time=   6.3s\n",
            "[CV] END activation=identity, hidden_layer_sizes=300, learning_rate=constant, max_iter=400, solver=sgd; total time=   7.2s\n",
            "[CV] END activation=identity, hidden_layer_sizes=300, learning_rate=constant, max_iter=400, solver=sgd; total time=   6.3s\n",
            "[CV] END activation=identity, hidden_layer_sizes=300, learning_rate=constant, max_iter=400, solver=sgd; total time=   5.7s\n",
            "[CV] END activation=identity, hidden_layer_sizes=300, learning_rate=constant, max_iter=400, solver=adam; total time=   2.8s\n",
            "[CV] END activation=identity, hidden_layer_sizes=300, learning_rate=constant, max_iter=400, solver=adam; total time=   3.0s\n",
            "[CV] END activation=identity, hidden_layer_sizes=300, learning_rate=constant, max_iter=400, solver=adam; total time=   2.2s\n",
            "[CV] END activation=identity, hidden_layer_sizes=300, learning_rate=constant, max_iter=400, solver=adam; total time=   3.7s\n",
            "[CV] END activation=identity, hidden_layer_sizes=300, learning_rate=constant, max_iter=400, solver=adam; total time=   2.5s\n",
            "[CV] END activation=identity, hidden_layer_sizes=300, learning_rate=constant, max_iter=600, solver=sgd; total time=   4.1s\n",
            "[CV] END activation=identity, hidden_layer_sizes=300, learning_rate=constant, max_iter=600, solver=sgd; total time=   5.5s\n",
            "[CV] END activation=identity, hidden_layer_sizes=300, learning_rate=constant, max_iter=600, solver=sgd; total time=   5.0s\n",
            "[CV] END activation=identity, hidden_layer_sizes=300, learning_rate=constant, max_iter=600, solver=sgd; total time=   7.0s\n",
            "[CV] END activation=identity, hidden_layer_sizes=300, learning_rate=constant, max_iter=600, solver=sgd; total time=   7.4s\n",
            "[CV] END activation=identity, hidden_layer_sizes=300, learning_rate=constant, max_iter=600, solver=adam; total time=   2.4s\n",
            "[CV] END activation=identity, hidden_layer_sizes=300, learning_rate=constant, max_iter=600, solver=adam; total time=   2.4s\n",
            "[CV] END activation=identity, hidden_layer_sizes=300, learning_rate=constant, max_iter=600, solver=adam; total time=   2.5s\n",
            "[CV] END activation=identity, hidden_layer_sizes=300, learning_rate=constant, max_iter=600, solver=adam; total time=   2.9s\n",
            "[CV] END activation=identity, hidden_layer_sizes=300, learning_rate=constant, max_iter=600, solver=adam; total time=   2.9s\n",
            "[CV] END activation=identity, hidden_layer_sizes=300, learning_rate=invscaling, max_iter=200, solver=sgd; total time=   2.1s\n",
            "[CV] END activation=identity, hidden_layer_sizes=300, learning_rate=invscaling, max_iter=200, solver=sgd; total time=   2.9s\n",
            "[CV] END activation=identity, hidden_layer_sizes=300, learning_rate=invscaling, max_iter=200, solver=sgd; total time=   2.3s\n",
            "[CV] END activation=identity, hidden_layer_sizes=300, learning_rate=invscaling, max_iter=200, solver=sgd; total time=   2.3s\n",
            "[CV] END activation=identity, hidden_layer_sizes=300, learning_rate=invscaling, max_iter=200, solver=sgd; total time=   1.3s\n",
            "[CV] END activation=identity, hidden_layer_sizes=300, learning_rate=invscaling, max_iter=200, solver=adam; total time=   2.2s\n",
            "[CV] END activation=identity, hidden_layer_sizes=300, learning_rate=invscaling, max_iter=200, solver=adam; total time=   3.2s\n",
            "[CV] END activation=identity, hidden_layer_sizes=300, learning_rate=invscaling, max_iter=200, solver=adam; total time=   2.4s\n",
            "[CV] END activation=identity, hidden_layer_sizes=300, learning_rate=invscaling, max_iter=200, solver=adam; total time=   4.0s\n",
            "[CV] END activation=identity, hidden_layer_sizes=300, learning_rate=invscaling, max_iter=200, solver=adam; total time=   2.2s\n",
            "[CV] END activation=identity, hidden_layer_sizes=300, learning_rate=invscaling, max_iter=400, solver=sgd; total time=   2.0s\n",
            "[CV] END activation=identity, hidden_layer_sizes=300, learning_rate=invscaling, max_iter=400, solver=sgd; total time=   1.6s\n",
            "[CV] END activation=identity, hidden_layer_sizes=300, learning_rate=invscaling, max_iter=400, solver=sgd; total time=   2.4s\n",
            "[CV] END activation=identity, hidden_layer_sizes=300, learning_rate=invscaling, max_iter=400, solver=sgd; total time=   2.7s\n",
            "[CV] END activation=identity, hidden_layer_sizes=300, learning_rate=invscaling, max_iter=400, solver=sgd; total time=   2.3s\n",
            "[CV] END activation=identity, hidden_layer_sizes=300, learning_rate=invscaling, max_iter=400, solver=adam; total time=   2.4s\n",
            "[CV] END activation=identity, hidden_layer_sizes=300, learning_rate=invscaling, max_iter=400, solver=adam; total time=   2.5s\n",
            "[CV] END activation=identity, hidden_layer_sizes=300, learning_rate=invscaling, max_iter=400, solver=adam; total time=   3.2s\n",
            "[CV] END activation=identity, hidden_layer_sizes=300, learning_rate=invscaling, max_iter=400, solver=adam; total time=   2.8s\n",
            "[CV] END activation=identity, hidden_layer_sizes=300, learning_rate=invscaling, max_iter=400, solver=adam; total time=   2.8s\n",
            "[CV] END activation=identity, hidden_layer_sizes=300, learning_rate=invscaling, max_iter=600, solver=sgd; total time=   2.6s\n",
            "[CV] END activation=identity, hidden_layer_sizes=300, learning_rate=invscaling, max_iter=600, solver=sgd; total time=   1.8s\n",
            "[CV] END activation=identity, hidden_layer_sizes=300, learning_rate=invscaling, max_iter=600, solver=sgd; total time=   3.4s\n",
            "[CV] END activation=identity, hidden_layer_sizes=300, learning_rate=invscaling, max_iter=600, solver=sgd; total time=   1.8s\n",
            "[CV] END activation=identity, hidden_layer_sizes=300, learning_rate=invscaling, max_iter=600, solver=sgd; total time=   2.1s\n",
            "[CV] END activation=identity, hidden_layer_sizes=300, learning_rate=invscaling, max_iter=600, solver=adam; total time=   2.1s\n",
            "[CV] END activation=identity, hidden_layer_sizes=300, learning_rate=invscaling, max_iter=600, solver=adam; total time=   2.6s\n",
            "[CV] END activation=identity, hidden_layer_sizes=300, learning_rate=invscaling, max_iter=600, solver=adam; total time=   2.8s\n",
            "[CV] END activation=identity, hidden_layer_sizes=300, learning_rate=invscaling, max_iter=600, solver=adam; total time=   2.3s\n",
            "[CV] END activation=identity, hidden_layer_sizes=300, learning_rate=invscaling, max_iter=600, solver=adam; total time=   2.6s\n",
            "[CV] END activation=identity, hidden_layer_sizes=300, learning_rate=adaptive, max_iter=200, solver=sgd; total time=   8.3s\n",
            "[CV] END activation=identity, hidden_layer_sizes=300, learning_rate=adaptive, max_iter=200, solver=sgd; total time=  10.6s\n",
            "[CV] END activation=identity, hidden_layer_sizes=300, learning_rate=adaptive, max_iter=200, solver=sgd; total time=   8.6s\n",
            "[CV] END activation=identity, hidden_layer_sizes=300, learning_rate=adaptive, max_iter=200, solver=sgd; total time=   9.6s\n",
            "[CV] END activation=identity, hidden_layer_sizes=300, learning_rate=adaptive, max_iter=200, solver=sgd; total time=   7.1s\n",
            "[CV] END activation=identity, hidden_layer_sizes=300, learning_rate=adaptive, max_iter=200, solver=adam; total time=   3.5s\n",
            "[CV] END activation=identity, hidden_layer_sizes=300, learning_rate=adaptive, max_iter=200, solver=adam; total time=   2.8s\n",
            "[CV] END activation=identity, hidden_layer_sizes=300, learning_rate=adaptive, max_iter=200, solver=adam; total time=   2.9s\n",
            "[CV] END activation=identity, hidden_layer_sizes=300, learning_rate=adaptive, max_iter=200, solver=adam; total time=   3.0s\n",
            "[CV] END activation=identity, hidden_layer_sizes=300, learning_rate=adaptive, max_iter=200, solver=adam; total time=   1.9s\n",
            "[CV] END activation=identity, hidden_layer_sizes=300, learning_rate=adaptive, max_iter=400, solver=sgd; total time=   8.2s\n",
            "[CV] END activation=identity, hidden_layer_sizes=300, learning_rate=adaptive, max_iter=400, solver=sgd; total time=  11.3s\n",
            "[CV] END activation=identity, hidden_layer_sizes=300, learning_rate=adaptive, max_iter=400, solver=sgd; total time=  10.8s\n",
            "[CV] END activation=identity, hidden_layer_sizes=300, learning_rate=adaptive, max_iter=400, solver=sgd; total time=  10.7s\n",
            "[CV] END activation=identity, hidden_layer_sizes=300, learning_rate=adaptive, max_iter=400, solver=sgd; total time=   9.5s\n",
            "[CV] END activation=identity, hidden_layer_sizes=300, learning_rate=adaptive, max_iter=400, solver=adam; total time=   2.9s\n",
            "[CV] END activation=identity, hidden_layer_sizes=300, learning_rate=adaptive, max_iter=400, solver=adam; total time=   2.8s\n",
            "[CV] END activation=identity, hidden_layer_sizes=300, learning_rate=adaptive, max_iter=400, solver=adam; total time=   2.9s\n",
            "[CV] END activation=identity, hidden_layer_sizes=300, learning_rate=adaptive, max_iter=400, solver=adam; total time=   3.6s\n",
            "[CV] END activation=identity, hidden_layer_sizes=300, learning_rate=adaptive, max_iter=400, solver=adam; total time=   2.5s\n",
            "[CV] END activation=identity, hidden_layer_sizes=300, learning_rate=adaptive, max_iter=600, solver=sgd; total time=   9.0s\n",
            "[CV] END activation=identity, hidden_layer_sizes=300, learning_rate=adaptive, max_iter=600, solver=sgd; total time=  10.5s\n",
            "[CV] END activation=identity, hidden_layer_sizes=300, learning_rate=adaptive, max_iter=600, solver=sgd; total time=   9.9s\n",
            "[CV] END activation=identity, hidden_layer_sizes=300, learning_rate=adaptive, max_iter=600, solver=sgd; total time=   9.9s\n",
            "[CV] END activation=identity, hidden_layer_sizes=300, learning_rate=adaptive, max_iter=600, solver=sgd; total time=   9.1s\n",
            "[CV] END activation=identity, hidden_layer_sizes=300, learning_rate=adaptive, max_iter=600, solver=adam; total time=   2.5s\n",
            "[CV] END activation=identity, hidden_layer_sizes=300, learning_rate=adaptive, max_iter=600, solver=adam; total time=   2.3s\n",
            "[CV] END activation=identity, hidden_layer_sizes=300, learning_rate=adaptive, max_iter=600, solver=adam; total time=   2.9s\n",
            "[CV] END activation=identity, hidden_layer_sizes=300, learning_rate=adaptive, max_iter=600, solver=adam; total time=   3.2s\n",
            "[CV] END activation=identity, hidden_layer_sizes=300, learning_rate=adaptive, max_iter=600, solver=adam; total time=   4.0s\n"
          ]
        },
        {
          "output_type": "stream",
          "name": "stderr",
          "text": [
            "/usr/local/lib/python3.7/dist-packages/sklearn/neural_network/_multilayer_perceptron.py:696: ConvergenceWarning: Stochastic Optimizer: Maximum iterations (200) reached and the optimization hasn't converged yet.\n",
            "  ConvergenceWarning,\n"
          ]
        },
        {
          "output_type": "stream",
          "name": "stdout",
          "text": [
            "[CV] END activation=tanh, hidden_layer_sizes=100, learning_rate=constant, max_iter=200, solver=sgd; total time=  12.3s\n"
          ]
        },
        {
          "output_type": "stream",
          "name": "stderr",
          "text": [
            "/usr/local/lib/python3.7/dist-packages/sklearn/neural_network/_multilayer_perceptron.py:696: ConvergenceWarning: Stochastic Optimizer: Maximum iterations (200) reached and the optimization hasn't converged yet.\n",
            "  ConvergenceWarning,\n"
          ]
        },
        {
          "output_type": "stream",
          "name": "stdout",
          "text": [
            "[CV] END activation=tanh, hidden_layer_sizes=100, learning_rate=constant, max_iter=200, solver=sgd; total time=  12.3s\n"
          ]
        },
        {
          "output_type": "stream",
          "name": "stderr",
          "text": [
            "/usr/local/lib/python3.7/dist-packages/sklearn/neural_network/_multilayer_perceptron.py:696: ConvergenceWarning: Stochastic Optimizer: Maximum iterations (200) reached and the optimization hasn't converged yet.\n",
            "  ConvergenceWarning,\n"
          ]
        },
        {
          "output_type": "stream",
          "name": "stdout",
          "text": [
            "[CV] END activation=tanh, hidden_layer_sizes=100, learning_rate=constant, max_iter=200, solver=sgd; total time=  12.4s\n"
          ]
        },
        {
          "output_type": "stream",
          "name": "stderr",
          "text": [
            "/usr/local/lib/python3.7/dist-packages/sklearn/neural_network/_multilayer_perceptron.py:696: ConvergenceWarning: Stochastic Optimizer: Maximum iterations (200) reached and the optimization hasn't converged yet.\n",
            "  ConvergenceWarning,\n"
          ]
        },
        {
          "output_type": "stream",
          "name": "stdout",
          "text": [
            "[CV] END activation=tanh, hidden_layer_sizes=100, learning_rate=constant, max_iter=200, solver=sgd; total time=  12.3s\n"
          ]
        },
        {
          "output_type": "stream",
          "name": "stderr",
          "text": [
            "/usr/local/lib/python3.7/dist-packages/sklearn/neural_network/_multilayer_perceptron.py:696: ConvergenceWarning: Stochastic Optimizer: Maximum iterations (200) reached and the optimization hasn't converged yet.\n",
            "  ConvergenceWarning,\n"
          ]
        },
        {
          "output_type": "stream",
          "name": "stdout",
          "text": [
            "[CV] END activation=tanh, hidden_layer_sizes=100, learning_rate=constant, max_iter=200, solver=sgd; total time=  12.5s\n"
          ]
        },
        {
          "output_type": "stream",
          "name": "stderr",
          "text": [
            "/usr/local/lib/python3.7/dist-packages/sklearn/neural_network/_multilayer_perceptron.py:696: ConvergenceWarning: Stochastic Optimizer: Maximum iterations (200) reached and the optimization hasn't converged yet.\n",
            "  ConvergenceWarning,\n"
          ]
        },
        {
          "output_type": "stream",
          "name": "stdout",
          "text": [
            "[CV] END activation=tanh, hidden_layer_sizes=100, learning_rate=constant, max_iter=200, solver=adam; total time=  13.5s\n"
          ]
        },
        {
          "output_type": "stream",
          "name": "stderr",
          "text": [
            "/usr/local/lib/python3.7/dist-packages/sklearn/neural_network/_multilayer_perceptron.py:696: ConvergenceWarning: Stochastic Optimizer: Maximum iterations (200) reached and the optimization hasn't converged yet.\n",
            "  ConvergenceWarning,\n"
          ]
        },
        {
          "output_type": "stream",
          "name": "stdout",
          "text": [
            "[CV] END activation=tanh, hidden_layer_sizes=100, learning_rate=constant, max_iter=200, solver=adam; total time=  13.5s\n"
          ]
        },
        {
          "output_type": "stream",
          "name": "stderr",
          "text": [
            "/usr/local/lib/python3.7/dist-packages/sklearn/neural_network/_multilayer_perceptron.py:696: ConvergenceWarning: Stochastic Optimizer: Maximum iterations (200) reached and the optimization hasn't converged yet.\n",
            "  ConvergenceWarning,\n"
          ]
        },
        {
          "output_type": "stream",
          "name": "stdout",
          "text": [
            "[CV] END activation=tanh, hidden_layer_sizes=100, learning_rate=constant, max_iter=200, solver=adam; total time=  13.4s\n"
          ]
        },
        {
          "output_type": "stream",
          "name": "stderr",
          "text": [
            "/usr/local/lib/python3.7/dist-packages/sklearn/neural_network/_multilayer_perceptron.py:696: ConvergenceWarning: Stochastic Optimizer: Maximum iterations (200) reached and the optimization hasn't converged yet.\n",
            "  ConvergenceWarning,\n"
          ]
        },
        {
          "output_type": "stream",
          "name": "stdout",
          "text": [
            "[CV] END activation=tanh, hidden_layer_sizes=100, learning_rate=constant, max_iter=200, solver=adam; total time=  13.5s\n"
          ]
        },
        {
          "output_type": "stream",
          "name": "stderr",
          "text": [
            "/usr/local/lib/python3.7/dist-packages/sklearn/neural_network/_multilayer_perceptron.py:696: ConvergenceWarning: Stochastic Optimizer: Maximum iterations (200) reached and the optimization hasn't converged yet.\n",
            "  ConvergenceWarning,\n"
          ]
        },
        {
          "output_type": "stream",
          "name": "stdout",
          "text": [
            "[CV] END activation=tanh, hidden_layer_sizes=100, learning_rate=constant, max_iter=200, solver=adam; total time=  13.7s\n",
            "[CV] END activation=tanh, hidden_layer_sizes=100, learning_rate=constant, max_iter=400, solver=sgd; total time=  20.2s\n"
          ]
        },
        {
          "output_type": "stream",
          "name": "stderr",
          "text": [
            "/usr/local/lib/python3.7/dist-packages/sklearn/neural_network/_multilayer_perceptron.py:696: ConvergenceWarning: Stochastic Optimizer: Maximum iterations (400) reached and the optimization hasn't converged yet.\n",
            "  ConvergenceWarning,\n"
          ]
        },
        {
          "output_type": "stream",
          "name": "stdout",
          "text": [
            "[CV] END activation=tanh, hidden_layer_sizes=100, learning_rate=constant, max_iter=400, solver=sgd; total time=  24.6s\n"
          ]
        },
        {
          "output_type": "stream",
          "name": "stderr",
          "text": [
            "/usr/local/lib/python3.7/dist-packages/sklearn/neural_network/_multilayer_perceptron.py:696: ConvergenceWarning: Stochastic Optimizer: Maximum iterations (400) reached and the optimization hasn't converged yet.\n",
            "  ConvergenceWarning,\n"
          ]
        },
        {
          "output_type": "stream",
          "name": "stdout",
          "text": [
            "[CV] END activation=tanh, hidden_layer_sizes=100, learning_rate=constant, max_iter=400, solver=sgd; total time=  24.7s\n"
          ]
        },
        {
          "output_type": "stream",
          "name": "stderr",
          "text": [
            "/usr/local/lib/python3.7/dist-packages/sklearn/neural_network/_multilayer_perceptron.py:696: ConvergenceWarning: Stochastic Optimizer: Maximum iterations (400) reached and the optimization hasn't converged yet.\n",
            "  ConvergenceWarning,\n"
          ]
        },
        {
          "output_type": "stream",
          "name": "stdout",
          "text": [
            "[CV] END activation=tanh, hidden_layer_sizes=100, learning_rate=constant, max_iter=400, solver=sgd; total time=  24.7s\n"
          ]
        },
        {
          "output_type": "stream",
          "name": "stderr",
          "text": [
            "/usr/local/lib/python3.7/dist-packages/sklearn/neural_network/_multilayer_perceptron.py:696: ConvergenceWarning: Stochastic Optimizer: Maximum iterations (400) reached and the optimization hasn't converged yet.\n",
            "  ConvergenceWarning,\n"
          ]
        },
        {
          "output_type": "stream",
          "name": "stdout",
          "text": [
            "[CV] END activation=tanh, hidden_layer_sizes=100, learning_rate=constant, max_iter=400, solver=sgd; total time=  24.9s\n"
          ]
        },
        {
          "output_type": "stream",
          "name": "stderr",
          "text": [
            "/usr/local/lib/python3.7/dist-packages/sklearn/neural_network/_multilayer_perceptron.py:696: ConvergenceWarning: Stochastic Optimizer: Maximum iterations (400) reached and the optimization hasn't converged yet.\n",
            "  ConvergenceWarning,\n"
          ]
        },
        {
          "output_type": "stream",
          "name": "stdout",
          "text": [
            "[CV] END activation=tanh, hidden_layer_sizes=100, learning_rate=constant, max_iter=400, solver=adam; total time=  27.2s\n"
          ]
        },
        {
          "output_type": "stream",
          "name": "stderr",
          "text": [
            "/usr/local/lib/python3.7/dist-packages/sklearn/neural_network/_multilayer_perceptron.py:696: ConvergenceWarning: Stochastic Optimizer: Maximum iterations (400) reached and the optimization hasn't converged yet.\n",
            "  ConvergenceWarning,\n"
          ]
        },
        {
          "output_type": "stream",
          "name": "stdout",
          "text": [
            "[CV] END activation=tanh, hidden_layer_sizes=100, learning_rate=constant, max_iter=400, solver=adam; total time=  27.2s\n"
          ]
        },
        {
          "output_type": "stream",
          "name": "stderr",
          "text": [
            "/usr/local/lib/python3.7/dist-packages/sklearn/neural_network/_multilayer_perceptron.py:696: ConvergenceWarning: Stochastic Optimizer: Maximum iterations (400) reached and the optimization hasn't converged yet.\n",
            "  ConvergenceWarning,\n"
          ]
        },
        {
          "output_type": "stream",
          "name": "stdout",
          "text": [
            "[CV] END activation=tanh, hidden_layer_sizes=100, learning_rate=constant, max_iter=400, solver=adam; total time=  27.3s\n"
          ]
        },
        {
          "output_type": "stream",
          "name": "stderr",
          "text": [
            "/usr/local/lib/python3.7/dist-packages/sklearn/neural_network/_multilayer_perceptron.py:696: ConvergenceWarning: Stochastic Optimizer: Maximum iterations (400) reached and the optimization hasn't converged yet.\n",
            "  ConvergenceWarning,\n"
          ]
        },
        {
          "output_type": "stream",
          "name": "stdout",
          "text": [
            "[CV] END activation=tanh, hidden_layer_sizes=100, learning_rate=constant, max_iter=400, solver=adam; total time=  27.2s\n"
          ]
        },
        {
          "output_type": "stream",
          "name": "stderr",
          "text": [
            "/usr/local/lib/python3.7/dist-packages/sklearn/neural_network/_multilayer_perceptron.py:696: ConvergenceWarning: Stochastic Optimizer: Maximum iterations (400) reached and the optimization hasn't converged yet.\n",
            "  ConvergenceWarning,\n"
          ]
        },
        {
          "output_type": "stream",
          "name": "stdout",
          "text": [
            "[CV] END activation=tanh, hidden_layer_sizes=100, learning_rate=constant, max_iter=400, solver=adam; total time=  27.0s\n",
            "[CV] END activation=tanh, hidden_layer_sizes=100, learning_rate=constant, max_iter=600, solver=sgd; total time=   8.2s\n"
          ]
        },
        {
          "output_type": "stream",
          "name": "stderr",
          "text": [
            "/usr/local/lib/python3.7/dist-packages/sklearn/neural_network/_multilayer_perceptron.py:696: ConvergenceWarning: Stochastic Optimizer: Maximum iterations (600) reached and the optimization hasn't converged yet.\n",
            "  ConvergenceWarning,\n"
          ]
        },
        {
          "output_type": "stream",
          "name": "stdout",
          "text": [
            "[CV] END activation=tanh, hidden_layer_sizes=100, learning_rate=constant, max_iter=600, solver=sgd; total time=  37.4s\n"
          ]
        },
        {
          "output_type": "stream",
          "name": "stderr",
          "text": [
            "/usr/local/lib/python3.7/dist-packages/sklearn/neural_network/_multilayer_perceptron.py:696: ConvergenceWarning: Stochastic Optimizer: Maximum iterations (600) reached and the optimization hasn't converged yet.\n",
            "  ConvergenceWarning,\n"
          ]
        },
        {
          "output_type": "stream",
          "name": "stdout",
          "text": [
            "[CV] END activation=tanh, hidden_layer_sizes=100, learning_rate=constant, max_iter=600, solver=sgd; total time=  37.2s\n"
          ]
        },
        {
          "output_type": "stream",
          "name": "stderr",
          "text": [
            "/usr/local/lib/python3.7/dist-packages/sklearn/neural_network/_multilayer_perceptron.py:696: ConvergenceWarning: Stochastic Optimizer: Maximum iterations (600) reached and the optimization hasn't converged yet.\n",
            "  ConvergenceWarning,\n"
          ]
        },
        {
          "output_type": "stream",
          "name": "stdout",
          "text": [
            "[CV] END activation=tanh, hidden_layer_sizes=100, learning_rate=constant, max_iter=600, solver=sgd; total time=  37.2s\n"
          ]
        },
        {
          "output_type": "stream",
          "name": "stderr",
          "text": [
            "/usr/local/lib/python3.7/dist-packages/sklearn/neural_network/_multilayer_perceptron.py:696: ConvergenceWarning: Stochastic Optimizer: Maximum iterations (600) reached and the optimization hasn't converged yet.\n",
            "  ConvergenceWarning,\n"
          ]
        },
        {
          "output_type": "stream",
          "name": "stdout",
          "text": [
            "[CV] END activation=tanh, hidden_layer_sizes=100, learning_rate=constant, max_iter=600, solver=sgd; total time=  37.1s\n"
          ]
        },
        {
          "output_type": "stream",
          "name": "stderr",
          "text": [
            "/usr/local/lib/python3.7/dist-packages/sklearn/neural_network/_multilayer_perceptron.py:696: ConvergenceWarning: Stochastic Optimizer: Maximum iterations (600) reached and the optimization hasn't converged yet.\n",
            "  ConvergenceWarning,\n"
          ]
        },
        {
          "output_type": "stream",
          "name": "stdout",
          "text": [
            "[CV] END activation=tanh, hidden_layer_sizes=100, learning_rate=constant, max_iter=600, solver=adam; total time=  41.0s\n"
          ]
        },
        {
          "output_type": "stream",
          "name": "stderr",
          "text": [
            "/usr/local/lib/python3.7/dist-packages/sklearn/neural_network/_multilayer_perceptron.py:696: ConvergenceWarning: Stochastic Optimizer: Maximum iterations (600) reached and the optimization hasn't converged yet.\n",
            "  ConvergenceWarning,\n"
          ]
        },
        {
          "output_type": "stream",
          "name": "stdout",
          "text": [
            "[CV] END activation=tanh, hidden_layer_sizes=100, learning_rate=constant, max_iter=600, solver=adam; total time=  41.2s\n"
          ]
        },
        {
          "output_type": "stream",
          "name": "stderr",
          "text": [
            "/usr/local/lib/python3.7/dist-packages/sklearn/neural_network/_multilayer_perceptron.py:696: ConvergenceWarning: Stochastic Optimizer: Maximum iterations (600) reached and the optimization hasn't converged yet.\n",
            "  ConvergenceWarning,\n"
          ]
        },
        {
          "output_type": "stream",
          "name": "stdout",
          "text": [
            "[CV] END activation=tanh, hidden_layer_sizes=100, learning_rate=constant, max_iter=600, solver=adam; total time=  41.2s\n"
          ]
        },
        {
          "output_type": "stream",
          "name": "stderr",
          "text": [
            "/usr/local/lib/python3.7/dist-packages/sklearn/neural_network/_multilayer_perceptron.py:696: ConvergenceWarning: Stochastic Optimizer: Maximum iterations (600) reached and the optimization hasn't converged yet.\n",
            "  ConvergenceWarning,\n"
          ]
        },
        {
          "output_type": "stream",
          "name": "stdout",
          "text": [
            "[CV] END activation=tanh, hidden_layer_sizes=100, learning_rate=constant, max_iter=600, solver=adam; total time=  41.1s\n"
          ]
        },
        {
          "output_type": "stream",
          "name": "stderr",
          "text": [
            "/usr/local/lib/python3.7/dist-packages/sklearn/neural_network/_multilayer_perceptron.py:696: ConvergenceWarning: Stochastic Optimizer: Maximum iterations (600) reached and the optimization hasn't converged yet.\n",
            "  ConvergenceWarning,\n"
          ]
        },
        {
          "output_type": "stream",
          "name": "stdout",
          "text": [
            "[CV] END activation=tanh, hidden_layer_sizes=100, learning_rate=constant, max_iter=600, solver=adam; total time=  41.2s\n",
            "[CV] END activation=tanh, hidden_layer_sizes=100, learning_rate=invscaling, max_iter=200, solver=sgd; total time=   2.6s\n",
            "[CV] END activation=tanh, hidden_layer_sizes=100, learning_rate=invscaling, max_iter=200, solver=sgd; total time=   2.6s\n",
            "[CV] END activation=tanh, hidden_layer_sizes=100, learning_rate=invscaling, max_iter=200, solver=sgd; total time=   2.0s\n",
            "[CV] END activation=tanh, hidden_layer_sizes=100, learning_rate=invscaling, max_iter=200, solver=sgd; total time=   2.6s\n",
            "[CV] END activation=tanh, hidden_layer_sizes=100, learning_rate=invscaling, max_iter=200, solver=sgd; total time=   3.4s\n"
          ]
        },
        {
          "output_type": "stream",
          "name": "stderr",
          "text": [
            "/usr/local/lib/python3.7/dist-packages/sklearn/neural_network/_multilayer_perceptron.py:696: ConvergenceWarning: Stochastic Optimizer: Maximum iterations (200) reached and the optimization hasn't converged yet.\n",
            "  ConvergenceWarning,\n"
          ]
        },
        {
          "output_type": "stream",
          "name": "stdout",
          "text": [
            "[CV] END activation=tanh, hidden_layer_sizes=100, learning_rate=invscaling, max_iter=200, solver=adam; total time=  13.5s\n"
          ]
        },
        {
          "output_type": "stream",
          "name": "stderr",
          "text": [
            "/usr/local/lib/python3.7/dist-packages/sklearn/neural_network/_multilayer_perceptron.py:696: ConvergenceWarning: Stochastic Optimizer: Maximum iterations (200) reached and the optimization hasn't converged yet.\n",
            "  ConvergenceWarning,\n"
          ]
        },
        {
          "output_type": "stream",
          "name": "stdout",
          "text": [
            "[CV] END activation=tanh, hidden_layer_sizes=100, learning_rate=invscaling, max_iter=200, solver=adam; total time=  13.5s\n"
          ]
        },
        {
          "output_type": "stream",
          "name": "stderr",
          "text": [
            "/usr/local/lib/python3.7/dist-packages/sklearn/neural_network/_multilayer_perceptron.py:696: ConvergenceWarning: Stochastic Optimizer: Maximum iterations (200) reached and the optimization hasn't converged yet.\n",
            "  ConvergenceWarning,\n"
          ]
        },
        {
          "output_type": "stream",
          "name": "stdout",
          "text": [
            "[CV] END activation=tanh, hidden_layer_sizes=100, learning_rate=invscaling, max_iter=200, solver=adam; total time=  13.4s\n"
          ]
        },
        {
          "output_type": "stream",
          "name": "stderr",
          "text": [
            "/usr/local/lib/python3.7/dist-packages/sklearn/neural_network/_multilayer_perceptron.py:696: ConvergenceWarning: Stochastic Optimizer: Maximum iterations (200) reached and the optimization hasn't converged yet.\n",
            "  ConvergenceWarning,\n"
          ]
        },
        {
          "output_type": "stream",
          "name": "stdout",
          "text": [
            "[CV] END activation=tanh, hidden_layer_sizes=100, learning_rate=invscaling, max_iter=200, solver=adam; total time=  13.6s\n"
          ]
        },
        {
          "output_type": "stream",
          "name": "stderr",
          "text": [
            "/usr/local/lib/python3.7/dist-packages/sklearn/neural_network/_multilayer_perceptron.py:696: ConvergenceWarning: Stochastic Optimizer: Maximum iterations (200) reached and the optimization hasn't converged yet.\n",
            "  ConvergenceWarning,\n"
          ]
        },
        {
          "output_type": "stream",
          "name": "stdout",
          "text": [
            "[CV] END activation=tanh, hidden_layer_sizes=100, learning_rate=invscaling, max_iter=200, solver=adam; total time=  13.4s\n",
            "[CV] END activation=tanh, hidden_layer_sizes=100, learning_rate=invscaling, max_iter=400, solver=sgd; total time=   3.4s\n",
            "[CV] END activation=tanh, hidden_layer_sizes=100, learning_rate=invscaling, max_iter=400, solver=sgd; total time=   6.3s\n",
            "[CV] END activation=tanh, hidden_layer_sizes=100, learning_rate=invscaling, max_iter=400, solver=sgd; total time=   2.3s\n",
            "[CV] END activation=tanh, hidden_layer_sizes=100, learning_rate=invscaling, max_iter=400, solver=sgd; total time=   2.8s\n",
            "[CV] END activation=tanh, hidden_layer_sizes=100, learning_rate=invscaling, max_iter=400, solver=sgd; total time=   1.7s\n"
          ]
        },
        {
          "output_type": "stream",
          "name": "stderr",
          "text": [
            "/usr/local/lib/python3.7/dist-packages/sklearn/neural_network/_multilayer_perceptron.py:696: ConvergenceWarning: Stochastic Optimizer: Maximum iterations (400) reached and the optimization hasn't converged yet.\n",
            "  ConvergenceWarning,\n"
          ]
        },
        {
          "output_type": "stream",
          "name": "stdout",
          "text": [
            "[CV] END activation=tanh, hidden_layer_sizes=100, learning_rate=invscaling, max_iter=400, solver=adam; total time=  27.4s\n"
          ]
        },
        {
          "output_type": "stream",
          "name": "stderr",
          "text": [
            "/usr/local/lib/python3.7/dist-packages/sklearn/neural_network/_multilayer_perceptron.py:696: ConvergenceWarning: Stochastic Optimizer: Maximum iterations (400) reached and the optimization hasn't converged yet.\n",
            "  ConvergenceWarning,\n"
          ]
        },
        {
          "output_type": "stream",
          "name": "stdout",
          "text": [
            "[CV] END activation=tanh, hidden_layer_sizes=100, learning_rate=invscaling, max_iter=400, solver=adam; total time=  27.3s\n"
          ]
        },
        {
          "output_type": "stream",
          "name": "stderr",
          "text": [
            "/usr/local/lib/python3.7/dist-packages/sklearn/neural_network/_multilayer_perceptron.py:696: ConvergenceWarning: Stochastic Optimizer: Maximum iterations (400) reached and the optimization hasn't converged yet.\n",
            "  ConvergenceWarning,\n"
          ]
        },
        {
          "output_type": "stream",
          "name": "stdout",
          "text": [
            "[CV] END activation=tanh, hidden_layer_sizes=100, learning_rate=invscaling, max_iter=400, solver=adam; total time=  27.2s\n"
          ]
        },
        {
          "output_type": "stream",
          "name": "stderr",
          "text": [
            "/usr/local/lib/python3.7/dist-packages/sklearn/neural_network/_multilayer_perceptron.py:696: ConvergenceWarning: Stochastic Optimizer: Maximum iterations (400) reached and the optimization hasn't converged yet.\n",
            "  ConvergenceWarning,\n"
          ]
        },
        {
          "output_type": "stream",
          "name": "stdout",
          "text": [
            "[CV] END activation=tanh, hidden_layer_sizes=100, learning_rate=invscaling, max_iter=400, solver=adam; total time=  27.3s\n"
          ]
        },
        {
          "output_type": "stream",
          "name": "stderr",
          "text": [
            "/usr/local/lib/python3.7/dist-packages/sklearn/neural_network/_multilayer_perceptron.py:696: ConvergenceWarning: Stochastic Optimizer: Maximum iterations (400) reached and the optimization hasn't converged yet.\n",
            "  ConvergenceWarning,\n"
          ]
        },
        {
          "output_type": "stream",
          "name": "stdout",
          "text": [
            "[CV] END activation=tanh, hidden_layer_sizes=100, learning_rate=invscaling, max_iter=400, solver=adam; total time=  27.4s\n",
            "[CV] END activation=tanh, hidden_layer_sizes=100, learning_rate=invscaling, max_iter=600, solver=sgd; total time=   4.7s\n",
            "[CV] END activation=tanh, hidden_layer_sizes=100, learning_rate=invscaling, max_iter=600, solver=sgd; total time=   2.8s\n",
            "[CV] END activation=tanh, hidden_layer_sizes=100, learning_rate=invscaling, max_iter=600, solver=sgd; total time=   4.0s\n",
            "[CV] END activation=tanh, hidden_layer_sizes=100, learning_rate=invscaling, max_iter=600, solver=sgd; total time=   3.7s\n",
            "[CV] END activation=tanh, hidden_layer_sizes=100, learning_rate=invscaling, max_iter=600, solver=sgd; total time=   1.8s\n"
          ]
        },
        {
          "output_type": "stream",
          "name": "stderr",
          "text": [
            "/usr/local/lib/python3.7/dist-packages/sklearn/neural_network/_multilayer_perceptron.py:696: ConvergenceWarning: Stochastic Optimizer: Maximum iterations (600) reached and the optimization hasn't converged yet.\n",
            "  ConvergenceWarning,\n"
          ]
        },
        {
          "output_type": "stream",
          "name": "stdout",
          "text": [
            "[CV] END activation=tanh, hidden_layer_sizes=100, learning_rate=invscaling, max_iter=600, solver=adam; total time=  41.2s\n"
          ]
        },
        {
          "output_type": "stream",
          "name": "stderr",
          "text": [
            "/usr/local/lib/python3.7/dist-packages/sklearn/neural_network/_multilayer_perceptron.py:696: ConvergenceWarning: Stochastic Optimizer: Maximum iterations (600) reached and the optimization hasn't converged yet.\n",
            "  ConvergenceWarning,\n"
          ]
        },
        {
          "output_type": "stream",
          "name": "stdout",
          "text": [
            "[CV] END activation=tanh, hidden_layer_sizes=100, learning_rate=invscaling, max_iter=600, solver=adam; total time=  41.2s\n"
          ]
        },
        {
          "output_type": "stream",
          "name": "stderr",
          "text": [
            "/usr/local/lib/python3.7/dist-packages/sklearn/neural_network/_multilayer_perceptron.py:696: ConvergenceWarning: Stochastic Optimizer: Maximum iterations (600) reached and the optimization hasn't converged yet.\n",
            "  ConvergenceWarning,\n"
          ]
        },
        {
          "output_type": "stream",
          "name": "stdout",
          "text": [
            "[CV] END activation=tanh, hidden_layer_sizes=100, learning_rate=invscaling, max_iter=600, solver=adam; total time=  41.3s\n"
          ]
        },
        {
          "output_type": "stream",
          "name": "stderr",
          "text": [
            "/usr/local/lib/python3.7/dist-packages/sklearn/neural_network/_multilayer_perceptron.py:696: ConvergenceWarning: Stochastic Optimizer: Maximum iterations (600) reached and the optimization hasn't converged yet.\n",
            "  ConvergenceWarning,\n"
          ]
        },
        {
          "output_type": "stream",
          "name": "stdout",
          "text": [
            "[CV] END activation=tanh, hidden_layer_sizes=100, learning_rate=invscaling, max_iter=600, solver=adam; total time=  40.9s\n"
          ]
        },
        {
          "output_type": "stream",
          "name": "stderr",
          "text": [
            "/usr/local/lib/python3.7/dist-packages/sklearn/neural_network/_multilayer_perceptron.py:696: ConvergenceWarning: Stochastic Optimizer: Maximum iterations (600) reached and the optimization hasn't converged yet.\n",
            "  ConvergenceWarning,\n"
          ]
        },
        {
          "output_type": "stream",
          "name": "stdout",
          "text": [
            "[CV] END activation=tanh, hidden_layer_sizes=100, learning_rate=invscaling, max_iter=600, solver=adam; total time=  41.5s\n"
          ]
        },
        {
          "output_type": "stream",
          "name": "stderr",
          "text": [
            "/usr/local/lib/python3.7/dist-packages/sklearn/neural_network/_multilayer_perceptron.py:696: ConvergenceWarning: Stochastic Optimizer: Maximum iterations (200) reached and the optimization hasn't converged yet.\n",
            "  ConvergenceWarning,\n"
          ]
        },
        {
          "output_type": "stream",
          "name": "stdout",
          "text": [
            "[CV] END activation=tanh, hidden_layer_sizes=100, learning_rate=adaptive, max_iter=200, solver=sgd; total time=  12.3s\n"
          ]
        },
        {
          "output_type": "stream",
          "name": "stderr",
          "text": [
            "/usr/local/lib/python3.7/dist-packages/sklearn/neural_network/_multilayer_perceptron.py:696: ConvergenceWarning: Stochastic Optimizer: Maximum iterations (200) reached and the optimization hasn't converged yet.\n",
            "  ConvergenceWarning,\n"
          ]
        },
        {
          "output_type": "stream",
          "name": "stdout",
          "text": [
            "[CV] END activation=tanh, hidden_layer_sizes=100, learning_rate=adaptive, max_iter=200, solver=sgd; total time=  12.3s\n"
          ]
        },
        {
          "output_type": "stream",
          "name": "stderr",
          "text": [
            "/usr/local/lib/python3.7/dist-packages/sklearn/neural_network/_multilayer_perceptron.py:696: ConvergenceWarning: Stochastic Optimizer: Maximum iterations (200) reached and the optimization hasn't converged yet.\n",
            "  ConvergenceWarning,\n"
          ]
        },
        {
          "output_type": "stream",
          "name": "stdout",
          "text": [
            "[CV] END activation=tanh, hidden_layer_sizes=100, learning_rate=adaptive, max_iter=200, solver=sgd; total time=  12.6s\n"
          ]
        },
        {
          "output_type": "stream",
          "name": "stderr",
          "text": [
            "/usr/local/lib/python3.7/dist-packages/sklearn/neural_network/_multilayer_perceptron.py:696: ConvergenceWarning: Stochastic Optimizer: Maximum iterations (200) reached and the optimization hasn't converged yet.\n",
            "  ConvergenceWarning,\n"
          ]
        },
        {
          "output_type": "stream",
          "name": "stdout",
          "text": [
            "[CV] END activation=tanh, hidden_layer_sizes=100, learning_rate=adaptive, max_iter=200, solver=sgd; total time=  12.4s\n"
          ]
        },
        {
          "output_type": "stream",
          "name": "stderr",
          "text": [
            "/usr/local/lib/python3.7/dist-packages/sklearn/neural_network/_multilayer_perceptron.py:696: ConvergenceWarning: Stochastic Optimizer: Maximum iterations (200) reached and the optimization hasn't converged yet.\n",
            "  ConvergenceWarning,\n"
          ]
        },
        {
          "output_type": "stream",
          "name": "stdout",
          "text": [
            "[CV] END activation=tanh, hidden_layer_sizes=100, learning_rate=adaptive, max_iter=200, solver=sgd; total time=  12.5s\n"
          ]
        },
        {
          "output_type": "stream",
          "name": "stderr",
          "text": [
            "/usr/local/lib/python3.7/dist-packages/sklearn/neural_network/_multilayer_perceptron.py:696: ConvergenceWarning: Stochastic Optimizer: Maximum iterations (200) reached and the optimization hasn't converged yet.\n",
            "  ConvergenceWarning,\n"
          ]
        },
        {
          "output_type": "stream",
          "name": "stdout",
          "text": [
            "[CV] END activation=tanh, hidden_layer_sizes=100, learning_rate=adaptive, max_iter=200, solver=adam; total time=  13.6s\n"
          ]
        },
        {
          "output_type": "stream",
          "name": "stderr",
          "text": [
            "/usr/local/lib/python3.7/dist-packages/sklearn/neural_network/_multilayer_perceptron.py:696: ConvergenceWarning: Stochastic Optimizer: Maximum iterations (200) reached and the optimization hasn't converged yet.\n",
            "  ConvergenceWarning,\n"
          ]
        },
        {
          "output_type": "stream",
          "name": "stdout",
          "text": [
            "[CV] END activation=tanh, hidden_layer_sizes=100, learning_rate=adaptive, max_iter=200, solver=adam; total time=  13.5s\n"
          ]
        },
        {
          "output_type": "stream",
          "name": "stderr",
          "text": [
            "/usr/local/lib/python3.7/dist-packages/sklearn/neural_network/_multilayer_perceptron.py:696: ConvergenceWarning: Stochastic Optimizer: Maximum iterations (200) reached and the optimization hasn't converged yet.\n",
            "  ConvergenceWarning,\n"
          ]
        },
        {
          "output_type": "stream",
          "name": "stdout",
          "text": [
            "[CV] END activation=tanh, hidden_layer_sizes=100, learning_rate=adaptive, max_iter=200, solver=adam; total time=  13.9s\n"
          ]
        },
        {
          "output_type": "stream",
          "name": "stderr",
          "text": [
            "/usr/local/lib/python3.7/dist-packages/sklearn/neural_network/_multilayer_perceptron.py:696: ConvergenceWarning: Stochastic Optimizer: Maximum iterations (200) reached and the optimization hasn't converged yet.\n",
            "  ConvergenceWarning,\n"
          ]
        },
        {
          "output_type": "stream",
          "name": "stdout",
          "text": [
            "[CV] END activation=tanh, hidden_layer_sizes=100, learning_rate=adaptive, max_iter=200, solver=adam; total time=  13.7s\n"
          ]
        },
        {
          "output_type": "stream",
          "name": "stderr",
          "text": [
            "/usr/local/lib/python3.7/dist-packages/sklearn/neural_network/_multilayer_perceptron.py:696: ConvergenceWarning: Stochastic Optimizer: Maximum iterations (200) reached and the optimization hasn't converged yet.\n",
            "  ConvergenceWarning,\n"
          ]
        },
        {
          "output_type": "stream",
          "name": "stdout",
          "text": [
            "[CV] END activation=tanh, hidden_layer_sizes=100, learning_rate=adaptive, max_iter=200, solver=adam; total time=  13.6s\n"
          ]
        },
        {
          "output_type": "stream",
          "name": "stderr",
          "text": [
            "/usr/local/lib/python3.7/dist-packages/sklearn/neural_network/_multilayer_perceptron.py:696: ConvergenceWarning: Stochastic Optimizer: Maximum iterations (400) reached and the optimization hasn't converged yet.\n",
            "  ConvergenceWarning,\n"
          ]
        },
        {
          "output_type": "stream",
          "name": "stdout",
          "text": [
            "[CV] END activation=tanh, hidden_layer_sizes=100, learning_rate=adaptive, max_iter=400, solver=sgd; total time=  24.8s\n"
          ]
        },
        {
          "output_type": "stream",
          "name": "stderr",
          "text": [
            "/usr/local/lib/python3.7/dist-packages/sklearn/neural_network/_multilayer_perceptron.py:696: ConvergenceWarning: Stochastic Optimizer: Maximum iterations (400) reached and the optimization hasn't converged yet.\n",
            "  ConvergenceWarning,\n"
          ]
        },
        {
          "output_type": "stream",
          "name": "stdout",
          "text": [
            "[CV] END activation=tanh, hidden_layer_sizes=100, learning_rate=adaptive, max_iter=400, solver=sgd; total time=  25.0s\n"
          ]
        },
        {
          "output_type": "stream",
          "name": "stderr",
          "text": [
            "/usr/local/lib/python3.7/dist-packages/sklearn/neural_network/_multilayer_perceptron.py:696: ConvergenceWarning: Stochastic Optimizer: Maximum iterations (400) reached and the optimization hasn't converged yet.\n",
            "  ConvergenceWarning,\n"
          ]
        },
        {
          "output_type": "stream",
          "name": "stdout",
          "text": [
            "[CV] END activation=tanh, hidden_layer_sizes=100, learning_rate=adaptive, max_iter=400, solver=sgd; total time=  24.6s\n"
          ]
        },
        {
          "output_type": "stream",
          "name": "stderr",
          "text": [
            "/usr/local/lib/python3.7/dist-packages/sklearn/neural_network/_multilayer_perceptron.py:696: ConvergenceWarning: Stochastic Optimizer: Maximum iterations (400) reached and the optimization hasn't converged yet.\n",
            "  ConvergenceWarning,\n"
          ]
        },
        {
          "output_type": "stream",
          "name": "stdout",
          "text": [
            "[CV] END activation=tanh, hidden_layer_sizes=100, learning_rate=adaptive, max_iter=400, solver=sgd; total time=  24.8s\n"
          ]
        },
        {
          "output_type": "stream",
          "name": "stderr",
          "text": [
            "/usr/local/lib/python3.7/dist-packages/sklearn/neural_network/_multilayer_perceptron.py:696: ConvergenceWarning: Stochastic Optimizer: Maximum iterations (400) reached and the optimization hasn't converged yet.\n",
            "  ConvergenceWarning,\n"
          ]
        },
        {
          "output_type": "stream",
          "name": "stdout",
          "text": [
            "[CV] END activation=tanh, hidden_layer_sizes=100, learning_rate=adaptive, max_iter=400, solver=sgd; total time=  24.7s\n"
          ]
        },
        {
          "output_type": "stream",
          "name": "stderr",
          "text": [
            "/usr/local/lib/python3.7/dist-packages/sklearn/neural_network/_multilayer_perceptron.py:696: ConvergenceWarning: Stochastic Optimizer: Maximum iterations (400) reached and the optimization hasn't converged yet.\n",
            "  ConvergenceWarning,\n"
          ]
        },
        {
          "output_type": "stream",
          "name": "stdout",
          "text": [
            "[CV] END activation=tanh, hidden_layer_sizes=100, learning_rate=adaptive, max_iter=400, solver=adam; total time=  27.4s\n"
          ]
        },
        {
          "output_type": "stream",
          "name": "stderr",
          "text": [
            "/usr/local/lib/python3.7/dist-packages/sklearn/neural_network/_multilayer_perceptron.py:696: ConvergenceWarning: Stochastic Optimizer: Maximum iterations (400) reached and the optimization hasn't converged yet.\n",
            "  ConvergenceWarning,\n"
          ]
        },
        {
          "output_type": "stream",
          "name": "stdout",
          "text": [
            "[CV] END activation=tanh, hidden_layer_sizes=100, learning_rate=adaptive, max_iter=400, solver=adam; total time=  27.5s\n"
          ]
        },
        {
          "output_type": "stream",
          "name": "stderr",
          "text": [
            "/usr/local/lib/python3.7/dist-packages/sklearn/neural_network/_multilayer_perceptron.py:696: ConvergenceWarning: Stochastic Optimizer: Maximum iterations (400) reached and the optimization hasn't converged yet.\n",
            "  ConvergenceWarning,\n"
          ]
        },
        {
          "output_type": "stream",
          "name": "stdout",
          "text": [
            "[CV] END activation=tanh, hidden_layer_sizes=100, learning_rate=adaptive, max_iter=400, solver=adam; total time=  27.2s\n"
          ]
        },
        {
          "output_type": "stream",
          "name": "stderr",
          "text": [
            "/usr/local/lib/python3.7/dist-packages/sklearn/neural_network/_multilayer_perceptron.py:696: ConvergenceWarning: Stochastic Optimizer: Maximum iterations (400) reached and the optimization hasn't converged yet.\n",
            "  ConvergenceWarning,\n"
          ]
        },
        {
          "output_type": "stream",
          "name": "stdout",
          "text": [
            "[CV] END activation=tanh, hidden_layer_sizes=100, learning_rate=adaptive, max_iter=400, solver=adam; total time=  27.3s\n"
          ]
        },
        {
          "output_type": "stream",
          "name": "stderr",
          "text": [
            "/usr/local/lib/python3.7/dist-packages/sklearn/neural_network/_multilayer_perceptron.py:696: ConvergenceWarning: Stochastic Optimizer: Maximum iterations (400) reached and the optimization hasn't converged yet.\n",
            "  ConvergenceWarning,\n"
          ]
        },
        {
          "output_type": "stream",
          "name": "stdout",
          "text": [
            "[CV] END activation=tanh, hidden_layer_sizes=100, learning_rate=adaptive, max_iter=400, solver=adam; total time=  27.2s\n"
          ]
        },
        {
          "output_type": "stream",
          "name": "stderr",
          "text": [
            "/usr/local/lib/python3.7/dist-packages/sklearn/neural_network/_multilayer_perceptron.py:696: ConvergenceWarning: Stochastic Optimizer: Maximum iterations (600) reached and the optimization hasn't converged yet.\n",
            "  ConvergenceWarning,\n"
          ]
        },
        {
          "output_type": "stream",
          "name": "stdout",
          "text": [
            "[CV] END activation=tanh, hidden_layer_sizes=100, learning_rate=adaptive, max_iter=600, solver=sgd; total time=  37.2s\n"
          ]
        },
        {
          "output_type": "stream",
          "name": "stderr",
          "text": [
            "/usr/local/lib/python3.7/dist-packages/sklearn/neural_network/_multilayer_perceptron.py:696: ConvergenceWarning: Stochastic Optimizer: Maximum iterations (600) reached and the optimization hasn't converged yet.\n",
            "  ConvergenceWarning,\n"
          ]
        },
        {
          "output_type": "stream",
          "name": "stdout",
          "text": [
            "[CV] END activation=tanh, hidden_layer_sizes=100, learning_rate=adaptive, max_iter=600, solver=sgd; total time=  37.3s\n"
          ]
        },
        {
          "output_type": "stream",
          "name": "stderr",
          "text": [
            "/usr/local/lib/python3.7/dist-packages/sklearn/neural_network/_multilayer_perceptron.py:696: ConvergenceWarning: Stochastic Optimizer: Maximum iterations (600) reached and the optimization hasn't converged yet.\n",
            "  ConvergenceWarning,\n"
          ]
        },
        {
          "output_type": "stream",
          "name": "stdout",
          "text": [
            "[CV] END activation=tanh, hidden_layer_sizes=100, learning_rate=adaptive, max_iter=600, solver=sgd; total time=  37.3s\n"
          ]
        },
        {
          "output_type": "stream",
          "name": "stderr",
          "text": [
            "/usr/local/lib/python3.7/dist-packages/sklearn/neural_network/_multilayer_perceptron.py:696: ConvergenceWarning: Stochastic Optimizer: Maximum iterations (600) reached and the optimization hasn't converged yet.\n",
            "  ConvergenceWarning,\n"
          ]
        },
        {
          "output_type": "stream",
          "name": "stdout",
          "text": [
            "[CV] END activation=tanh, hidden_layer_sizes=100, learning_rate=adaptive, max_iter=600, solver=sgd; total time=  37.4s\n"
          ]
        },
        {
          "output_type": "stream",
          "name": "stderr",
          "text": [
            "/usr/local/lib/python3.7/dist-packages/sklearn/neural_network/_multilayer_perceptron.py:696: ConvergenceWarning: Stochastic Optimizer: Maximum iterations (600) reached and the optimization hasn't converged yet.\n",
            "  ConvergenceWarning,\n"
          ]
        },
        {
          "output_type": "stream",
          "name": "stdout",
          "text": [
            "[CV] END activation=tanh, hidden_layer_sizes=100, learning_rate=adaptive, max_iter=600, solver=sgd; total time=  37.1s\n"
          ]
        },
        {
          "output_type": "stream",
          "name": "stderr",
          "text": [
            "/usr/local/lib/python3.7/dist-packages/sklearn/neural_network/_multilayer_perceptron.py:696: ConvergenceWarning: Stochastic Optimizer: Maximum iterations (600) reached and the optimization hasn't converged yet.\n",
            "  ConvergenceWarning,\n"
          ]
        },
        {
          "output_type": "stream",
          "name": "stdout",
          "text": [
            "[CV] END activation=tanh, hidden_layer_sizes=100, learning_rate=adaptive, max_iter=600, solver=adam; total time=  41.0s\n"
          ]
        },
        {
          "output_type": "stream",
          "name": "stderr",
          "text": [
            "/usr/local/lib/python3.7/dist-packages/sklearn/neural_network/_multilayer_perceptron.py:696: ConvergenceWarning: Stochastic Optimizer: Maximum iterations (600) reached and the optimization hasn't converged yet.\n",
            "  ConvergenceWarning,\n"
          ]
        },
        {
          "output_type": "stream",
          "name": "stdout",
          "text": [
            "[CV] END activation=tanh, hidden_layer_sizes=100, learning_rate=adaptive, max_iter=600, solver=adam; total time=  40.9s\n"
          ]
        },
        {
          "output_type": "stream",
          "name": "stderr",
          "text": [
            "/usr/local/lib/python3.7/dist-packages/sklearn/neural_network/_multilayer_perceptron.py:696: ConvergenceWarning: Stochastic Optimizer: Maximum iterations (600) reached and the optimization hasn't converged yet.\n",
            "  ConvergenceWarning,\n"
          ]
        },
        {
          "output_type": "stream",
          "name": "stdout",
          "text": [
            "[CV] END activation=tanh, hidden_layer_sizes=100, learning_rate=adaptive, max_iter=600, solver=adam; total time=  40.8s\n"
          ]
        },
        {
          "output_type": "stream",
          "name": "stderr",
          "text": [
            "/usr/local/lib/python3.7/dist-packages/sklearn/neural_network/_multilayer_perceptron.py:696: ConvergenceWarning: Stochastic Optimizer: Maximum iterations (600) reached and the optimization hasn't converged yet.\n",
            "  ConvergenceWarning,\n"
          ]
        },
        {
          "output_type": "stream",
          "name": "stdout",
          "text": [
            "[CV] END activation=tanh, hidden_layer_sizes=100, learning_rate=adaptive, max_iter=600, solver=adam; total time=  41.0s\n"
          ]
        },
        {
          "output_type": "stream",
          "name": "stderr",
          "text": [
            "/usr/local/lib/python3.7/dist-packages/sklearn/neural_network/_multilayer_perceptron.py:696: ConvergenceWarning: Stochastic Optimizer: Maximum iterations (600) reached and the optimization hasn't converged yet.\n",
            "  ConvergenceWarning,\n"
          ]
        },
        {
          "output_type": "stream",
          "name": "stdout",
          "text": [
            "[CV] END activation=tanh, hidden_layer_sizes=100, learning_rate=adaptive, max_iter=600, solver=adam; total time=  40.9s\n",
            "[CV] END activation=tanh, hidden_layer_sizes=200, learning_rate=constant, max_iter=200, solver=sgd; total time=  13.1s\n"
          ]
        },
        {
          "output_type": "stream",
          "name": "stderr",
          "text": [
            "/usr/local/lib/python3.7/dist-packages/sklearn/neural_network/_multilayer_perceptron.py:696: ConvergenceWarning: Stochastic Optimizer: Maximum iterations (200) reached and the optimization hasn't converged yet.\n",
            "  ConvergenceWarning,\n"
          ]
        },
        {
          "output_type": "stream",
          "name": "stdout",
          "text": [
            "[CV] END activation=tanh, hidden_layer_sizes=200, learning_rate=constant, max_iter=200, solver=sgd; total time=  21.5s\n",
            "[CV] END activation=tanh, hidden_layer_sizes=200, learning_rate=constant, max_iter=200, solver=sgd; total time=  16.3s\n"
          ]
        },
        {
          "output_type": "stream",
          "name": "stderr",
          "text": [
            "/usr/local/lib/python3.7/dist-packages/sklearn/neural_network/_multilayer_perceptron.py:696: ConvergenceWarning: Stochastic Optimizer: Maximum iterations (200) reached and the optimization hasn't converged yet.\n",
            "  ConvergenceWarning,\n"
          ]
        },
        {
          "output_type": "stream",
          "name": "stdout",
          "text": [
            "[CV] END activation=tanh, hidden_layer_sizes=200, learning_rate=constant, max_iter=200, solver=sgd; total time=  21.4s\n"
          ]
        },
        {
          "output_type": "stream",
          "name": "stderr",
          "text": [
            "/usr/local/lib/python3.7/dist-packages/sklearn/neural_network/_multilayer_perceptron.py:696: ConvergenceWarning: Stochastic Optimizer: Maximum iterations (200) reached and the optimization hasn't converged yet.\n",
            "  ConvergenceWarning,\n"
          ]
        },
        {
          "output_type": "stream",
          "name": "stdout",
          "text": [
            "[CV] END activation=tanh, hidden_layer_sizes=200, learning_rate=constant, max_iter=200, solver=sgd; total time=  21.4s\n"
          ]
        },
        {
          "output_type": "stream",
          "name": "stderr",
          "text": [
            "/usr/local/lib/python3.7/dist-packages/sklearn/neural_network/_multilayer_perceptron.py:696: ConvergenceWarning: Stochastic Optimizer: Maximum iterations (200) reached and the optimization hasn't converged yet.\n",
            "  ConvergenceWarning,\n"
          ]
        },
        {
          "output_type": "stream",
          "name": "stdout",
          "text": [
            "[CV] END activation=tanh, hidden_layer_sizes=200, learning_rate=constant, max_iter=200, solver=adam; total time=  23.5s\n"
          ]
        },
        {
          "output_type": "stream",
          "name": "stderr",
          "text": [
            "/usr/local/lib/python3.7/dist-packages/sklearn/neural_network/_multilayer_perceptron.py:696: ConvergenceWarning: Stochastic Optimizer: Maximum iterations (200) reached and the optimization hasn't converged yet.\n",
            "  ConvergenceWarning,\n"
          ]
        },
        {
          "output_type": "stream",
          "name": "stdout",
          "text": [
            "[CV] END activation=tanh, hidden_layer_sizes=200, learning_rate=constant, max_iter=200, solver=adam; total time=  23.9s\n"
          ]
        },
        {
          "output_type": "stream",
          "name": "stderr",
          "text": [
            "/usr/local/lib/python3.7/dist-packages/sklearn/neural_network/_multilayer_perceptron.py:696: ConvergenceWarning: Stochastic Optimizer: Maximum iterations (200) reached and the optimization hasn't converged yet.\n",
            "  ConvergenceWarning,\n"
          ]
        },
        {
          "output_type": "stream",
          "name": "stdout",
          "text": [
            "[CV] END activation=tanh, hidden_layer_sizes=200, learning_rate=constant, max_iter=200, solver=adam; total time=  23.6s\n"
          ]
        },
        {
          "output_type": "stream",
          "name": "stderr",
          "text": [
            "/usr/local/lib/python3.7/dist-packages/sklearn/neural_network/_multilayer_perceptron.py:696: ConvergenceWarning: Stochastic Optimizer: Maximum iterations (200) reached and the optimization hasn't converged yet.\n",
            "  ConvergenceWarning,\n"
          ]
        },
        {
          "output_type": "stream",
          "name": "stdout",
          "text": [
            "[CV] END activation=tanh, hidden_layer_sizes=200, learning_rate=constant, max_iter=200, solver=adam; total time=  23.7s\n"
          ]
        },
        {
          "output_type": "stream",
          "name": "stderr",
          "text": [
            "/usr/local/lib/python3.7/dist-packages/sklearn/neural_network/_multilayer_perceptron.py:696: ConvergenceWarning: Stochastic Optimizer: Maximum iterations (200) reached and the optimization hasn't converged yet.\n",
            "  ConvergenceWarning,\n"
          ]
        },
        {
          "output_type": "stream",
          "name": "stdout",
          "text": [
            "[CV] END activation=tanh, hidden_layer_sizes=200, learning_rate=constant, max_iter=200, solver=adam; total time=  23.5s\n",
            "[CV] END activation=tanh, hidden_layer_sizes=200, learning_rate=constant, max_iter=400, solver=sgd; total time=  17.4s\n",
            "[CV] END activation=tanh, hidden_layer_sizes=200, learning_rate=constant, max_iter=400, solver=sgd; total time=  37.6s\n",
            "[CV] END activation=tanh, hidden_layer_sizes=200, learning_rate=constant, max_iter=400, solver=sgd; total time=  24.0s\n"
          ]
        }
      ]
    },
    {
      "cell_type": "code",
      "source": [
        "grid_search.best_estimator_"
      ],
      "metadata": {
        "execution": {
          "iopub.status.busy": "2022-04-15T16:24:52.632494Z",
          "iopub.execute_input": "2022-04-15T16:24:52.634642Z",
          "iopub.status.idle": "2022-04-15T16:24:52.643655Z",
          "shell.execute_reply.started": "2022-04-15T16:24:52.634599Z",
          "shell.execute_reply": "2022-04-15T16:24:52.642433Z"
        },
        "trusted": true,
        "id": "rtNjPPhtll2W"
      },
      "execution_count": null,
      "outputs": []
    },
    {
      "cell_type": "code",
      "source": [
        "# Train K-nearest Neighbors classifier \n",
        "# mlp_classifier = grid_search.best_estimator_\n",
        "mlp_classifier = MLPClassifier(hidden_layer_sizes=300, learning_rate='invscaling', max_iter=600)\n",
        "mlp_classifier.fit(x_resample, y_resample)\n",
        "# Check out the confusion matrix \n",
        "y_train_predictions = cross_val_predict(mlp_classifier, x_resample, y_resample, cv=5)\n",
        "conf_mat = confusion_matrix(y_resample, y_train_predictions)\n",
        "# Calculate the precision and recall score, f1_score \n",
        "precision = precision_score(y_resample, y_train_predictions)\n",
        "recall = recall_score(y_resample, y_train_predictions)\n",
        "f1 = f1_score(y_resample, y_train_predictions)\n",
        "roc_auc = roc_auc_score(y_resample, y_train_predictions)\n",
        "print('Precision ', precision)\n",
        "print('Recall ', recall)\n",
        "print('F1 ', f1)\n",
        "print('ROC_AUC ', roc_auc)\n",
        "print(conf_mat)"
      ],
      "metadata": {
        "execution": {
          "iopub.status.busy": "2022-04-15T17:30:54.364723Z",
          "iopub.execute_input": "2022-04-15T17:30:54.365194Z",
          "iopub.status.idle": "2022-04-15T17:34:12.731465Z",
          "shell.execute_reply.started": "2022-04-15T17:30:54.365154Z",
          "shell.execute_reply": "2022-04-15T17:34:12.730764Z"
        },
        "trusted": true,
        "colab": {
          "base_uri": "https://localhost:8080/"
        },
        "id": "YCWXigEkll2W",
        "outputId": "835af299-657d-4639-fbff-b945fbd29e0b"
      },
      "execution_count": 14,
      "outputs": [
        {
          "output_type": "stream",
          "name": "stdout",
          "text": [
            "Precision  0.9500611995104039\n",
            "Recall  0.9951282051282051\n",
            "F1  0.9720726361928617\n",
            "ROC_AUC  0.9714102564102565\n",
            "[[3696  204]\n",
            " [  19 3881]]\n"
          ]
        }
      ]
    },
    {
      "cell_type": "code",
      "source": [
        "# Function to train final models\n",
        "def train_final_models(X_train, y_train):\n",
        "    accuracy = []\n",
        "    f1 = []\n",
        "    models = []\n",
        "    models.append(KNeighborsClassifier(n_neighbors=4, weights='distance'))\n",
        "    models.append(LogisticRegression())\n",
        "    models.append(RandomForestClassifier(criterion= 'entropy', max_features= 'log2', n_estimators=300))\n",
        "    models.append(MLPClassifier(hidden_layer_sizes=300, learning_rate='invscaling', max_iter=600))\n",
        "    \n",
        "    for model in models:\n",
        "        model_i = model \n",
        "        model.fit(X_train, y_train)\n",
        "        prediction = model.predict(X_test)\n",
        "        accuracy.append((round(accuracy_score(y_test, prediction), 2)) * 100)\n",
        "        f1.append((round(f1_score(y_test, prediction), 2)) * 100)\n",
        "        \n",
        "        print(f'Model: {model}')\n",
        "        print(f'Accuracy: {accuracy_score(y_test, prediction)}')\n",
        "        print(f'F1 Score: {f1_score(y_test, prediction)}')\n",
        "        print('\\n')\n",
        "        "
      ],
      "metadata": {
        "execution": {
          "iopub.status.busy": "2022-04-16T05:50:47.873868Z",
          "iopub.execute_input": "2022-04-16T05:50:47.874123Z",
          "iopub.status.idle": "2022-04-16T05:50:47.881983Z",
          "shell.execute_reply.started": "2022-04-16T05:50:47.874094Z",
          "shell.execute_reply": "2022-04-16T05:50:47.881344Z"
        },
        "trusted": true,
        "id": "NRu3vmWall2W"
      },
      "execution_count": 15,
      "outputs": []
    },
    {
      "cell_type": "code",
      "source": [
        "train_final_models(x_resample, y_resample)"
      ],
      "metadata": {
        "execution": {
          "iopub.status.busy": "2022-04-16T05:50:51.771409Z",
          "iopub.execute_input": "2022-04-16T05:50:51.771858Z",
          "iopub.status.idle": "2022-04-16T05:51:27.853852Z",
          "shell.execute_reply.started": "2022-04-16T05:50:51.771822Z",
          "shell.execute_reply": "2022-04-16T05:51:27.853152Z"
        },
        "trusted": true,
        "colab": {
          "base_uri": "https://localhost:8080/"
        },
        "id": "97mLVqnQll2X",
        "outputId": "3056732d-b423-4621-947e-c1be06d7f080"
      },
      "execution_count": 16,
      "outputs": [
        {
          "output_type": "stream",
          "name": "stdout",
          "text": [
            "Model: KNeighborsClassifier(n_neighbors=4, weights='distance')\n",
            "Accuracy: 0.8414872798434442\n",
            "F1 Score: 0.18181818181818182\n",
            "\n",
            "\n",
            "Model: LogisticRegression()\n",
            "Accuracy: 0.7426614481409002\n",
            "F1 Score: 0.27548209366391185\n",
            "\n",
            "\n"
          ]
        },
        {
          "output_type": "stream",
          "name": "stderr",
          "text": [
            "/usr/local/lib/python3.7/dist-packages/sklearn/linear_model/_logistic.py:818: ConvergenceWarning: lbfgs failed to converge (status=1):\n",
            "STOP: TOTAL NO. of ITERATIONS REACHED LIMIT.\n",
            "\n",
            "Increase the number of iterations (max_iter) or scale the data as shown in:\n",
            "    https://scikit-learn.org/stable/modules/preprocessing.html\n",
            "Please also refer to the documentation for alternative solver options:\n",
            "    https://scikit-learn.org/stable/modules/linear_model.html#logistic-regression\n",
            "  extra_warning_msg=_LOGISTIC_SOLVER_CONVERGENCE_MSG,\n"
          ]
        },
        {
          "output_type": "stream",
          "name": "stdout",
          "text": [
            "Model: RandomForestClassifier(criterion='entropy', max_features='log2',\n",
            "                       n_estimators=300)\n",
            "Accuracy: 0.9197651663405088\n",
            "F1 Score: 0.06818181818181818\n",
            "\n",
            "\n",
            "Model: MLPClassifier(hidden_layer_sizes=300, learning_rate='invscaling', max_iter=600)\n",
            "Accuracy: 0.9050880626223092\n",
            "F1 Score: 0.11009174311926605\n",
            "\n",
            "\n"
          ]
        }
      ]
    },
    {
      "cell_type": "code",
      "source": [
        "# Train the final model and test it, not fine-tuned\n",
        "rf_classifier = RandomForestClassifier(random_state=42)\n",
        "rf_classifier.fit(x_resample, y_resample)\n",
        "prediction = rf_classifier.predict(X_test)\n",
        "accuracy = (round(accuracy_score(y_test, prediction), 2)) * 100 \n",
        "f1score = (round(f1_score(y_test, prediction), 2)) * 100\n",
        "print('Accuracy ', accuracy)\n",
        "print('F1-Score ', f1score)"
      ],
      "metadata": {
        "execution": {
          "iopub.status.busy": "2022-04-16T06:03:02.076865Z",
          "iopub.execute_input": "2022-04-16T06:03:02.077133Z",
          "iopub.status.idle": "2022-04-16T06:03:03.015254Z",
          "shell.execute_reply.started": "2022-04-16T06:03:02.077103Z",
          "shell.execute_reply": "2022-04-16T06:03:03.013602Z"
        },
        "trusted": true,
        "colab": {
          "base_uri": "https://localhost:8080/"
        },
        "id": "3m6fmyyVll2X",
        "outputId": "9cc1c128-472a-43d7-f15a-848481382b45"
      },
      "execution_count": 17,
      "outputs": [
        {
          "output_type": "stream",
          "name": "stdout",
          "text": [
            "Accuracy  92.0\n",
            "F1-Score  7.000000000000001\n"
          ]
        }
      ]
    },
    {
      "cell_type": "code",
      "source": [
        "# Train the final model and test it, fine-tuned\n",
        "rf_classifier = RandomForestClassifier(criterion='entropy', max_features='log2', n_estimators=300, random_state=42)\n",
        "rf_classifier.fit(x_resample, y_resample)\n",
        "prediction = rf_classifier.predict(X_test)\n",
        "accuracy = (round(accuracy_score(y_test, prediction), 2)) * 100 \n",
        "f1score = (round(f1_score(y_test, prediction), 2)) * 100\n",
        "print('Accuracy ', accuracy)\n",
        "print('F1-Score ', f1score)"
      ],
      "metadata": {
        "execution": {
          "iopub.status.busy": "2022-04-16T06:03:07.599519Z",
          "iopub.execute_input": "2022-04-16T06:03:07.600247Z",
          "iopub.status.idle": "2022-04-16T06:03:11.117731Z",
          "shell.execute_reply.started": "2022-04-16T06:03:07.600207Z",
          "shell.execute_reply": "2022-04-16T06:03:11.116954Z"
        },
        "trusted": true,
        "colab": {
          "base_uri": "https://localhost:8080/"
        },
        "id": "vKeFcYv3ll2X",
        "outputId": "546ff437-90e4-43e8-a0ed-89518f337b4e"
      },
      "execution_count": 18,
      "outputs": [
        {
          "output_type": "stream",
          "name": "stdout",
          "text": [
            "Accuracy  92.0\n",
            "F1-Score  7.000000000000001\n"
          ]
        }
      ]
    },
    {
      "cell_type": "code",
      "source": [
        "# Compile and save the final model\n",
        "dump(rf_classifier, './final_classifier.joblib')"
      ],
      "metadata": {
        "execution": {
          "iopub.status.busy": "2022-04-16T06:12:16.05612Z",
          "iopub.execute_input": "2022-04-16T06:12:16.056395Z",
          "iopub.status.idle": "2022-04-16T06:12:16.217959Z",
          "shell.execute_reply.started": "2022-04-16T06:12:16.056366Z",
          "shell.execute_reply": "2022-04-16T06:12:16.217319Z"
        },
        "trusted": true,
        "colab": {
          "base_uri": "https://localhost:8080/"
        },
        "id": "VJP9STeAll2X",
        "outputId": "dbab1dca-d5c9-4ca4-e8c5-c0c8de2025e6"
      },
      "execution_count": 19,
      "outputs": [
        {
          "output_type": "execute_result",
          "data": {
            "text/plain": [
              "['./final_classifier.joblib']"
            ]
          },
          "metadata": {},
          "execution_count": 19
        }
      ]
    },
    {
      "cell_type": "code",
      "source": [
        ""
      ],
      "metadata": {
        "id": "PGtPexW3DPOF"
      },
      "execution_count": null,
      "outputs": []
    }
  ]
}